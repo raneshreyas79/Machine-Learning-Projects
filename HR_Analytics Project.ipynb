{
 "cells": [
  {
   "cell_type": "code",
   "execution_count": 1,
   "id": "3726d302",
   "metadata": {
    "id": "3726d302"
   },
   "outputs": [],
   "source": [
    "import numpy as np\n",
    "import pandas as pd\n",
    "import seaborn as sns\n",
    "import matplotlib.pyplot as plt"
   ]
  },
  {
   "cell_type": "code",
   "execution_count": 2,
   "id": "9d19f4bb",
   "metadata": {
    "id": "9d19f4bb"
   },
   "outputs": [],
   "source": [
    "df = pd.read_csv('people.csv')"
   ]
  },
  {
   "cell_type": "code",
   "execution_count": 3,
   "id": "05bc9d1a",
   "metadata": {
    "colab": {
     "base_uri": "https://localhost:8080/",
     "height": 226
    },
    "id": "05bc9d1a",
    "outputId": "48a67b9d-75c0-4601-9aac-77d240a2596d"
   },
   "outputs": [
    {
     "data": {
      "text/html": [
       "<div>\n",
       "<style scoped>\n",
       "    .dataframe tbody tr th:only-of-type {\n",
       "        vertical-align: middle;\n",
       "    }\n",
       "\n",
       "    .dataframe tbody tr th {\n",
       "        vertical-align: top;\n",
       "    }\n",
       "\n",
       "    .dataframe thead th {\n",
       "        text-align: right;\n",
       "    }\n",
       "</style>\n",
       "<table border=\"1\" class=\"dataframe\">\n",
       "  <thead>\n",
       "    <tr style=\"text-align: right;\">\n",
       "      <th></th>\n",
       "      <th>satisfactoryLevel</th>\n",
       "      <th>lastEvaluation</th>\n",
       "      <th>numberOfProjects</th>\n",
       "      <th>avgMonthlyHours</th>\n",
       "      <th>timeSpent.company</th>\n",
       "      <th>workAccident</th>\n",
       "      <th>left</th>\n",
       "      <th>promotionInLast5years</th>\n",
       "      <th>dept</th>\n",
       "      <th>salary</th>\n",
       "    </tr>\n",
       "  </thead>\n",
       "  <tbody>\n",
       "    <tr>\n",
       "      <th>0</th>\n",
       "      <td>0.38</td>\n",
       "      <td>0.53</td>\n",
       "      <td>2</td>\n",
       "      <td>157</td>\n",
       "      <td>3</td>\n",
       "      <td>0</td>\n",
       "      <td>1</td>\n",
       "      <td>0</td>\n",
       "      <td>sales</td>\n",
       "      <td>low</td>\n",
       "    </tr>\n",
       "    <tr>\n",
       "      <th>1</th>\n",
       "      <td>0.80</td>\n",
       "      <td>0.86</td>\n",
       "      <td>5</td>\n",
       "      <td>262</td>\n",
       "      <td>6</td>\n",
       "      <td>0</td>\n",
       "      <td>1</td>\n",
       "      <td>0</td>\n",
       "      <td>sales</td>\n",
       "      <td>medium</td>\n",
       "    </tr>\n",
       "    <tr>\n",
       "      <th>2</th>\n",
       "      <td>0.11</td>\n",
       "      <td>0.88</td>\n",
       "      <td>7</td>\n",
       "      <td>272</td>\n",
       "      <td>4</td>\n",
       "      <td>0</td>\n",
       "      <td>1</td>\n",
       "      <td>0</td>\n",
       "      <td>sales</td>\n",
       "      <td>medium</td>\n",
       "    </tr>\n",
       "    <tr>\n",
       "      <th>3</th>\n",
       "      <td>0.37</td>\n",
       "      <td>0.52</td>\n",
       "      <td>2</td>\n",
       "      <td>159</td>\n",
       "      <td>3</td>\n",
       "      <td>0</td>\n",
       "      <td>1</td>\n",
       "      <td>0</td>\n",
       "      <td>sales</td>\n",
       "      <td>low</td>\n",
       "    </tr>\n",
       "    <tr>\n",
       "      <th>4</th>\n",
       "      <td>0.41</td>\n",
       "      <td>0.50</td>\n",
       "      <td>2</td>\n",
       "      <td>153</td>\n",
       "      <td>3</td>\n",
       "      <td>0</td>\n",
       "      <td>1</td>\n",
       "      <td>0</td>\n",
       "      <td>sales</td>\n",
       "      <td>low</td>\n",
       "    </tr>\n",
       "  </tbody>\n",
       "</table>\n",
       "</div>"
      ],
      "text/plain": [
       "   satisfactoryLevel  lastEvaluation  numberOfProjects  avgMonthlyHours  \\\n",
       "0               0.38            0.53                 2              157   \n",
       "1               0.80            0.86                 5              262   \n",
       "2               0.11            0.88                 7              272   \n",
       "3               0.37            0.52                 2              159   \n",
       "4               0.41            0.50                 2              153   \n",
       "\n",
       "   timeSpent.company  workAccident  left  promotionInLast5years   dept  salary  \n",
       "0                  3             0     1                      0  sales     low  \n",
       "1                  6             0     1                      0  sales  medium  \n",
       "2                  4             0     1                      0  sales  medium  \n",
       "3                  3             0     1                      0  sales     low  \n",
       "4                  3             0     1                      0  sales     low  "
      ]
     },
     "execution_count": 3,
     "metadata": {},
     "output_type": "execute_result"
    }
   ],
   "source": [
    "df.head()"
   ]
  },
  {
   "cell_type": "code",
   "execution_count": 4,
   "id": "f7cfec6f",
   "metadata": {
    "colab": {
     "base_uri": "https://localhost:8080/"
    },
    "id": "f7cfec6f",
    "outputId": "e101dad3-e7d8-4f47-ec5d-cf307f73ac8c"
   },
   "outputs": [
    {
     "data": {
      "text/plain": [
       "Index(['satisfactoryLevel', 'lastEvaluation', 'numberOfProjects',\n",
       "       'avgMonthlyHours', 'timeSpent.company', 'workAccident', 'left',\n",
       "       'promotionInLast5years', 'dept', 'salary'],\n",
       "      dtype='object')"
      ]
     },
     "execution_count": 4,
     "metadata": {},
     "output_type": "execute_result"
    }
   ],
   "source": [
    "df.columns\n"
   ]
  },
  {
   "cell_type": "code",
   "execution_count": 5,
   "id": "52fe06b6",
   "metadata": {},
   "outputs": [
    {
     "data": {
      "text/plain": [
       "0    11428\n",
       "1     3571\n",
       "Name: left, dtype: int64"
      ]
     },
     "execution_count": 5,
     "metadata": {},
     "output_type": "execute_result"
    }
   ],
   "source": [
    "df_count = df['left'].value_counts()\n",
    "df_count"
   ]
  },
  {
   "cell_type": "code",
   "execution_count": 6,
   "id": "99adbd35",
   "metadata": {
    "colab": {
     "base_uri": "https://localhost:8080/"
    },
    "id": "99adbd35",
    "outputId": "b22842ca-99ba-443e-c820-4958e36a21ef"
   },
   "outputs": [
    {
     "data": {
      "text/plain": [
       "(14999, 10)"
      ]
     },
     "execution_count": 6,
     "metadata": {},
     "output_type": "execute_result"
    }
   ],
   "source": [
    "df.shape"
   ]
  },
  {
   "cell_type": "code",
   "execution_count": 7,
   "id": "e3ae86bc",
   "metadata": {
    "colab": {
     "base_uri": "https://localhost:8080/"
    },
    "id": "e3ae86bc",
    "outputId": "410d7af3-068c-41b7-a1ad-4333c3476190"
   },
   "outputs": [],
   "source": [
    "#df.duplicated().sum()"
   ]
  },
  {
   "cell_type": "code",
   "execution_count": 8,
   "id": "f068b413",
   "metadata": {
    "id": "f068b413"
   },
   "outputs": [],
   "source": [
    "#df1 = df.drop_duplicates()"
   ]
  },
  {
   "cell_type": "code",
   "execution_count": 9,
   "id": "45c94c26",
   "metadata": {
    "colab": {
     "base_uri": "https://localhost:8080/"
    },
    "id": "45c94c26",
    "outputId": "ca6b8cb5-bc8f-4c6e-ce0a-8f521b097b72"
   },
   "outputs": [
    {
     "data": {
      "text/plain": [
       "(14999, 10)"
      ]
     },
     "execution_count": 9,
     "metadata": {},
     "output_type": "execute_result"
    }
   ],
   "source": [
    "df.shape"
   ]
  },
  {
   "cell_type": "code",
   "execution_count": 10,
   "id": "7e3c4bb6",
   "metadata": {
    "id": "7e3c4bb6"
   },
   "outputs": [],
   "source": [
    "from scipy.constants import pi"
   ]
  },
  {
   "cell_type": "code",
   "execution_count": 11,
   "id": "90e88e3b",
   "metadata": {
    "colab": {
     "base_uri": "https://localhost:8080/",
     "height": 320
    },
    "id": "90e88e3b",
    "outputId": "6ff164ec-fe0b-411d-b3ee-f70d410cd427"
   },
   "outputs": [
    {
     "data": {
      "text/html": [
       "<div>\n",
       "<style scoped>\n",
       "    .dataframe tbody tr th:only-of-type {\n",
       "        vertical-align: middle;\n",
       "    }\n",
       "\n",
       "    .dataframe tbody tr th {\n",
       "        vertical-align: top;\n",
       "    }\n",
       "\n",
       "    .dataframe thead th {\n",
       "        text-align: right;\n",
       "    }\n",
       "</style>\n",
       "<table border=\"1\" class=\"dataframe\">\n",
       "  <thead>\n",
       "    <tr style=\"text-align: right;\">\n",
       "      <th></th>\n",
       "      <th>satisfactoryLevel</th>\n",
       "      <th>lastEvaluation</th>\n",
       "      <th>numberOfProjects</th>\n",
       "      <th>avgMonthlyHours</th>\n",
       "      <th>timeSpent.company</th>\n",
       "      <th>workAccident</th>\n",
       "      <th>left</th>\n",
       "      <th>promotionInLast5years</th>\n",
       "    </tr>\n",
       "  </thead>\n",
       "  <tbody>\n",
       "    <tr>\n",
       "      <th>count</th>\n",
       "      <td>14999.000000</td>\n",
       "      <td>14999.000000</td>\n",
       "      <td>14999.000000</td>\n",
       "      <td>14999.000000</td>\n",
       "      <td>14999.000000</td>\n",
       "      <td>14999.000000</td>\n",
       "      <td>14999.000000</td>\n",
       "      <td>14999.000000</td>\n",
       "    </tr>\n",
       "    <tr>\n",
       "      <th>mean</th>\n",
       "      <td>0.612834</td>\n",
       "      <td>0.716102</td>\n",
       "      <td>3.803054</td>\n",
       "      <td>201.050337</td>\n",
       "      <td>3.498233</td>\n",
       "      <td>0.144610</td>\n",
       "      <td>0.238083</td>\n",
       "      <td>0.021268</td>\n",
       "    </tr>\n",
       "    <tr>\n",
       "      <th>std</th>\n",
       "      <td>0.248631</td>\n",
       "      <td>0.171169</td>\n",
       "      <td>1.232592</td>\n",
       "      <td>49.943099</td>\n",
       "      <td>1.460136</td>\n",
       "      <td>0.351719</td>\n",
       "      <td>0.425924</td>\n",
       "      <td>0.144281</td>\n",
       "    </tr>\n",
       "    <tr>\n",
       "      <th>min</th>\n",
       "      <td>0.090000</td>\n",
       "      <td>0.360000</td>\n",
       "      <td>2.000000</td>\n",
       "      <td>96.000000</td>\n",
       "      <td>2.000000</td>\n",
       "      <td>0.000000</td>\n",
       "      <td>0.000000</td>\n",
       "      <td>0.000000</td>\n",
       "    </tr>\n",
       "    <tr>\n",
       "      <th>25%</th>\n",
       "      <td>0.440000</td>\n",
       "      <td>0.560000</td>\n",
       "      <td>3.000000</td>\n",
       "      <td>156.000000</td>\n",
       "      <td>3.000000</td>\n",
       "      <td>0.000000</td>\n",
       "      <td>0.000000</td>\n",
       "      <td>0.000000</td>\n",
       "    </tr>\n",
       "    <tr>\n",
       "      <th>50%</th>\n",
       "      <td>0.640000</td>\n",
       "      <td>0.720000</td>\n",
       "      <td>4.000000</td>\n",
       "      <td>200.000000</td>\n",
       "      <td>3.000000</td>\n",
       "      <td>0.000000</td>\n",
       "      <td>0.000000</td>\n",
       "      <td>0.000000</td>\n",
       "    </tr>\n",
       "    <tr>\n",
       "      <th>75%</th>\n",
       "      <td>0.820000</td>\n",
       "      <td>0.870000</td>\n",
       "      <td>5.000000</td>\n",
       "      <td>245.000000</td>\n",
       "      <td>4.000000</td>\n",
       "      <td>0.000000</td>\n",
       "      <td>0.000000</td>\n",
       "      <td>0.000000</td>\n",
       "    </tr>\n",
       "    <tr>\n",
       "      <th>max</th>\n",
       "      <td>1.000000</td>\n",
       "      <td>1.000000</td>\n",
       "      <td>7.000000</td>\n",
       "      <td>310.000000</td>\n",
       "      <td>10.000000</td>\n",
       "      <td>1.000000</td>\n",
       "      <td>1.000000</td>\n",
       "      <td>1.000000</td>\n",
       "    </tr>\n",
       "  </tbody>\n",
       "</table>\n",
       "</div>"
      ],
      "text/plain": [
       "       satisfactoryLevel  lastEvaluation  numberOfProjects  avgMonthlyHours  \\\n",
       "count       14999.000000    14999.000000      14999.000000     14999.000000   \n",
       "mean            0.612834        0.716102          3.803054       201.050337   \n",
       "std             0.248631        0.171169          1.232592        49.943099   \n",
       "min             0.090000        0.360000          2.000000        96.000000   \n",
       "25%             0.440000        0.560000          3.000000       156.000000   \n",
       "50%             0.640000        0.720000          4.000000       200.000000   \n",
       "75%             0.820000        0.870000          5.000000       245.000000   \n",
       "max             1.000000        1.000000          7.000000       310.000000   \n",
       "\n",
       "       timeSpent.company  workAccident          left  promotionInLast5years  \n",
       "count       14999.000000  14999.000000  14999.000000           14999.000000  \n",
       "mean            3.498233      0.144610      0.238083               0.021268  \n",
       "std             1.460136      0.351719      0.425924               0.144281  \n",
       "min             2.000000      0.000000      0.000000               0.000000  \n",
       "25%             3.000000      0.000000      0.000000               0.000000  \n",
       "50%             3.000000      0.000000      0.000000               0.000000  \n",
       "75%             4.000000      0.000000      0.000000               0.000000  \n",
       "max            10.000000      1.000000      1.000000               1.000000  "
      ]
     },
     "execution_count": 11,
     "metadata": {},
     "output_type": "execute_result"
    }
   ],
   "source": [
    "df.describe()"
   ]
  },
  {
   "cell_type": "code",
   "execution_count": 12,
   "id": "c33dee5c",
   "metadata": {
    "colab": {
     "base_uri": "https://localhost:8080/",
     "height": 414
    },
    "id": "c33dee5c",
    "outputId": "0709e39c-01b0-4a47-dcdc-9c6f6db0e49d"
   },
   "outputs": [
    {
     "data": {
      "text/html": [
       "<div>\n",
       "<style scoped>\n",
       "    .dataframe tbody tr th:only-of-type {\n",
       "        vertical-align: middle;\n",
       "    }\n",
       "\n",
       "    .dataframe tbody tr th {\n",
       "        vertical-align: top;\n",
       "    }\n",
       "\n",
       "    .dataframe thead th {\n",
       "        text-align: right;\n",
       "    }\n",
       "</style>\n",
       "<table border=\"1\" class=\"dataframe\">\n",
       "  <thead>\n",
       "    <tr style=\"text-align: right;\">\n",
       "      <th></th>\n",
       "      <th>satisfactoryLevel</th>\n",
       "      <th>lastEvaluation</th>\n",
       "      <th>numberOfProjects</th>\n",
       "      <th>avgMonthlyHours</th>\n",
       "      <th>timeSpent.company</th>\n",
       "      <th>workAccident</th>\n",
       "      <th>left</th>\n",
       "      <th>promotionInLast5years</th>\n",
       "      <th>dept</th>\n",
       "      <th>salary</th>\n",
       "    </tr>\n",
       "  </thead>\n",
       "  <tbody>\n",
       "    <tr>\n",
       "      <th>count</th>\n",
       "      <td>14999.000000</td>\n",
       "      <td>14999.000000</td>\n",
       "      <td>14999.000000</td>\n",
       "      <td>14999.000000</td>\n",
       "      <td>14999.000000</td>\n",
       "      <td>14999.000000</td>\n",
       "      <td>14999.000000</td>\n",
       "      <td>14999.000000</td>\n",
       "      <td>14999</td>\n",
       "      <td>14999</td>\n",
       "    </tr>\n",
       "    <tr>\n",
       "      <th>unique</th>\n",
       "      <td>NaN</td>\n",
       "      <td>NaN</td>\n",
       "      <td>NaN</td>\n",
       "      <td>NaN</td>\n",
       "      <td>NaN</td>\n",
       "      <td>NaN</td>\n",
       "      <td>NaN</td>\n",
       "      <td>NaN</td>\n",
       "      <td>10</td>\n",
       "      <td>3</td>\n",
       "    </tr>\n",
       "    <tr>\n",
       "      <th>top</th>\n",
       "      <td>NaN</td>\n",
       "      <td>NaN</td>\n",
       "      <td>NaN</td>\n",
       "      <td>NaN</td>\n",
       "      <td>NaN</td>\n",
       "      <td>NaN</td>\n",
       "      <td>NaN</td>\n",
       "      <td>NaN</td>\n",
       "      <td>sales</td>\n",
       "      <td>low</td>\n",
       "    </tr>\n",
       "    <tr>\n",
       "      <th>freq</th>\n",
       "      <td>NaN</td>\n",
       "      <td>NaN</td>\n",
       "      <td>NaN</td>\n",
       "      <td>NaN</td>\n",
       "      <td>NaN</td>\n",
       "      <td>NaN</td>\n",
       "      <td>NaN</td>\n",
       "      <td>NaN</td>\n",
       "      <td>4140</td>\n",
       "      <td>7316</td>\n",
       "    </tr>\n",
       "    <tr>\n",
       "      <th>mean</th>\n",
       "      <td>0.612834</td>\n",
       "      <td>0.716102</td>\n",
       "      <td>3.803054</td>\n",
       "      <td>201.050337</td>\n",
       "      <td>3.498233</td>\n",
       "      <td>0.144610</td>\n",
       "      <td>0.238083</td>\n",
       "      <td>0.021268</td>\n",
       "      <td>NaN</td>\n",
       "      <td>NaN</td>\n",
       "    </tr>\n",
       "    <tr>\n",
       "      <th>std</th>\n",
       "      <td>0.248631</td>\n",
       "      <td>0.171169</td>\n",
       "      <td>1.232592</td>\n",
       "      <td>49.943099</td>\n",
       "      <td>1.460136</td>\n",
       "      <td>0.351719</td>\n",
       "      <td>0.425924</td>\n",
       "      <td>0.144281</td>\n",
       "      <td>NaN</td>\n",
       "      <td>NaN</td>\n",
       "    </tr>\n",
       "    <tr>\n",
       "      <th>min</th>\n",
       "      <td>0.090000</td>\n",
       "      <td>0.360000</td>\n",
       "      <td>2.000000</td>\n",
       "      <td>96.000000</td>\n",
       "      <td>2.000000</td>\n",
       "      <td>0.000000</td>\n",
       "      <td>0.000000</td>\n",
       "      <td>0.000000</td>\n",
       "      <td>NaN</td>\n",
       "      <td>NaN</td>\n",
       "    </tr>\n",
       "    <tr>\n",
       "      <th>25%</th>\n",
       "      <td>0.440000</td>\n",
       "      <td>0.560000</td>\n",
       "      <td>3.000000</td>\n",
       "      <td>156.000000</td>\n",
       "      <td>3.000000</td>\n",
       "      <td>0.000000</td>\n",
       "      <td>0.000000</td>\n",
       "      <td>0.000000</td>\n",
       "      <td>NaN</td>\n",
       "      <td>NaN</td>\n",
       "    </tr>\n",
       "    <tr>\n",
       "      <th>50%</th>\n",
       "      <td>0.640000</td>\n",
       "      <td>0.720000</td>\n",
       "      <td>4.000000</td>\n",
       "      <td>200.000000</td>\n",
       "      <td>3.000000</td>\n",
       "      <td>0.000000</td>\n",
       "      <td>0.000000</td>\n",
       "      <td>0.000000</td>\n",
       "      <td>NaN</td>\n",
       "      <td>NaN</td>\n",
       "    </tr>\n",
       "    <tr>\n",
       "      <th>75%</th>\n",
       "      <td>0.820000</td>\n",
       "      <td>0.870000</td>\n",
       "      <td>5.000000</td>\n",
       "      <td>245.000000</td>\n",
       "      <td>4.000000</td>\n",
       "      <td>0.000000</td>\n",
       "      <td>0.000000</td>\n",
       "      <td>0.000000</td>\n",
       "      <td>NaN</td>\n",
       "      <td>NaN</td>\n",
       "    </tr>\n",
       "    <tr>\n",
       "      <th>max</th>\n",
       "      <td>1.000000</td>\n",
       "      <td>1.000000</td>\n",
       "      <td>7.000000</td>\n",
       "      <td>310.000000</td>\n",
       "      <td>10.000000</td>\n",
       "      <td>1.000000</td>\n",
       "      <td>1.000000</td>\n",
       "      <td>1.000000</td>\n",
       "      <td>NaN</td>\n",
       "      <td>NaN</td>\n",
       "    </tr>\n",
       "  </tbody>\n",
       "</table>\n",
       "</div>"
      ],
      "text/plain": [
       "        satisfactoryLevel  lastEvaluation  numberOfProjects  avgMonthlyHours  \\\n",
       "count        14999.000000    14999.000000      14999.000000     14999.000000   \n",
       "unique                NaN             NaN               NaN              NaN   \n",
       "top                   NaN             NaN               NaN              NaN   \n",
       "freq                  NaN             NaN               NaN              NaN   \n",
       "mean             0.612834        0.716102          3.803054       201.050337   \n",
       "std              0.248631        0.171169          1.232592        49.943099   \n",
       "min              0.090000        0.360000          2.000000        96.000000   \n",
       "25%              0.440000        0.560000          3.000000       156.000000   \n",
       "50%              0.640000        0.720000          4.000000       200.000000   \n",
       "75%              0.820000        0.870000          5.000000       245.000000   \n",
       "max              1.000000        1.000000          7.000000       310.000000   \n",
       "\n",
       "        timeSpent.company  workAccident          left  promotionInLast5years  \\\n",
       "count        14999.000000  14999.000000  14999.000000           14999.000000   \n",
       "unique                NaN           NaN           NaN                    NaN   \n",
       "top                   NaN           NaN           NaN                    NaN   \n",
       "freq                  NaN           NaN           NaN                    NaN   \n",
       "mean             3.498233      0.144610      0.238083               0.021268   \n",
       "std              1.460136      0.351719      0.425924               0.144281   \n",
       "min              2.000000      0.000000      0.000000               0.000000   \n",
       "25%              3.000000      0.000000      0.000000               0.000000   \n",
       "50%              3.000000      0.000000      0.000000               0.000000   \n",
       "75%              4.000000      0.000000      0.000000               0.000000   \n",
       "max             10.000000      1.000000      1.000000               1.000000   \n",
       "\n",
       "         dept salary  \n",
       "count   14999  14999  \n",
       "unique     10      3  \n",
       "top     sales    low  \n",
       "freq     4140   7316  \n",
       "mean      NaN    NaN  \n",
       "std       NaN    NaN  \n",
       "min       NaN    NaN  \n",
       "25%       NaN    NaN  \n",
       "50%       NaN    NaN  \n",
       "75%       NaN    NaN  \n",
       "max       NaN    NaN  "
      ]
     },
     "execution_count": 12,
     "metadata": {},
     "output_type": "execute_result"
    }
   ],
   "source": [
    "df.describe(include='all')"
   ]
  },
  {
   "cell_type": "code",
   "execution_count": 13,
   "id": "310ffb54",
   "metadata": {
    "colab": {
     "base_uri": "https://localhost:8080/"
    },
    "id": "310ffb54",
    "outputId": "df204d32-6f0a-45d1-f798-59e78fab43d1"
   },
   "outputs": [
    {
     "data": {
      "text/plain": [
       "Index(['satisfactoryLevel', 'lastEvaluation', 'numberOfProjects',\n",
       "       'avgMonthlyHours', 'timeSpent.company', 'workAccident', 'left',\n",
       "       'promotionInLast5years', 'dept', 'salary'],\n",
       "      dtype='object')"
      ]
     },
     "execution_count": 13,
     "metadata": {},
     "output_type": "execute_result"
    }
   ],
   "source": [
    "df.columns"
   ]
  },
  {
   "cell_type": "markdown",
   "id": "6c99eb6f",
   "metadata": {
    "id": "6c99eb6f"
   },
   "source": [
    "## Data Visualisation"
   ]
  },
  {
   "cell_type": "markdown",
   "id": "18b84f7e",
   "metadata": {
    "id": "18b84f7e"
   },
   "source": [
    "### Plotting Histogram"
   ]
  },
  {
   "cell_type": "code",
   "execution_count": 14,
   "id": "63563712",
   "metadata": {
    "colab": {
     "base_uri": "https://localhost:8080/",
     "height": 445
    },
    "id": "63563712",
    "outputId": "802c18aa-b6fc-463f-d389-75c9eba24883"
   },
   "outputs": [
    {
     "data": {
      "image/png": "[encoded data removed]",
      "text/plain": [
       "<Figure size 1000x500 with 1 Axes>"
      ]
     },
     "metadata": {},
     "output_type": "display_data"
    }
   ],
   "source": [
    "plt.figure(figsize=(10,5))\n",
    "plt.hist(df['satisfactoryLevel'])\n",
    "plt.show()"
   ]
  },
  {
   "cell_type": "markdown",
   "id": "039526bd",
   "metadata": {
    "id": "039526bd"
   },
   "source": [
    "### Dist Plot"
   ]
  },
  {
   "cell_type": "code",
   "execution_count": 15,
   "id": "abf79cc2",
   "metadata": {
    "colab": {
     "base_uri": "https://localhost:8080/",
     "height": 657
    },
    "id": "abf79cc2",
    "outputId": "e3b0bf9e-6df9-49c4-d670-bd2abb64dfa7"
   },
   "outputs": [
    {
     "name": "stderr",
     "output_type": "stream",
     "text": [
      "C:\\Users\\Shreyas\\AppData\\Local\\Temp\\ipykernel_3036\\864860919.py:1: UserWarning: \n",
      "\n",
      "`distplot` is a deprecated function and will be removed in seaborn v0.14.0.\n",
      "\n",
      "Please adapt your code to use either `displot` (a figure-level function with\n",
      "similar flexibility) or `histplot` (an axes-level function for histograms).\n",
      "\n",
      "For a guide to updating your code to use the new functions, please see\n",
      "https://gist.github.com/mwaskom/de44147ed2974457ad6372750bbe5751\n",
      "\n",
      "  sns.distplot(df[\"satisfactoryLevel\"])\n"
     ]
    },
    {
     "data": {
      "text/plain": [
       "<AxesSubplot: xlabel='satisfactoryLevel', ylabel='Density'>"
      ]
     },
     "execution_count": 15,
     "metadata": {},
     "output_type": "execute_result"
    },
    {
     "data": {
      "image/png": "[encoded data removed]",
      "text/plain": [
       "<Figure size 640x480 with 1 Axes>"
      ]
     },
     "metadata": {},
     "output_type": "display_data"
    }
   ],
   "source": [
    "sns.distplot(df[\"satisfactoryLevel\"])"
   ]
  },
  {
   "cell_type": "code",
   "execution_count": 16,
   "id": "45297302",
   "metadata": {
    "colab": {
     "base_uri": "https://localhost:8080/"
    },
    "id": "45297302",
    "outputId": "24937950-e7fc-46a1-eb10-1339e8a99e56"
   },
   "outputs": [
    {
     "data": {
      "text/plain": [
       "satisfactoryLevel        0\n",
       "lastEvaluation           0\n",
       "numberOfProjects         0\n",
       "avgMonthlyHours          0\n",
       "timeSpent.company        0\n",
       "workAccident             0\n",
       "left                     0\n",
       "promotionInLast5years    0\n",
       "dept                     0\n",
       "salary                   0\n",
       "dtype: int64"
      ]
     },
     "execution_count": 16,
     "metadata": {},
     "output_type": "execute_result"
    }
   ],
   "source": [
    "df.isnull().sum()"
   ]
  },
  {
   "cell_type": "code",
   "execution_count": 17,
   "id": "d35f8551",
   "metadata": {
    "colab": {
     "base_uri": "https://localhost:8080/"
    },
    "id": "d35f8551",
    "outputId": "7b26f7b2-66bb-458b-e8d8-f5c68fb35b18"
   },
   "outputs": [
    {
     "name": "stdout",
     "output_type": "stream",
     "text": [
      "<class 'pandas.core.frame.DataFrame'>\n",
      "RangeIndex: 14999 entries, 0 to 14998\n",
      "Data columns (total 10 columns):\n",
      " #   Column                 Non-Null Count  Dtype  \n",
      "---  ------                 --------------  -----  \n",
      " 0   satisfactoryLevel      14999 non-null  float64\n",
      " 1   lastEvaluation         14999 non-null  float64\n",
      " 2   numberOfProjects       14999 non-null  int64  \n",
      " 3   avgMonthlyHours        14999 non-null  int64  \n",
      " 4   timeSpent.company      14999 non-null  int64  \n",
      " 5   workAccident           14999 non-null  int64  \n",
      " 6   left                   14999 non-null  int64  \n",
      " 7   promotionInLast5years  14999 non-null  int64  \n",
      " 8   dept                   14999 non-null  object \n",
      " 9   salary                 14999 non-null  object \n",
      "dtypes: float64(2), int64(6), object(2)\n",
      "memory usage: 1.1+ MB\n"
     ]
    }
   ],
   "source": [
    "df.info()"
   ]
  },
  {
   "cell_type": "code",
   "execution_count": 18,
   "id": "0810ab78",
   "metadata": {
    "colab": {
     "base_uri": "https://localhost:8080/"
    },
    "id": "0810ab78",
    "outputId": "2e61362a-0b7d-4ed9-e77e-8b87a6d1a15e"
   },
   "outputs": [
    {
     "data": {
      "text/plain": [
       "0        0.38\n",
       "1        0.80\n",
       "2        0.11\n",
       "3        0.37\n",
       "4        0.41\n",
       "         ... \n",
       "14994    0.11\n",
       "14995    0.99\n",
       "14996    0.72\n",
       "14997    0.24\n",
       "14998    0.77\n",
       "Name: satisfactoryLevel, Length: 14999, dtype: float64"
      ]
     },
     "execution_count": 18,
     "metadata": {},
     "output_type": "execute_result"
    }
   ],
   "source": [
    "df['satisfactoryLevel']"
   ]
  },
  {
   "cell_type": "code",
   "execution_count": 19,
   "id": "85030c39",
   "metadata": {
    "colab": {
     "base_uri": "https://localhost:8080/"
    },
    "id": "85030c39",
    "outputId": "12f399ef-482c-4d5c-a111-cfb9d9fccfb9"
   },
   "outputs": [
    {
     "data": {
      "text/plain": [
       "0           low\n",
       "1        medium\n",
       "2        medium\n",
       "3           low\n",
       "4           low\n",
       "          ...  \n",
       "14994    medium\n",
       "14995       low\n",
       "14996       low\n",
       "14997       low\n",
       "14998       low\n",
       "Name: salary, Length: 14999, dtype: object"
      ]
     },
     "execution_count": 19,
     "metadata": {},
     "output_type": "execute_result"
    }
   ],
   "source": [
    "df['salary']"
   ]
  },
  {
   "cell_type": "code",
   "execution_count": 20,
   "id": "922e570d",
   "metadata": {
    "id": "922e570d"
   },
   "outputs": [],
   "source": [
    "from sklearn.preprocessing import LabelEncoder\n",
    "le = LabelEncoder()"
   ]
  },
  {
   "cell_type": "code",
   "execution_count": 21,
   "id": "9a9e8f66",
   "metadata": {
    "colab": {
     "base_uri": "https://localhost:8080/"
    },
    "id": "9a9e8f66",
    "outputId": "98e1736c-9809-4530-b666-6a494e0529fa"
   },
   "outputs": [],
   "source": [
    "for col in df.columns:\n",
    "    if df[col].dtype==\"object\":\n",
    "        df[col]=le.fit_transform(df[col])"
   ]
  },
  {
   "cell_type": "code",
   "execution_count": 22,
   "id": "2dbcf567",
   "metadata": {
    "colab": {
     "base_uri": "https://localhost:8080/"
    },
    "id": "2dbcf567",
    "outputId": "31edc6ad-de34-4d99-8848-fa2ceb291c6c"
   },
   "outputs": [
    {
     "data": {
      "text/plain": [
       "0        1\n",
       "1        2\n",
       "2        2\n",
       "3        1\n",
       "4        1\n",
       "        ..\n",
       "14994    2\n",
       "14995    1\n",
       "14996    1\n",
       "14997    1\n",
       "14998    1\n",
       "Name: salary, Length: 14999, dtype: int32"
      ]
     },
     "execution_count": 22,
     "metadata": {},
     "output_type": "execute_result"
    }
   ],
   "source": [
    "df['salary']"
   ]
  },
  {
   "cell_type": "code",
   "execution_count": 23,
   "id": "ed8ea7e0",
   "metadata": {
    "colab": {
     "base_uri": "https://localhost:8080/",
     "height": 444
    },
    "id": "ed8ea7e0",
    "outputId": "c6f50ce1-93f3-4dc4-9b61-f93b55eaf812"
   },
   "outputs": [
    {
     "data": {
      "text/html": [
       "<div>\n",
       "<style scoped>\n",
       "    .dataframe tbody tr th:only-of-type {\n",
       "        vertical-align: middle;\n",
       "    }\n",
       "\n",
       "    .dataframe tbody tr th {\n",
       "        vertical-align: top;\n",
       "    }\n",
       "\n",
       "    .dataframe thead th {\n",
       "        text-align: right;\n",
       "    }\n",
       "</style>\n",
       "<table border=\"1\" class=\"dataframe\">\n",
       "  <thead>\n",
       "    <tr style=\"text-align: right;\">\n",
       "      <th></th>\n",
       "      <th>satisfactoryLevel</th>\n",
       "      <th>lastEvaluation</th>\n",
       "      <th>numberOfProjects</th>\n",
       "      <th>avgMonthlyHours</th>\n",
       "      <th>timeSpent.company</th>\n",
       "      <th>workAccident</th>\n",
       "      <th>left</th>\n",
       "      <th>promotionInLast5years</th>\n",
       "      <th>dept</th>\n",
       "      <th>salary</th>\n",
       "    </tr>\n",
       "  </thead>\n",
       "  <tbody>\n",
       "    <tr>\n",
       "      <th>0</th>\n",
       "      <td>0.38</td>\n",
       "      <td>0.53</td>\n",
       "      <td>2</td>\n",
       "      <td>157</td>\n",
       "      <td>3</td>\n",
       "      <td>0</td>\n",
       "      <td>1</td>\n",
       "      <td>0</td>\n",
       "      <td>7</td>\n",
       "      <td>1</td>\n",
       "    </tr>\n",
       "    <tr>\n",
       "      <th>1</th>\n",
       "      <td>0.80</td>\n",
       "      <td>0.86</td>\n",
       "      <td>5</td>\n",
       "      <td>262</td>\n",
       "      <td>6</td>\n",
       "      <td>0</td>\n",
       "      <td>1</td>\n",
       "      <td>0</td>\n",
       "      <td>7</td>\n",
       "      <td>2</td>\n",
       "    </tr>\n",
       "    <tr>\n",
       "      <th>2</th>\n",
       "      <td>0.11</td>\n",
       "      <td>0.88</td>\n",
       "      <td>7</td>\n",
       "      <td>272</td>\n",
       "      <td>4</td>\n",
       "      <td>0</td>\n",
       "      <td>1</td>\n",
       "      <td>0</td>\n",
       "      <td>7</td>\n",
       "      <td>2</td>\n",
       "    </tr>\n",
       "    <tr>\n",
       "      <th>3</th>\n",
       "      <td>0.37</td>\n",
       "      <td>0.52</td>\n",
       "      <td>2</td>\n",
       "      <td>159</td>\n",
       "      <td>3</td>\n",
       "      <td>0</td>\n",
       "      <td>1</td>\n",
       "      <td>0</td>\n",
       "      <td>7</td>\n",
       "      <td>1</td>\n",
       "    </tr>\n",
       "    <tr>\n",
       "      <th>4</th>\n",
       "      <td>0.41</td>\n",
       "      <td>0.50</td>\n",
       "      <td>2</td>\n",
       "      <td>153</td>\n",
       "      <td>3</td>\n",
       "      <td>0</td>\n",
       "      <td>1</td>\n",
       "      <td>0</td>\n",
       "      <td>7</td>\n",
       "      <td>1</td>\n",
       "    </tr>\n",
       "    <tr>\n",
       "      <th>...</th>\n",
       "      <td>...</td>\n",
       "      <td>...</td>\n",
       "      <td>...</td>\n",
       "      <td>...</td>\n",
       "      <td>...</td>\n",
       "      <td>...</td>\n",
       "      <td>...</td>\n",
       "      <td>...</td>\n",
       "      <td>...</td>\n",
       "      <td>...</td>\n",
       "    </tr>\n",
       "    <tr>\n",
       "      <th>14994</th>\n",
       "      <td>0.11</td>\n",
       "      <td>0.85</td>\n",
       "      <td>7</td>\n",
       "      <td>275</td>\n",
       "      <td>4</td>\n",
       "      <td>0</td>\n",
       "      <td>1</td>\n",
       "      <td>0</td>\n",
       "      <td>8</td>\n",
       "      <td>2</td>\n",
       "    </tr>\n",
       "    <tr>\n",
       "      <th>14995</th>\n",
       "      <td>0.99</td>\n",
       "      <td>0.83</td>\n",
       "      <td>4</td>\n",
       "      <td>274</td>\n",
       "      <td>2</td>\n",
       "      <td>0</td>\n",
       "      <td>0</td>\n",
       "      <td>0</td>\n",
       "      <td>7</td>\n",
       "      <td>1</td>\n",
       "    </tr>\n",
       "    <tr>\n",
       "      <th>14996</th>\n",
       "      <td>0.72</td>\n",
       "      <td>0.72</td>\n",
       "      <td>4</td>\n",
       "      <td>175</td>\n",
       "      <td>4</td>\n",
       "      <td>0</td>\n",
       "      <td>0</td>\n",
       "      <td>0</td>\n",
       "      <td>9</td>\n",
       "      <td>1</td>\n",
       "    </tr>\n",
       "    <tr>\n",
       "      <th>14997</th>\n",
       "      <td>0.24</td>\n",
       "      <td>0.91</td>\n",
       "      <td>5</td>\n",
       "      <td>177</td>\n",
       "      <td>5</td>\n",
       "      <td>0</td>\n",
       "      <td>0</td>\n",
       "      <td>0</td>\n",
       "      <td>7</td>\n",
       "      <td>1</td>\n",
       "    </tr>\n",
       "    <tr>\n",
       "      <th>14998</th>\n",
       "      <td>0.77</td>\n",
       "      <td>0.83</td>\n",
       "      <td>6</td>\n",
       "      <td>271</td>\n",
       "      <td>3</td>\n",
       "      <td>0</td>\n",
       "      <td>0</td>\n",
       "      <td>0</td>\n",
       "      <td>8</td>\n",
       "      <td>1</td>\n",
       "    </tr>\n",
       "  </tbody>\n",
       "</table>\n",
       "<p>14999 rows × 10 columns</p>\n",
       "</div>"
      ],
      "text/plain": [
       "       satisfactoryLevel  lastEvaluation  numberOfProjects  avgMonthlyHours  \\\n",
       "0                   0.38            0.53                 2              157   \n",
       "1                   0.80            0.86                 5              262   \n",
       "2                   0.11            0.88                 7              272   \n",
       "3                   0.37            0.52                 2              159   \n",
       "4                   0.41            0.50                 2              153   \n",
       "...                  ...             ...               ...              ...   \n",
       "14994               0.11            0.85                 7              275   \n",
       "14995               0.99            0.83                 4              274   \n",
       "14996               0.72            0.72                 4              175   \n",
       "14997               0.24            0.91                 5              177   \n",
       "14998               0.77            0.83                 6              271   \n",
       "\n",
       "       timeSpent.company  workAccident  left  promotionInLast5years  dept  \\\n",
       "0                      3             0     1                      0     7   \n",
       "1                      6             0     1                      0     7   \n",
       "2                      4             0     1                      0     7   \n",
       "3                      3             0     1                      0     7   \n",
       "4                      3             0     1                      0     7   \n",
       "...                  ...           ...   ...                    ...   ...   \n",
       "14994                  4             0     1                      0     8   \n",
       "14995                  2             0     0                      0     7   \n",
       "14996                  4             0     0                      0     9   \n",
       "14997                  5             0     0                      0     7   \n",
       "14998                  3             0     0                      0     8   \n",
       "\n",
       "       salary  \n",
       "0           1  \n",
       "1           2  \n",
       "2           2  \n",
       "3           1  \n",
       "4           1  \n",
       "...       ...  \n",
       "14994       2  \n",
       "14995       1  \n",
       "14996       1  \n",
       "14997       1  \n",
       "14998       1  \n",
       "\n",
       "[14999 rows x 10 columns]"
      ]
     },
     "execution_count": 23,
     "metadata": {},
     "output_type": "execute_result"
    }
   ],
   "source": [
    "df"
   ]
  },
  {
   "cell_type": "code",
   "execution_count": 24,
   "id": "4867a7a3",
   "metadata": {
    "colab": {
     "base_uri": "https://localhost:8080/",
     "height": 383
    },
    "id": "4867a7a3",
    "outputId": "c19dbabe-8187-43b2-ca3f-1208b6e6c1c3"
   },
   "outputs": [
    {
     "data": {
      "text/html": [
       "<div>\n",
       "<style scoped>\n",
       "    .dataframe tbody tr th:only-of-type {\n",
       "        vertical-align: middle;\n",
       "    }\n",
       "\n",
       "    .dataframe tbody tr th {\n",
       "        vertical-align: top;\n",
       "    }\n",
       "\n",
       "    .dataframe thead th {\n",
       "        text-align: right;\n",
       "    }\n",
       "</style>\n",
       "<table border=\"1\" class=\"dataframe\">\n",
       "  <thead>\n",
       "    <tr style=\"text-align: right;\">\n",
       "      <th></th>\n",
       "      <th>satisfactoryLevel</th>\n",
       "      <th>lastEvaluation</th>\n",
       "      <th>numberOfProjects</th>\n",
       "      <th>avgMonthlyHours</th>\n",
       "      <th>timeSpent.company</th>\n",
       "      <th>workAccident</th>\n",
       "      <th>left</th>\n",
       "      <th>promotionInLast5years</th>\n",
       "      <th>dept</th>\n",
       "      <th>salary</th>\n",
       "    </tr>\n",
       "  </thead>\n",
       "  <tbody>\n",
       "    <tr>\n",
       "      <th>satisfactoryLevel</th>\n",
       "      <td>1.000000</td>\n",
       "      <td>0.105021</td>\n",
       "      <td>-0.142970</td>\n",
       "      <td>-0.020048</td>\n",
       "      <td>-0.100866</td>\n",
       "      <td>0.058697</td>\n",
       "      <td>-0.388375</td>\n",
       "      <td>0.025605</td>\n",
       "      <td>0.003153</td>\n",
       "      <td>0.011754</td>\n",
       "    </tr>\n",
       "    <tr>\n",
       "      <th>lastEvaluation</th>\n",
       "      <td>0.105021</td>\n",
       "      <td>1.000000</td>\n",
       "      <td>0.349333</td>\n",
       "      <td>0.339742</td>\n",
       "      <td>0.131591</td>\n",
       "      <td>-0.007104</td>\n",
       "      <td>0.006567</td>\n",
       "      <td>-0.008684</td>\n",
       "      <td>0.007772</td>\n",
       "      <td>0.013965</td>\n",
       "    </tr>\n",
       "    <tr>\n",
       "      <th>numberOfProjects</th>\n",
       "      <td>-0.142970</td>\n",
       "      <td>0.349333</td>\n",
       "      <td>1.000000</td>\n",
       "      <td>0.417211</td>\n",
       "      <td>0.196786</td>\n",
       "      <td>-0.004741</td>\n",
       "      <td>0.023787</td>\n",
       "      <td>-0.006064</td>\n",
       "      <td>0.009268</td>\n",
       "      <td>0.009672</td>\n",
       "    </tr>\n",
       "    <tr>\n",
       "      <th>avgMonthlyHours</th>\n",
       "      <td>-0.020048</td>\n",
       "      <td>0.339742</td>\n",
       "      <td>0.417211</td>\n",
       "      <td>1.000000</td>\n",
       "      <td>0.127755</td>\n",
       "      <td>-0.010143</td>\n",
       "      <td>0.071287</td>\n",
       "      <td>-0.003544</td>\n",
       "      <td>0.003913</td>\n",
       "      <td>0.007082</td>\n",
       "    </tr>\n",
       "    <tr>\n",
       "      <th>timeSpent.company</th>\n",
       "      <td>-0.100866</td>\n",
       "      <td>0.131591</td>\n",
       "      <td>0.196786</td>\n",
       "      <td>0.127755</td>\n",
       "      <td>1.000000</td>\n",
       "      <td>0.002120</td>\n",
       "      <td>0.144822</td>\n",
       "      <td>0.067433</td>\n",
       "      <td>-0.018010</td>\n",
       "      <td>-0.003086</td>\n",
       "    </tr>\n",
       "    <tr>\n",
       "      <th>workAccident</th>\n",
       "      <td>0.058697</td>\n",
       "      <td>-0.007104</td>\n",
       "      <td>-0.004741</td>\n",
       "      <td>-0.010143</td>\n",
       "      <td>0.002120</td>\n",
       "      <td>1.000000</td>\n",
       "      <td>-0.154622</td>\n",
       "      <td>0.039245</td>\n",
       "      <td>0.003425</td>\n",
       "      <td>-0.002506</td>\n",
       "    </tr>\n",
       "    <tr>\n",
       "      <th>left</th>\n",
       "      <td>-0.388375</td>\n",
       "      <td>0.006567</td>\n",
       "      <td>0.023787</td>\n",
       "      <td>0.071287</td>\n",
       "      <td>0.144822</td>\n",
       "      <td>-0.154622</td>\n",
       "      <td>1.000000</td>\n",
       "      <td>-0.061788</td>\n",
       "      <td>0.032105</td>\n",
       "      <td>-0.001294</td>\n",
       "    </tr>\n",
       "    <tr>\n",
       "      <th>promotionInLast5years</th>\n",
       "      <td>0.025605</td>\n",
       "      <td>-0.008684</td>\n",
       "      <td>-0.006064</td>\n",
       "      <td>-0.003544</td>\n",
       "      <td>0.067433</td>\n",
       "      <td>0.039245</td>\n",
       "      <td>-0.061788</td>\n",
       "      <td>1.000000</td>\n",
       "      <td>-0.027336</td>\n",
       "      <td>-0.001318</td>\n",
       "    </tr>\n",
       "    <tr>\n",
       "      <th>dept</th>\n",
       "      <td>0.003153</td>\n",
       "      <td>0.007772</td>\n",
       "      <td>0.009268</td>\n",
       "      <td>0.003913</td>\n",
       "      <td>-0.018010</td>\n",
       "      <td>0.003425</td>\n",
       "      <td>0.032105</td>\n",
       "      <td>-0.027336</td>\n",
       "      <td>1.000000</td>\n",
       "      <td>0.000685</td>\n",
       "    </tr>\n",
       "    <tr>\n",
       "      <th>salary</th>\n",
       "      <td>0.011754</td>\n",
       "      <td>0.013965</td>\n",
       "      <td>0.009672</td>\n",
       "      <td>0.007082</td>\n",
       "      <td>-0.003086</td>\n",
       "      <td>-0.002506</td>\n",
       "      <td>-0.001294</td>\n",
       "      <td>-0.001318</td>\n",
       "      <td>0.000685</td>\n",
       "      <td>1.000000</td>\n",
       "    </tr>\n",
       "  </tbody>\n",
       "</table>\n",
       "</div>"
      ],
      "text/plain": [
       "                       satisfactoryLevel  lastEvaluation  numberOfProjects  \\\n",
       "satisfactoryLevel               1.000000        0.105021         -0.142970   \n",
       "lastEvaluation                  0.105021        1.000000          0.349333   \n",
       "numberOfProjects               -0.142970        0.349333          1.000000   \n",
       "avgMonthlyHours                -0.020048        0.339742          0.417211   \n",
       "timeSpent.company              -0.100866        0.131591          0.196786   \n",
       "workAccident                    0.058697       -0.007104         -0.004741   \n",
       "left                           -0.388375        0.006567          0.023787   \n",
       "promotionInLast5years           0.025605       -0.008684         -0.006064   \n",
       "dept                            0.003153        0.007772          0.009268   \n",
       "salary                          0.011754        0.013965          0.009672   \n",
       "\n",
       "                       avgMonthlyHours  timeSpent.company  workAccident  \\\n",
       "satisfactoryLevel            -0.020048          -0.100866      0.058697   \n",
       "lastEvaluation                0.339742           0.131591     -0.007104   \n",
       "numberOfProjects              0.417211           0.196786     -0.004741   \n",
       "avgMonthlyHours               1.000000           0.127755     -0.010143   \n",
       "timeSpent.company             0.127755           1.000000      0.002120   \n",
       "workAccident                 -0.010143           0.002120      1.000000   \n",
       "left                          0.071287           0.144822     -0.154622   \n",
       "promotionInLast5years        -0.003544           0.067433      0.039245   \n",
       "dept                          0.003913          -0.018010      0.003425   \n",
       "salary                        0.007082          -0.003086     -0.002506   \n",
       "\n",
       "                           left  promotionInLast5years      dept    salary  \n",
       "satisfactoryLevel     -0.388375               0.025605  0.003153  0.011754  \n",
       "lastEvaluation         0.006567              -0.008684  0.007772  0.013965  \n",
       "numberOfProjects       0.023787              -0.006064  0.009268  0.009672  \n",
       "avgMonthlyHours        0.071287              -0.003544  0.003913  0.007082  \n",
       "timeSpent.company      0.144822               0.067433 -0.018010 -0.003086  \n",
       "workAccident          -0.154622               0.039245  0.003425 -0.002506  \n",
       "left                   1.000000              -0.061788  0.032105 -0.001294  \n",
       "promotionInLast5years -0.061788               1.000000 -0.027336 -0.001318  \n",
       "dept                   0.032105              -0.027336  1.000000  0.000685  \n",
       "salary                -0.001294              -0.001318  0.000685  1.000000  "
      ]
     },
     "execution_count": 24,
     "metadata": {},
     "output_type": "execute_result"
    }
   ],
   "source": [
    "df.corr()"
   ]
  },
  {
   "cell_type": "code",
   "execution_count": 25,
   "id": "5f4f0b59",
   "metadata": {},
   "outputs": [],
   "source": [
    "#for col in df.columns:\n",
    "#    plt.boxplot(df[col])\n",
    "#    plt.xlabel(col)\n",
    "#    plt.show()"
   ]
  },
  {
   "cell_type": "code",
   "execution_count": 26,
   "id": "6822d092",
   "metadata": {},
   "outputs": [],
   "source": [
    "#for col in df.columns:\n",
    "#    Q1=df[col].quantile(0.25)\n",
    "#    Q3=df[col].quantile(0.75)\n",
    "#    IQR=Q3-Q1\n",
    "#    UW=Q3+1.5*IQR\n",
    "#    LW=Q1-1.5*IQR\n",
    "#    df=df[(df[col]>=LW) & (df[col]<=UW)]"
   ]
  },
  {
   "cell_type": "code",
   "execution_count": 27,
   "id": "6837102d",
   "metadata": {},
   "outputs": [
    {
     "data": {
      "text/html": [
       "<div>\n",
       "<style scoped>\n",
       "    .dataframe tbody tr th:only-of-type {\n",
       "        vertical-align: middle;\n",
       "    }\n",
       "\n",
       "    .dataframe tbody tr th {\n",
       "        vertical-align: top;\n",
       "    }\n",
       "\n",
       "    .dataframe thead th {\n",
       "        text-align: right;\n",
       "    }\n",
       "</style>\n",
       "<table border=\"1\" class=\"dataframe\">\n",
       "  <thead>\n",
       "    <tr style=\"text-align: right;\">\n",
       "      <th></th>\n",
       "      <th>satisfactoryLevel</th>\n",
       "      <th>lastEvaluation</th>\n",
       "      <th>numberOfProjects</th>\n",
       "      <th>avgMonthlyHours</th>\n",
       "      <th>timeSpent.company</th>\n",
       "      <th>workAccident</th>\n",
       "      <th>left</th>\n",
       "      <th>promotionInLast5years</th>\n",
       "      <th>dept</th>\n",
       "      <th>salary</th>\n",
       "    </tr>\n",
       "  </thead>\n",
       "  <tbody>\n",
       "    <tr>\n",
       "      <th>0</th>\n",
       "      <td>0.38</td>\n",
       "      <td>0.53</td>\n",
       "      <td>2</td>\n",
       "      <td>157</td>\n",
       "      <td>3</td>\n",
       "      <td>0</td>\n",
       "      <td>1</td>\n",
       "      <td>0</td>\n",
       "      <td>7</td>\n",
       "      <td>1</td>\n",
       "    </tr>\n",
       "    <tr>\n",
       "      <th>1</th>\n",
       "      <td>0.80</td>\n",
       "      <td>0.86</td>\n",
       "      <td>5</td>\n",
       "      <td>262</td>\n",
       "      <td>6</td>\n",
       "      <td>0</td>\n",
       "      <td>1</td>\n",
       "      <td>0</td>\n",
       "      <td>7</td>\n",
       "      <td>2</td>\n",
       "    </tr>\n",
       "    <tr>\n",
       "      <th>2</th>\n",
       "      <td>0.11</td>\n",
       "      <td>0.88</td>\n",
       "      <td>7</td>\n",
       "      <td>272</td>\n",
       "      <td>4</td>\n",
       "      <td>0</td>\n",
       "      <td>1</td>\n",
       "      <td>0</td>\n",
       "      <td>7</td>\n",
       "      <td>2</td>\n",
       "    </tr>\n",
       "    <tr>\n",
       "      <th>3</th>\n",
       "      <td>0.37</td>\n",
       "      <td>0.52</td>\n",
       "      <td>2</td>\n",
       "      <td>159</td>\n",
       "      <td>3</td>\n",
       "      <td>0</td>\n",
       "      <td>1</td>\n",
       "      <td>0</td>\n",
       "      <td>7</td>\n",
       "      <td>1</td>\n",
       "    </tr>\n",
       "    <tr>\n",
       "      <th>4</th>\n",
       "      <td>0.41</td>\n",
       "      <td>0.50</td>\n",
       "      <td>2</td>\n",
       "      <td>153</td>\n",
       "      <td>3</td>\n",
       "      <td>0</td>\n",
       "      <td>1</td>\n",
       "      <td>0</td>\n",
       "      <td>7</td>\n",
       "      <td>1</td>\n",
       "    </tr>\n",
       "    <tr>\n",
       "      <th>...</th>\n",
       "      <td>...</td>\n",
       "      <td>...</td>\n",
       "      <td>...</td>\n",
       "      <td>...</td>\n",
       "      <td>...</td>\n",
       "      <td>...</td>\n",
       "      <td>...</td>\n",
       "      <td>...</td>\n",
       "      <td>...</td>\n",
       "      <td>...</td>\n",
       "    </tr>\n",
       "    <tr>\n",
       "      <th>14994</th>\n",
       "      <td>0.11</td>\n",
       "      <td>0.85</td>\n",
       "      <td>7</td>\n",
       "      <td>275</td>\n",
       "      <td>4</td>\n",
       "      <td>0</td>\n",
       "      <td>1</td>\n",
       "      <td>0</td>\n",
       "      <td>8</td>\n",
       "      <td>2</td>\n",
       "    </tr>\n",
       "    <tr>\n",
       "      <th>14995</th>\n",
       "      <td>0.99</td>\n",
       "      <td>0.83</td>\n",
       "      <td>4</td>\n",
       "      <td>274</td>\n",
       "      <td>2</td>\n",
       "      <td>0</td>\n",
       "      <td>0</td>\n",
       "      <td>0</td>\n",
       "      <td>7</td>\n",
       "      <td>1</td>\n",
       "    </tr>\n",
       "    <tr>\n",
       "      <th>14996</th>\n",
       "      <td>0.72</td>\n",
       "      <td>0.72</td>\n",
       "      <td>4</td>\n",
       "      <td>175</td>\n",
       "      <td>4</td>\n",
       "      <td>0</td>\n",
       "      <td>0</td>\n",
       "      <td>0</td>\n",
       "      <td>9</td>\n",
       "      <td>1</td>\n",
       "    </tr>\n",
       "    <tr>\n",
       "      <th>14997</th>\n",
       "      <td>0.24</td>\n",
       "      <td>0.91</td>\n",
       "      <td>5</td>\n",
       "      <td>177</td>\n",
       "      <td>5</td>\n",
       "      <td>0</td>\n",
       "      <td>0</td>\n",
       "      <td>0</td>\n",
       "      <td>7</td>\n",
       "      <td>1</td>\n",
       "    </tr>\n",
       "    <tr>\n",
       "      <th>14998</th>\n",
       "      <td>0.77</td>\n",
       "      <td>0.83</td>\n",
       "      <td>6</td>\n",
       "      <td>271</td>\n",
       "      <td>3</td>\n",
       "      <td>0</td>\n",
       "      <td>0</td>\n",
       "      <td>0</td>\n",
       "      <td>8</td>\n",
       "      <td>1</td>\n",
       "    </tr>\n",
       "  </tbody>\n",
       "</table>\n",
       "<p>14999 rows × 10 columns</p>\n",
       "</div>"
      ],
      "text/plain": [
       "       satisfactoryLevel  lastEvaluation  numberOfProjects  avgMonthlyHours  \\\n",
       "0                   0.38            0.53                 2              157   \n",
       "1                   0.80            0.86                 5              262   \n",
       "2                   0.11            0.88                 7              272   \n",
       "3                   0.37            0.52                 2              159   \n",
       "4                   0.41            0.50                 2              153   \n",
       "...                  ...             ...               ...              ...   \n",
       "14994               0.11            0.85                 7              275   \n",
       "14995               0.99            0.83                 4              274   \n",
       "14996               0.72            0.72                 4              175   \n",
       "14997               0.24            0.91                 5              177   \n",
       "14998               0.77            0.83                 6              271   \n",
       "\n",
       "       timeSpent.company  workAccident  left  promotionInLast5years  dept  \\\n",
       "0                      3             0     1                      0     7   \n",
       "1                      6             0     1                      0     7   \n",
       "2                      4             0     1                      0     7   \n",
       "3                      3             0     1                      0     7   \n",
       "4                      3             0     1                      0     7   \n",
       "...                  ...           ...   ...                    ...   ...   \n",
       "14994                  4             0     1                      0     8   \n",
       "14995                  2             0     0                      0     7   \n",
       "14996                  4             0     0                      0     9   \n",
       "14997                  5             0     0                      0     7   \n",
       "14998                  3             0     0                      0     8   \n",
       "\n",
       "       salary  \n",
       "0           1  \n",
       "1           2  \n",
       "2           2  \n",
       "3           1  \n",
       "4           1  \n",
       "...       ...  \n",
       "14994       2  \n",
       "14995       1  \n",
       "14996       1  \n",
       "14997       1  \n",
       "14998       1  \n",
       "\n",
       "[14999 rows x 10 columns]"
      ]
     },
     "execution_count": 27,
     "metadata": {},
     "output_type": "execute_result"
    }
   ],
   "source": [
    "df"
   ]
  },
  {
   "cell_type": "code",
   "execution_count": 28,
   "id": "c51f9bf4",
   "metadata": {
    "colab": {
     "base_uri": "https://localhost:8080/",
     "height": 614
    },
    "id": "c51f9bf4",
    "outputId": "cbbc1d74-21d2-4a9d-8ae6-853a02d0c3eb"
   },
   "outputs": [
    {
     "data": {
      "text/plain": [
       "<AxesSubplot: >"
      ]
     },
     "execution_count": 28,
     "metadata": {},
     "output_type": "execute_result"
    },
    {
     "data": {
      "image/png": "[encoded data removed]",
      "text/plain": [
       "<Figure size 1000x500 with 2 Axes>"
      ]
     },
     "metadata": {},
     "output_type": "display_data"
    }
   ],
   "source": [
    "plt.figure(figsize=(10,5))\n",
    "sns.heatmap(df.corr(),annot= True,cmap='BuPu')"
   ]
  },
  {
   "cell_type": "code",
   "execution_count": 29,
   "id": "1e8d1c2e",
   "metadata": {},
   "outputs": [],
   "source": [
    "from statsmodels.stats.outliers_influence import variance_inflation_factor \n",
    "cols=[]\n",
    "for col in df.columns:\n",
    "    if(col!='left'): \n",
    "        cols.append(col)"
   ]
  },
  {
   "cell_type": "code",
   "execution_count": 30,
   "id": "d97ff77a",
   "metadata": {},
   "outputs": [
    {
     "data": {
      "text/plain": [
       "['satisfactoryLevel',\n",
       " 'lastEvaluation',\n",
       " 'numberOfProjects',\n",
       " 'avgMonthlyHours',\n",
       " 'timeSpent.company',\n",
       " 'workAccident',\n",
       " 'promotionInLast5years',\n",
       " 'dept',\n",
       " 'salary']"
      ]
     },
     "execution_count": 30,
     "metadata": {},
     "output_type": "execute_result"
    }
   ],
   "source": [
    "cols"
   ]
  },
  {
   "cell_type": "code",
   "execution_count": 31,
   "id": "5239b8c4",
   "metadata": {},
   "outputs": [
    {
     "data": {
      "text/html": [
       "<div>\n",
       "<style scoped>\n",
       "    .dataframe tbody tr th:only-of-type {\n",
       "        vertical-align: middle;\n",
       "    }\n",
       "\n",
       "    .dataframe tbody tr th {\n",
       "        vertical-align: top;\n",
       "    }\n",
       "\n",
       "    .dataframe thead th {\n",
       "        text-align: right;\n",
       "    }\n",
       "</style>\n",
       "<table border=\"1\" class=\"dataframe\">\n",
       "  <thead>\n",
       "    <tr style=\"text-align: right;\">\n",
       "      <th></th>\n",
       "      <th>feature</th>\n",
       "      <th>VIF values</th>\n",
       "    </tr>\n",
       "  </thead>\n",
       "  <tbody>\n",
       "    <tr>\n",
       "      <th>0</th>\n",
       "      <td>satisfactoryLevel</td>\n",
       "      <td>6.466087</td>\n",
       "    </tr>\n",
       "    <tr>\n",
       "      <th>1</th>\n",
       "      <td>lastEvaluation</td>\n",
       "      <td>20.621566</td>\n",
       "    </tr>\n",
       "    <tr>\n",
       "      <th>2</th>\n",
       "      <td>numberOfProjects</td>\n",
       "      <td>13.901185</td>\n",
       "    </tr>\n",
       "    <tr>\n",
       "      <th>3</th>\n",
       "      <td>avgMonthlyHours</td>\n",
       "      <td>19.507480</td>\n",
       "    </tr>\n",
       "    <tr>\n",
       "      <th>4</th>\n",
       "      <td>timeSpent.company</td>\n",
       "      <td>6.639859</td>\n",
       "    </tr>\n",
       "    <tr>\n",
       "      <th>5</th>\n",
       "      <td>workAccident</td>\n",
       "      <td>1.172840</td>\n",
       "    </tr>\n",
       "    <tr>\n",
       "      <th>6</th>\n",
       "      <td>promotionInLast5years</td>\n",
       "      <td>1.030144</td>\n",
       "    </tr>\n",
       "    <tr>\n",
       "      <th>7</th>\n",
       "      <td>dept</td>\n",
       "      <td>4.709552</td>\n",
       "    </tr>\n",
       "    <tr>\n",
       "      <th>8</th>\n",
       "      <td>salary</td>\n",
       "      <td>5.092658</td>\n",
       "    </tr>\n",
       "  </tbody>\n",
       "</table>\n",
       "</div>"
      ],
      "text/plain": [
       "                 feature  VIF values\n",
       "0      satisfactoryLevel    6.466087\n",
       "1         lastEvaluation   20.621566\n",
       "2       numberOfProjects   13.901185\n",
       "3        avgMonthlyHours   19.507480\n",
       "4      timeSpent.company    6.639859\n",
       "5           workAccident    1.172840\n",
       "6  promotionInLast5years    1.030144\n",
       "7                   dept    4.709552\n",
       "8                 salary    5.092658"
      ]
     },
     "execution_count": 31,
     "metadata": {},
     "output_type": "execute_result"
    }
   ],
   "source": [
    "x = df[cols]\n",
    "vif_data=pd.DataFrame()\n",
    "vif_data[\"feature\"]=x.columns\n",
    "vif_data[\"VIF values\"]=[variance_inflation_factor(x.values,i) for i in range(len(x.columns))]\n",
    "vif_data"
   ]
  },
  {
   "cell_type": "code",
   "execution_count": 32,
   "id": "0b2f9f94",
   "metadata": {},
   "outputs": [
    {
     "name": "stderr",
     "output_type": "stream",
     "text": [
      "C:\\Users\\Shreyas\\AppData\\Local\\Temp\\ipykernel_3036\\1974236379.py:1: SettingWithCopyWarning: \n",
      "A value is trying to be set on a copy of a slice from a DataFrame\n",
      "\n",
      "See the caveats in the documentation: https://pandas.pydata.org/pandas-docs/stable/user_guide/indexing.html#returning-a-view-versus-a-copy\n",
      "  x.drop(['lastEvaluation'], axis = 1 , inplace =True )\n"
     ]
    }
   ],
   "source": [
    "x.drop(['lastEvaluation'], axis = 1 , inplace =True )"
   ]
  },
  {
   "cell_type": "code",
   "execution_count": 33,
   "id": "0f392cdb",
   "metadata": {},
   "outputs": [
    {
     "data": {
      "text/html": [
       "<div>\n",
       "<style scoped>\n",
       "    .dataframe tbody tr th:only-of-type {\n",
       "        vertical-align: middle;\n",
       "    }\n",
       "\n",
       "    .dataframe tbody tr th {\n",
       "        vertical-align: top;\n",
       "    }\n",
       "\n",
       "    .dataframe thead th {\n",
       "        text-align: right;\n",
       "    }\n",
       "</style>\n",
       "<table border=\"1\" class=\"dataframe\">\n",
       "  <thead>\n",
       "    <tr style=\"text-align: right;\">\n",
       "      <th></th>\n",
       "      <th>feature</th>\n",
       "      <th>VIF values</th>\n",
       "    </tr>\n",
       "  </thead>\n",
       "  <tbody>\n",
       "    <tr>\n",
       "      <th>0</th>\n",
       "      <td>satisfactoryLevel</td>\n",
       "      <td>5.775000</td>\n",
       "    </tr>\n",
       "    <tr>\n",
       "      <th>1</th>\n",
       "      <td>numberOfProjects</td>\n",
       "      <td>12.456731</td>\n",
       "    </tr>\n",
       "    <tr>\n",
       "      <th>2</th>\n",
       "      <td>avgMonthlyHours</td>\n",
       "      <td>16.877976</td>\n",
       "    </tr>\n",
       "    <tr>\n",
       "      <th>3</th>\n",
       "      <td>timeSpent.company</td>\n",
       "      <td>6.439982</td>\n",
       "    </tr>\n",
       "    <tr>\n",
       "      <th>4</th>\n",
       "      <td>workAccident</td>\n",
       "      <td>1.172839</td>\n",
       "    </tr>\n",
       "    <tr>\n",
       "      <th>5</th>\n",
       "      <td>promotionInLast5years</td>\n",
       "      <td>1.029926</td>\n",
       "    </tr>\n",
       "    <tr>\n",
       "      <th>6</th>\n",
       "      <td>dept</td>\n",
       "      <td>4.648468</td>\n",
       "    </tr>\n",
       "    <tr>\n",
       "      <th>7</th>\n",
       "      <td>salary</td>\n",
       "      <td>5.019189</td>\n",
       "    </tr>\n",
       "  </tbody>\n",
       "</table>\n",
       "</div>"
      ],
      "text/plain": [
       "                 feature  VIF values\n",
       "0      satisfactoryLevel    5.775000\n",
       "1       numberOfProjects   12.456731\n",
       "2        avgMonthlyHours   16.877976\n",
       "3      timeSpent.company    6.439982\n",
       "4           workAccident    1.172839\n",
       "5  promotionInLast5years    1.029926\n",
       "6                   dept    4.648468\n",
       "7                 salary    5.019189"
      ]
     },
     "execution_count": 33,
     "metadata": {},
     "output_type": "execute_result"
    }
   ],
   "source": [
    "vif_data=pd.DataFrame()\n",
    "vif_data[\"feature\"]=x.columns\n",
    "vif_data[\"VIF values\"]=[variance_inflation_factor(x.values,i) for i in range(len(x.columns))]\n",
    "vif_data"
   ]
  },
  {
   "cell_type": "code",
   "execution_count": 34,
   "id": "737c28e0",
   "metadata": {},
   "outputs": [
    {
     "name": "stderr",
     "output_type": "stream",
     "text": [
      "C:\\Users\\Shreyas\\AppData\\Local\\Temp\\ipykernel_3036\\255679067.py:1: SettingWithCopyWarning: \n",
      "A value is trying to be set on a copy of a slice from a DataFrame\n",
      "\n",
      "See the caveats in the documentation: https://pandas.pydata.org/pandas-docs/stable/user_guide/indexing.html#returning-a-view-versus-a-copy\n",
      "  x.drop(['avgMonthlyHours'], axis = 1 , inplace =True )\n"
     ]
    }
   ],
   "source": [
    "  x.drop(['avgMonthlyHours'], axis = 1 , inplace =True )"
   ]
  },
  {
   "cell_type": "code",
   "execution_count": 35,
   "id": "d8bb7703",
   "metadata": {},
   "outputs": [
    {
     "data": {
      "text/html": [
       "<div>\n",
       "<style scoped>\n",
       "    .dataframe tbody tr th:only-of-type {\n",
       "        vertical-align: middle;\n",
       "    }\n",
       "\n",
       "    .dataframe tbody tr th {\n",
       "        vertical-align: top;\n",
       "    }\n",
       "\n",
       "    .dataframe thead th {\n",
       "        text-align: right;\n",
       "    }\n",
       "</style>\n",
       "<table border=\"1\" class=\"dataframe\">\n",
       "  <thead>\n",
       "    <tr style=\"text-align: right;\">\n",
       "      <th></th>\n",
       "      <th>feature</th>\n",
       "      <th>VIF values</th>\n",
       "    </tr>\n",
       "  </thead>\n",
       "  <tbody>\n",
       "    <tr>\n",
       "      <th>0</th>\n",
       "      <td>satisfactoryLevel</td>\n",
       "      <td>5.204076</td>\n",
       "    </tr>\n",
       "    <tr>\n",
       "      <th>1</th>\n",
       "      <td>numberOfProjects</td>\n",
       "      <td>8.036506</td>\n",
       "    </tr>\n",
       "    <tr>\n",
       "      <th>2</th>\n",
       "      <td>timeSpent.company</td>\n",
       "      <td>6.119548</td>\n",
       "    </tr>\n",
       "    <tr>\n",
       "      <th>3</th>\n",
       "      <td>workAccident</td>\n",
       "      <td>1.172764</td>\n",
       "    </tr>\n",
       "    <tr>\n",
       "      <th>4</th>\n",
       "      <td>promotionInLast5years</td>\n",
       "      <td>1.029892</td>\n",
       "    </tr>\n",
       "    <tr>\n",
       "      <th>5</th>\n",
       "      <td>dept</td>\n",
       "      <td>4.515632</td>\n",
       "    </tr>\n",
       "    <tr>\n",
       "      <th>6</th>\n",
       "      <td>salary</td>\n",
       "      <td>4.864479</td>\n",
       "    </tr>\n",
       "  </tbody>\n",
       "</table>\n",
       "</div>"
      ],
      "text/plain": [
       "                 feature  VIF values\n",
       "0      satisfactoryLevel    5.204076\n",
       "1       numberOfProjects    8.036506\n",
       "2      timeSpent.company    6.119548\n",
       "3           workAccident    1.172764\n",
       "4  promotionInLast5years    1.029892\n",
       "5                   dept    4.515632\n",
       "6                 salary    4.864479"
      ]
     },
     "execution_count": 35,
     "metadata": {},
     "output_type": "execute_result"
    }
   ],
   "source": [
    "vif_data=pd.DataFrame()\n",
    "vif_data[\"feature\"]=x.columns\n",
    "vif_data[\"VIF values\"]=[variance_inflation_factor(x.values,i) for i in range(len(x.columns))]\n",
    "vif_data"
   ]
  },
  {
   "cell_type": "code",
   "execution_count": 36,
   "id": "b412cbdd",
   "metadata": {},
   "outputs": [
    {
     "name": "stderr",
     "output_type": "stream",
     "text": [
      "C:\\Users\\Shreyas\\AppData\\Local\\Temp\\ipykernel_3036\\4230247515.py:1: SettingWithCopyWarning: \n",
      "A value is trying to be set on a copy of a slice from a DataFrame\n",
      "\n",
      "See the caveats in the documentation: https://pandas.pydata.org/pandas-docs/stable/user_guide/indexing.html#returning-a-view-versus-a-copy\n",
      "  x.drop(['numberOfProjects'], axis = 1 , inplace =True )\n"
     ]
    }
   ],
   "source": [
    "x.drop(['numberOfProjects'], axis = 1 , inplace =True )"
   ]
  },
  {
   "cell_type": "code",
   "execution_count": 37,
   "id": "0df8db89",
   "metadata": {},
   "outputs": [
    {
     "data": {
      "text/html": [
       "<div>\n",
       "<style scoped>\n",
       "    .dataframe tbody tr th:only-of-type {\n",
       "        vertical-align: middle;\n",
       "    }\n",
       "\n",
       "    .dataframe tbody tr th {\n",
       "        vertical-align: top;\n",
       "    }\n",
       "\n",
       "    .dataframe thead th {\n",
       "        text-align: right;\n",
       "    }\n",
       "</style>\n",
       "<table border=\"1\" class=\"dataframe\">\n",
       "  <thead>\n",
       "    <tr style=\"text-align: right;\">\n",
       "      <th></th>\n",
       "      <th>feature</th>\n",
       "      <th>VIF values</th>\n",
       "    </tr>\n",
       "  </thead>\n",
       "  <tbody>\n",
       "    <tr>\n",
       "      <th>0</th>\n",
       "      <td>satisfactoryLevel</td>\n",
       "      <td>4.956713</td>\n",
       "    </tr>\n",
       "    <tr>\n",
       "      <th>1</th>\n",
       "      <td>timeSpent.company</td>\n",
       "      <td>4.693421</td>\n",
       "    </tr>\n",
       "    <tr>\n",
       "      <th>2</th>\n",
       "      <td>workAccident</td>\n",
       "      <td>1.171743</td>\n",
       "    </tr>\n",
       "    <tr>\n",
       "      <th>3</th>\n",
       "      <td>promotionInLast5years</td>\n",
       "      <td>1.029514</td>\n",
       "    </tr>\n",
       "    <tr>\n",
       "      <th>4</th>\n",
       "      <td>dept</td>\n",
       "      <td>4.218086</td>\n",
       "    </tr>\n",
       "    <tr>\n",
       "      <th>5</th>\n",
       "      <td>salary</td>\n",
       "      <td>4.529733</td>\n",
       "    </tr>\n",
       "  </tbody>\n",
       "</table>\n",
       "</div>"
      ],
      "text/plain": [
       "                 feature  VIF values\n",
       "0      satisfactoryLevel    4.956713\n",
       "1      timeSpent.company    4.693421\n",
       "2           workAccident    1.171743\n",
       "3  promotionInLast5years    1.029514\n",
       "4                   dept    4.218086\n",
       "5                 salary    4.529733"
      ]
     },
     "execution_count": 37,
     "metadata": {},
     "output_type": "execute_result"
    }
   ],
   "source": [
    "vif_data=pd.DataFrame()\n",
    "vif_data[\"feature\"]=x.columns\n",
    "vif_data[\"VIF values\"]=[variance_inflation_factor(x.values,i) for i in range(len(x.columns))]\n",
    "vif_data"
   ]
  },
  {
   "cell_type": "code",
   "execution_count": 38,
   "id": "588efab1",
   "metadata": {},
   "outputs": [],
   "source": [
    "#x.drop(['timeSpent.company'], axis = 1 , inplace =True )"
   ]
  },
  {
   "cell_type": "code",
   "execution_count": 39,
   "id": "94f92773",
   "metadata": {},
   "outputs": [],
   "source": [
    "#vif_data=pd.DataFrame()\n",
    "#vif_data[\"feature\"]=x.columns\n",
    "#vif_data[\"VIF values\"]=[variance_inflation_factor(x.values,i) for i in range(len(x.columns))]\n",
    "#vif_data"
   ]
  },
  {
   "cell_type": "code",
   "execution_count": 40,
   "id": "c8dd7f31",
   "metadata": {},
   "outputs": [],
   "source": [
    "#x.drop(['satisfactoryLevel'], axis = 1 , inplace =True )"
   ]
  },
  {
   "cell_type": "code",
   "execution_count": 41,
   "id": "80e616b4",
   "metadata": {},
   "outputs": [],
   "source": [
    "#vif_data=pd.DataFrame()\n",
    "#vif_data[\"feature\"]=x.columns\n",
    "#vif_data[\"VIF values\"]=[variance_inflation_factor(x.values,i) for i in range(len(x.columns))]\n",
    "#vif_data"
   ]
  },
  {
   "cell_type": "code",
   "execution_count": null,
   "id": "1d2b9848",
   "metadata": {},
   "outputs": [],
   "source": []
  },
  {
   "cell_type": "code",
   "execution_count": 42,
   "id": "990debe8",
   "metadata": {},
   "outputs": [],
   "source": [
    "y = df['left']"
   ]
  },
  {
   "cell_type": "code",
   "execution_count": 43,
   "id": "91a6a1aa",
   "metadata": {},
   "outputs": [],
   "source": [
    "# split data into training and testing\n",
    "from sklearn.model_selection import train_test_split\n",
    "x_train,x_test,y_train,y_test = train_test_split(x, y, test_size=0.2, random_state=2348)"
   ]
  },
  {
   "cell_type": "code",
   "execution_count": 44,
   "id": "49de239a",
   "metadata": {},
   "outputs": [],
   "source": [
    "from sklearn.linear_model import LogisticRegression"
   ]
  },
  {
   "cell_type": "code",
   "execution_count": 45,
   "id": "132118ab",
   "metadata": {},
   "outputs": [],
   "source": [
    "lo_model=LogisticRegression()"
   ]
  },
  {
   "cell_type": "code",
   "execution_count": 46,
   "id": "8f8ccb05",
   "metadata": {},
   "outputs": [
    {
     "data": {
      "text/html": [
       "<style>#sk-container-id-1 {color: black;background-color: white;}#sk-container-id-1 pre{padding: 0;}#sk-container-id-1 div.sk-toggleable {background-color: white;}#sk-container-id-1 label.sk-toggleable__label {cursor: pointer;display: block;width: 100%;margin-bottom: 0;padding: 0.3em;box-sizing: border-box;text-align: center;}#sk-container-id-1 label.sk-toggleable__label-arrow:before {content: \"▸\";float: left;margin-right: 0.25em;color: #696969;}#sk-container-id-1 label.sk-toggleable__label-arrow:hover:before {color: black;}#sk-container-id-1 div.sk-estimator:hover label.sk-toggleable__label-arrow:before {color: black;}#sk-container-id-1 div.sk-toggleable__content {max-height: 0;max-width: 0;overflow: hidden;text-align: left;background-color: #f0f8ff;}#sk-container-id-1 div.sk-toggleable__content pre {margin: 0.2em;color: black;border-radius: 0.25em;background-color: #f0f8ff;}#sk-container-id-1 input.sk-toggleable__control:checked~div.sk-toggleable__content {max-height: 200px;max-width: 100%;overflow: auto;}#sk-container-id-1 input.sk-toggleable__control:checked~label.sk-toggleable__label-arrow:before {content: \"▾\";}#sk-container-id-1 div.sk-estimator input.sk-toggleable__control:checked~label.sk-toggleable__label {background-color: #d4ebff;}#sk-container-id-1 div.sk-label input.sk-toggleable__control:checked~label.sk-toggleable__label {background-color: #d4ebff;}#sk-container-id-1 input.sk-hidden--visually {border: 0;clip: rect(1px 1px 1px 1px);clip: rect(1px, 1px, 1px, 1px);height: 1px;margin: -1px;overflow: hidden;padding: 0;position: absolute;width: 1px;}#sk-container-id-1 div.sk-estimator {font-family: monospace;background-color: #f0f8ff;border: 1px dotted black;border-radius: 0.25em;box-sizing: border-box;margin-bottom: 0.5em;}#sk-container-id-1 div.sk-estimator:hover {background-color: #d4ebff;}#sk-container-id-1 div.sk-parallel-item::after {content: \"\";width: 100%;border-bottom: 1px solid gray;flex-grow: 1;}#sk-container-id-1 div.sk-label:hover label.sk-toggleable__label {background-color: #d4ebff;}#sk-container-id-1 div.sk-serial::before {content: \"\";position: absolute;border-left: 1px solid gray;box-sizing: border-box;top: 0;bottom: 0;left: 50%;z-index: 0;}#sk-container-id-1 div.sk-serial {display: flex;flex-direction: column;align-items: center;background-color: white;padding-right: 0.2em;padding-left: 0.2em;position: relative;}#sk-container-id-1 div.sk-item {position: relative;z-index: 1;}#sk-container-id-1 div.sk-parallel {display: flex;align-items: stretch;justify-content: center;background-color: white;position: relative;}#sk-container-id-1 div.sk-item::before, #sk-container-id-1 div.sk-parallel-item::before {content: \"\";position: absolute;border-left: 1px solid gray;box-sizing: border-box;top: 0;bottom: 0;left: 50%;z-index: -1;}#sk-container-id-1 div.sk-parallel-item {display: flex;flex-direction: column;z-index: 1;position: relative;background-color: white;}#sk-container-id-1 div.sk-parallel-item:first-child::after {align-self: flex-end;width: 50%;}#sk-container-id-1 div.sk-parallel-item:last-child::after {align-self: flex-start;width: 50%;}#sk-container-id-1 div.sk-parallel-item:only-child::after {width: 0;}#sk-container-id-1 div.sk-dashed-wrapped {border: 1px dashed gray;margin: 0 0.4em 0.5em 0.4em;box-sizing: border-box;padding-bottom: 0.4em;background-color: white;}#sk-container-id-1 div.sk-label label {font-family: monospace;font-weight: bold;display: inline-block;line-height: 1.2em;}#sk-container-id-1 div.sk-label-container {text-align: center;}#sk-container-id-1 div.sk-container {/* jupyter's `normalize.less` sets `[hidden] { display: none; }` but bootstrap.min.css set `[hidden] { display: none !important; }` so we also need the `!important` here to be able to override the default hidden behavior on the sphinx rendered scikit-learn.org. See: https://github.com/scikit-learn/scikit-learn/issues/21755 */display: inline-block !important;position: relative;}#sk-container-id-1 div.sk-text-repr-fallback {display: none;}</style><div id=\"sk-container-id-1\" class=\"sk-top-container\"><div class=\"sk-text-repr-fallback\"><pre>LogisticRegression()</pre><b>In a Jupyter environment, please rerun this cell to show the HTML representation or trust the notebook. <br />On GitHub, the HTML representation is unable to render, please try loading this page with nbviewer.org.</b></div><div class=\"sk-container\" hidden><div class=\"sk-item\"><div class=\"sk-estimator sk-toggleable\"><input class=\"sk-toggleable__control sk-hidden--visually\" id=\"sk-estimator-id-1\" type=\"checkbox\" checked><label for=\"sk-estimator-id-1\" class=\"sk-toggleable__label sk-toggleable__label-arrow\">LogisticRegression</label><div class=\"sk-toggleable__content\"><pre>LogisticRegression()</pre></div></div></div></div></div>"
      ],
      "text/plain": [
       "LogisticRegression()"
      ]
     },
     "execution_count": 46,
     "metadata": {},
     "output_type": "execute_result"
    }
   ],
   "source": [
    "lo_model"
   ]
  },
  {
   "cell_type": "code",
   "execution_count": 47,
   "id": "60f0b6d5",
   "metadata": {},
   "outputs": [
    {
     "data": {
      "text/html": [
       "<style>#sk-container-id-2 {color: black;background-color: white;}#sk-container-id-2 pre{padding: 0;}#sk-container-id-2 div.sk-toggleable {background-color: white;}#sk-container-id-2 label.sk-toggleable__label {cursor: pointer;display: block;width: 100%;margin-bottom: 0;padding: 0.3em;box-sizing: border-box;text-align: center;}#sk-container-id-2 label.sk-toggleable__label-arrow:before {content: \"▸\";float: left;margin-right: 0.25em;color: #696969;}#sk-container-id-2 label.sk-toggleable__label-arrow:hover:before {color: black;}#sk-container-id-2 div.sk-estimator:hover label.sk-toggleable__label-arrow:before {color: black;}#sk-container-id-2 div.sk-toggleable__content {max-height: 0;max-width: 0;overflow: hidden;text-align: left;background-color: #f0f8ff;}#sk-container-id-2 div.sk-toggleable__content pre {margin: 0.2em;color: black;border-radius: 0.25em;background-color: #f0f8ff;}#sk-container-id-2 input.sk-toggleable__control:checked~div.sk-toggleable__content {max-height: 200px;max-width: 100%;overflow: auto;}#sk-container-id-2 input.sk-toggleable__control:checked~label.sk-toggleable__label-arrow:before {content: \"▾\";}#sk-container-id-2 div.sk-estimator input.sk-toggleable__control:checked~label.sk-toggleable__label {background-color: #d4ebff;}#sk-container-id-2 div.sk-label input.sk-toggleable__control:checked~label.sk-toggleable__label {background-color: #d4ebff;}#sk-container-id-2 input.sk-hidden--visually {border: 0;clip: rect(1px 1px 1px 1px);clip: rect(1px, 1px, 1px, 1px);height: 1px;margin: -1px;overflow: hidden;padding: 0;position: absolute;width: 1px;}#sk-container-id-2 div.sk-estimator {font-family: monospace;background-color: #f0f8ff;border: 1px dotted black;border-radius: 0.25em;box-sizing: border-box;margin-bottom: 0.5em;}#sk-container-id-2 div.sk-estimator:hover {background-color: #d4ebff;}#sk-container-id-2 div.sk-parallel-item::after {content: \"\";width: 100%;border-bottom: 1px solid gray;flex-grow: 1;}#sk-container-id-2 div.sk-label:hover label.sk-toggleable__label {background-color: #d4ebff;}#sk-container-id-2 div.sk-serial::before {content: \"\";position: absolute;border-left: 1px solid gray;box-sizing: border-box;top: 0;bottom: 0;left: 50%;z-index: 0;}#sk-container-id-2 div.sk-serial {display: flex;flex-direction: column;align-items: center;background-color: white;padding-right: 0.2em;padding-left: 0.2em;position: relative;}#sk-container-id-2 div.sk-item {position: relative;z-index: 1;}#sk-container-id-2 div.sk-parallel {display: flex;align-items: stretch;justify-content: center;background-color: white;position: relative;}#sk-container-id-2 div.sk-item::before, #sk-container-id-2 div.sk-parallel-item::before {content: \"\";position: absolute;border-left: 1px solid gray;box-sizing: border-box;top: 0;bottom: 0;left: 50%;z-index: -1;}#sk-container-id-2 div.sk-parallel-item {display: flex;flex-direction: column;z-index: 1;position: relative;background-color: white;}#sk-container-id-2 div.sk-parallel-item:first-child::after {align-self: flex-end;width: 50%;}#sk-container-id-2 div.sk-parallel-item:last-child::after {align-self: flex-start;width: 50%;}#sk-container-id-2 div.sk-parallel-item:only-child::after {width: 0;}#sk-container-id-2 div.sk-dashed-wrapped {border: 1px dashed gray;margin: 0 0.4em 0.5em 0.4em;box-sizing: border-box;padding-bottom: 0.4em;background-color: white;}#sk-container-id-2 div.sk-label label {font-family: monospace;font-weight: bold;display: inline-block;line-height: 1.2em;}#sk-container-id-2 div.sk-label-container {text-align: center;}#sk-container-id-2 div.sk-container {/* jupyter's `normalize.less` sets `[hidden] { display: none; }` but bootstrap.min.css set `[hidden] { display: none !important; }` so we also need the `!important` here to be able to override the default hidden behavior on the sphinx rendered scikit-learn.org. See: https://github.com/scikit-learn/scikit-learn/issues/21755 */display: inline-block !important;position: relative;}#sk-container-id-2 div.sk-text-repr-fallback {display: none;}</style><div id=\"sk-container-id-2\" class=\"sk-top-container\"><div class=\"sk-text-repr-fallback\"><pre>LogisticRegression()</pre><b>In a Jupyter environment, please rerun this cell to show the HTML representation or trust the notebook. <br />On GitHub, the HTML representation is unable to render, please try loading this page with nbviewer.org.</b></div><div class=\"sk-container\" hidden><div class=\"sk-item\"><div class=\"sk-estimator sk-toggleable\"><input class=\"sk-toggleable__control sk-hidden--visually\" id=\"sk-estimator-id-2\" type=\"checkbox\" checked><label for=\"sk-estimator-id-2\" class=\"sk-toggleable__label sk-toggleable__label-arrow\">LogisticRegression</label><div class=\"sk-toggleable__content\"><pre>LogisticRegression()</pre></div></div></div></div></div>"
      ],
      "text/plain": [
       "LogisticRegression()"
      ]
     },
     "execution_count": 47,
     "metadata": {},
     "output_type": "execute_result"
    }
   ],
   "source": [
    "lo_model.fit(x_train,y_train)"
   ]
  },
  {
   "cell_type": "code",
   "execution_count": 48,
   "id": "e24a5e86",
   "metadata": {},
   "outputs": [],
   "source": [
    "lo_pred=lo_model.predict(x_test)"
   ]
  },
  {
   "cell_type": "code",
   "execution_count": 49,
   "id": "6c3745d3",
   "metadata": {},
   "outputs": [
    {
     "data": {
      "text/plain": [
       "array([0, 0, 0, ..., 0, 0, 0], dtype=int64)"
      ]
     },
     "execution_count": 49,
     "metadata": {},
     "output_type": "execute_result"
    }
   ],
   "source": [
    "lo_pred"
   ]
  },
  {
   "cell_type": "code",
   "execution_count": 50,
   "id": "73bf8842",
   "metadata": {},
   "outputs": [
    {
     "name": "stdout",
     "output_type": "stream",
     "text": [
      "2668 332\n"
     ]
    }
   ],
   "source": [
    "value_counts = np.bincount(lo_pred)\n",
    "count_0 = value_counts[0]\n",
    "count_1 = value_counts[1]\n",
    "\n",
    "print(count_0,count_1)"
   ]
  },
  {
   "cell_type": "code",
   "execution_count": null,
   "id": "b9abc7ba",
   "metadata": {},
   "outputs": [],
   "source": []
  },
  {
   "cell_type": "code",
   "execution_count": 51,
   "id": "f04adce0",
   "metadata": {},
   "outputs": [
    {
     "data": {
      "text/plain": [
       "1380     0\n",
       "2620     0\n",
       "11686    0\n",
       "3229     0\n",
       "6842     0\n",
       "        ..\n",
       "10539    0\n",
       "14805    1\n",
       "6671     0\n",
       "13815    0\n",
       "8752     0\n",
       "Name: left, Length: 3000, dtype: int64"
      ]
     },
     "execution_count": 51,
     "metadata": {},
     "output_type": "execute_result"
    }
   ],
   "source": [
    "y_test"
   ]
  },
  {
   "cell_type": "code",
   "execution_count": 52,
   "id": "5a807eca",
   "metadata": {},
   "outputs": [
    {
     "data": {
      "text/plain": [
       "0    2278\n",
       "1     722\n",
       "Name: left, dtype: int64"
      ]
     },
     "execution_count": 52,
     "metadata": {},
     "output_type": "execute_result"
    }
   ],
   "source": [
    "y2 = y_test.value_counts()\n",
    "y2"
   ]
  },
  {
   "cell_type": "code",
   "execution_count": null,
   "id": "ec4561e1",
   "metadata": {},
   "outputs": [],
   "source": []
  },
  {
   "cell_type": "code",
   "execution_count": 53,
   "id": "cf3c839b",
   "metadata": {},
   "outputs": [],
   "source": [
    "from sklearn.metrics import accuracy_score,confusion_matrix"
   ]
  },
  {
   "cell_type": "code",
   "execution_count": 54,
   "id": "03552df9",
   "metadata": {},
   "outputs": [
    {
     "data": {
      "text/plain": [
       "0.7666666666666667"
      ]
     },
     "execution_count": 54,
     "metadata": {},
     "output_type": "execute_result"
    }
   ],
   "source": [
    "accuracy_score(y_test,lo_pred)"
   ]
  },
  {
   "cell_type": "code",
   "execution_count": 55,
   "id": "ad28a482",
   "metadata": {},
   "outputs": [
    {
     "data": {
      "text/plain": [
       "0.7666666666666667"
      ]
     },
     "execution_count": 55,
     "metadata": {},
     "output_type": "execute_result"
    }
   ],
   "source": [
    "accuracy_score(lo_pred,y_test)"
   ]
  },
  {
   "cell_type": "code",
   "execution_count": 56,
   "id": "b9a177e6",
   "metadata": {},
   "outputs": [
    {
     "data": {
      "text/plain": [
       "array([[2123,  545],\n",
       "       [ 155,  177]], dtype=int64)"
      ]
     },
     "execution_count": 56,
     "metadata": {},
     "output_type": "execute_result"
    }
   ],
   "source": [
    "confusion_matrix(lo_pred,y_test)"
   ]
  },
  {
   "cell_type": "code",
   "execution_count": 57,
   "id": "881a1ac6",
   "metadata": {},
   "outputs": [
    {
     "name": "stdout",
     "output_type": "stream",
     "text": [
      "              precision    recall  f1-score   support\n",
      "\n",
      "           0       0.93      0.80      0.86      2668\n",
      "           1       0.25      0.53      0.34       332\n",
      "\n",
      "    accuracy                           0.77      3000\n",
      "   macro avg       0.59      0.66      0.60      3000\n",
      "weighted avg       0.86      0.77      0.80      3000\n",
      "\n"
     ]
    }
   ],
   "source": [
    "from sklearn.metrics import classification_report\n",
    "print(classification_report(lo_pred,y_test))"
   ]
  },
  {
   "cell_type": "code",
   "execution_count": null,
   "id": "0a88e637",
   "metadata": {},
   "outputs": [],
   "source": []
  },
  {
   "cell_type": "markdown",
   "id": "f81fcd9e",
   "metadata": {},
   "source": [
    "## Conclusions:"
   ]
  },
  {
   "cell_type": "markdown",
   "id": "d6dd27f9",
   "metadata": {},
   "source": [
    "The logistic regression model is used to predict why people have left. The pertiment features are evaluated using variance Inflation Factor.\n",
    "The model accuracy is 77%.\n",
    "\n",
    "The reasons for people leaving the company can be as follows: \n",
    "\n",
    "1. People are not statisfied with the quality or quantity of job. Perhaps, the work environment could be issue.\n",
    "\n",
    "2. Some people think that they have spent enough time in the company.\n",
    "\n",
    "3. Some people must be having problems in getting promotions, despite having spent considerable time. In addition, they may not be statisfied with the level of promotion commensurate with their work.\n",
    "\n",
    "4. People are facing work related accidents and they are concerned about their safety. \n",
    "\n",
    "5. The concerned department is not functioning well due to work related ethics or methods."
   ]
  },
  {
   "cell_type": "code",
   "execution_count": null,
   "id": "18dafb60",
   "metadata": {},
   "outputs": [],
   "source": []
  },
  {
   "cell_type": "code",
   "execution_count": null,
   "id": "35314455",
   "metadata": {},
   "outputs": [],
   "source": []
  },
  {
   "cell_type": "code",
   "execution_count": null,
   "id": "9b0a882c",
   "metadata": {},
   "outputs": [],
   "source": []
  },
  {
   "cell_type": "code",
   "execution_count": null,
   "id": "0d0fbc3e",
   "metadata": {},
   "outputs": [],
   "source": []
  }
 ],
 "metadata": {
  "colab": {
   "provenance": []
  },
  "kernelspec": {
   "display_name": "Python 3 (ipykernel)",
   "language": "python",
   "name": "python3"
  },
  "language_info": {
   "codemirror_mode": {
    "name": "ipython",
    "version": 3
   },
   "file_extension": ".py",
   "mimetype": "text/x-python",
   "name": "python",
   "nbconvert_exporter": "python",
   "pygments_lexer": "ipython3",
   "version": "3.11.5"
  }
 },
 "nbformat": 4,
 "nbformat_minor": 5
}
