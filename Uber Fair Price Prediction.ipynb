{
 "cells": [
  {
   "cell_type": "code",
   "execution_count": null,
   "metadata": {
    "id": "lt3f7Bbse12I"
   },
   "outputs": [],
   "source": [
    "# Linear Regression Handson\n",
    "# case-study -- UBER Fare Price Prediction\n",
    "# Feautres --> distance, location, weekday, peak time, fuel price  etc.....\n",
    "# to predict the fare price on the basis of feautures given"
   ]
  },
  {
   "cell_type": "code",
   "execution_count": 2,
   "metadata": {
    "id": "oXJ-FMey0cbs"
   },
   "outputs": [],
   "source": [
    "#required libraries\n",
    "import pandas as pd\n",
    "import numpy as np\n",
    "import matplotlib.pyplot as plt\n",
    "import seaborn as sns\n",
    "import datetime as dt"
   ]
  },
  {
   "cell_type": "code",
   "execution_count": 3,
   "metadata": {
    "id": "LCdF3wUQZ6uB"
   },
   "outputs": [],
   "source": [
    "df = pd.read_csv(\"uber.csv\") #reading the dataset"
   ]
  },
  {
   "cell_type": "code",
   "execution_count": 4,
   "metadata": {
    "colab": {
     "base_uri": "https://localhost:8080/",
     "height": 330
    },
    "id": "LIJvxD99aQzB",
    "outputId": "dbfec439-a59f-45d5-923d-8e2980ede7e2"
   },
   "outputs": [
    {
     "data": {
      "text/html": [
       "<div>\n",
       "<style scoped>\n",
       "    .dataframe tbody tr th:only-of-type {\n",
       "        vertical-align: middle;\n",
       "    }\n",
       "\n",
       "    .dataframe tbody tr th {\n",
       "        vertical-align: top;\n",
       "    }\n",
       "\n",
       "    .dataframe thead th {\n",
       "        text-align: right;\n",
       "    }\n",
       "</style>\n",
       "<table border=\"1\" class=\"dataframe\">\n",
       "  <thead>\n",
       "    <tr style=\"text-align: right;\">\n",
       "      <th></th>\n",
       "      <th>Unnamed: 0</th>\n",
       "      <th>key</th>\n",
       "      <th>fare_amount</th>\n",
       "      <th>pickup_datetime</th>\n",
       "      <th>pickup_longitude</th>\n",
       "      <th>pickup_latitude</th>\n",
       "      <th>dropoff_longitude</th>\n",
       "      <th>dropoff_latitude</th>\n",
       "      <th>passenger_count</th>\n",
       "    </tr>\n",
       "  </thead>\n",
       "  <tbody>\n",
       "    <tr>\n",
       "      <th>0</th>\n",
       "      <td>24238194</td>\n",
       "      <td>2015-05-07 19:52:06.0000003</td>\n",
       "      <td>7.5</td>\n",
       "      <td>2015-05-07 19:52:06 UTC</td>\n",
       "      <td>-73.999817</td>\n",
       "      <td>40.738354</td>\n",
       "      <td>-73.999512</td>\n",
       "      <td>40.723217</td>\n",
       "      <td>1</td>\n",
       "    </tr>\n",
       "    <tr>\n",
       "      <th>1</th>\n",
       "      <td>27835199</td>\n",
       "      <td>2009-07-17 20:04:56.0000002</td>\n",
       "      <td>7.7</td>\n",
       "      <td>2009-07-17 20:04:56 UTC</td>\n",
       "      <td>-73.994355</td>\n",
       "      <td>40.728225</td>\n",
       "      <td>-73.994710</td>\n",
       "      <td>40.750325</td>\n",
       "      <td>1</td>\n",
       "    </tr>\n",
       "    <tr>\n",
       "      <th>2</th>\n",
       "      <td>44984355</td>\n",
       "      <td>2009-08-24 21:45:00.00000061</td>\n",
       "      <td>12.9</td>\n",
       "      <td>2009-08-24 21:45:00 UTC</td>\n",
       "      <td>-74.005043</td>\n",
       "      <td>40.740770</td>\n",
       "      <td>-73.962565</td>\n",
       "      <td>40.772647</td>\n",
       "      <td>1</td>\n",
       "    </tr>\n",
       "    <tr>\n",
       "      <th>3</th>\n",
       "      <td>25894730</td>\n",
       "      <td>2009-06-26 08:22:21.0000001</td>\n",
       "      <td>5.3</td>\n",
       "      <td>2009-06-26 08:22:21 UTC</td>\n",
       "      <td>-73.976124</td>\n",
       "      <td>40.790844</td>\n",
       "      <td>-73.965316</td>\n",
       "      <td>40.803349</td>\n",
       "      <td>3</td>\n",
       "    </tr>\n",
       "    <tr>\n",
       "      <th>4</th>\n",
       "      <td>17610152</td>\n",
       "      <td>2014-08-28 17:47:00.000000188</td>\n",
       "      <td>16.0</td>\n",
       "      <td>2014-08-28 17:47:00 UTC</td>\n",
       "      <td>-73.925023</td>\n",
       "      <td>40.744085</td>\n",
       "      <td>-73.973082</td>\n",
       "      <td>40.761247</td>\n",
       "      <td>5</td>\n",
       "    </tr>\n",
       "  </tbody>\n",
       "</table>\n",
       "</div>"
      ],
      "text/plain": [
       "   Unnamed: 0                            key  fare_amount  \\\n",
       "0    24238194    2015-05-07 19:52:06.0000003          7.5   \n",
       "1    27835199    2009-07-17 20:04:56.0000002          7.7   \n",
       "2    44984355   2009-08-24 21:45:00.00000061         12.9   \n",
       "3    25894730    2009-06-26 08:22:21.0000001          5.3   \n",
       "4    17610152  2014-08-28 17:47:00.000000188         16.0   \n",
       "\n",
       "           pickup_datetime  pickup_longitude  pickup_latitude  \\\n",
       "0  2015-05-07 19:52:06 UTC        -73.999817        40.738354   \n",
       "1  2009-07-17 20:04:56 UTC        -73.994355        40.728225   \n",
       "2  2009-08-24 21:45:00 UTC        -74.005043        40.740770   \n",
       "3  2009-06-26 08:22:21 UTC        -73.976124        40.790844   \n",
       "4  2014-08-28 17:47:00 UTC        -73.925023        40.744085   \n",
       "\n",
       "   dropoff_longitude  dropoff_latitude  passenger_count  \n",
       "0         -73.999512         40.723217                1  \n",
       "1         -73.994710         40.750325                1  \n",
       "2         -73.962565         40.772647                1  \n",
       "3         -73.965316         40.803349                3  \n",
       "4         -73.973082         40.761247                5  "
      ]
     },
     "execution_count": 4,
     "metadata": {},
     "output_type": "execute_result"
    }
   ],
   "source": [
    "df.head() #first 5 rows of the dataset"
   ]
  },
  {
   "cell_type": "code",
   "execution_count": 5,
   "metadata": {
    "colab": {
     "base_uri": "https://localhost:8080/",
     "height": 206
    },
    "id": "pi5T9U71aRpH",
    "outputId": "ab52e925-bd09-4702-f663-3041b70b8f8a"
   },
   "outputs": [
    {
     "data": {
      "text/html": [
       "<div>\n",
       "<style scoped>\n",
       "    .dataframe tbody tr th:only-of-type {\n",
       "        vertical-align: middle;\n",
       "    }\n",
       "\n",
       "    .dataframe tbody tr th {\n",
       "        vertical-align: top;\n",
       "    }\n",
       "\n",
       "    .dataframe thead th {\n",
       "        text-align: right;\n",
       "    }\n",
       "</style>\n",
       "<table border=\"1\" class=\"dataframe\">\n",
       "  <thead>\n",
       "    <tr style=\"text-align: right;\">\n",
       "      <th></th>\n",
       "      <th>fare_amount</th>\n",
       "      <th>pickup_datetime</th>\n",
       "      <th>pickup_longitude</th>\n",
       "      <th>pickup_latitude</th>\n",
       "      <th>dropoff_longitude</th>\n",
       "      <th>dropoff_latitude</th>\n",
       "      <th>passenger_count</th>\n",
       "    </tr>\n",
       "  </thead>\n",
       "  <tbody>\n",
       "    <tr>\n",
       "      <th>0</th>\n",
       "      <td>7.5</td>\n",
       "      <td>2015-05-07 19:52:06 UTC</td>\n",
       "      <td>-73.999817</td>\n",
       "      <td>40.738354</td>\n",
       "      <td>-73.999512</td>\n",
       "      <td>40.723217</td>\n",
       "      <td>1</td>\n",
       "    </tr>\n",
       "    <tr>\n",
       "      <th>1</th>\n",
       "      <td>7.7</td>\n",
       "      <td>2009-07-17 20:04:56 UTC</td>\n",
       "      <td>-73.994355</td>\n",
       "      <td>40.728225</td>\n",
       "      <td>-73.994710</td>\n",
       "      <td>40.750325</td>\n",
       "      <td>1</td>\n",
       "    </tr>\n",
       "    <tr>\n",
       "      <th>2</th>\n",
       "      <td>12.9</td>\n",
       "      <td>2009-08-24 21:45:00 UTC</td>\n",
       "      <td>-74.005043</td>\n",
       "      <td>40.740770</td>\n",
       "      <td>-73.962565</td>\n",
       "      <td>40.772647</td>\n",
       "      <td>1</td>\n",
       "    </tr>\n",
       "    <tr>\n",
       "      <th>3</th>\n",
       "      <td>5.3</td>\n",
       "      <td>2009-06-26 08:22:21 UTC</td>\n",
       "      <td>-73.976124</td>\n",
       "      <td>40.790844</td>\n",
       "      <td>-73.965316</td>\n",
       "      <td>40.803349</td>\n",
       "      <td>3</td>\n",
       "    </tr>\n",
       "    <tr>\n",
       "      <th>4</th>\n",
       "      <td>16.0</td>\n",
       "      <td>2014-08-28 17:47:00 UTC</td>\n",
       "      <td>-73.925023</td>\n",
       "      <td>40.744085</td>\n",
       "      <td>-73.973082</td>\n",
       "      <td>40.761247</td>\n",
       "      <td>5</td>\n",
       "    </tr>\n",
       "  </tbody>\n",
       "</table>\n",
       "</div>"
      ],
      "text/plain": [
       "   fare_amount          pickup_datetime  pickup_longitude  pickup_latitude  \\\n",
       "0          7.5  2015-05-07 19:52:06 UTC        -73.999817        40.738354   \n",
       "1          7.7  2009-07-17 20:04:56 UTC        -73.994355        40.728225   \n",
       "2         12.9  2009-08-24 21:45:00 UTC        -74.005043        40.740770   \n",
       "3          5.3  2009-06-26 08:22:21 UTC        -73.976124        40.790844   \n",
       "4         16.0  2014-08-28 17:47:00 UTC        -73.925023        40.744085   \n",
       "\n",
       "   dropoff_longitude  dropoff_latitude  passenger_count  \n",
       "0         -73.999512         40.723217                1  \n",
       "1         -73.994710         40.750325                1  \n",
       "2         -73.962565         40.772647                1  \n",
       "3         -73.965316         40.803349                3  \n",
       "4         -73.973082         40.761247                5  "
      ]
     },
     "execution_count": 5,
     "metadata": {},
     "output_type": "execute_result"
    }
   ],
   "source": [
    "df.drop(['Unnamed: 0','key'], axis=1, inplace=True) # dropping the irrelevant columns\n",
    "df.head() #updated dataset"
   ]
  },
  {
   "cell_type": "code",
   "execution_count": 6,
   "metadata": {
    "colab": {
     "base_uri": "https://localhost:8080/"
    },
    "id": "Fke5YXD4bLAO",
    "outputId": "d7bcdae5-609a-4565-c3cf-d9b2d1619d7f"
   },
   "outputs": [
    {
     "name": "stdout",
     "output_type": "stream",
     "text": [
      "<class 'pandas.core.frame.DataFrame'>\n",
      "RangeIndex: 200000 entries, 0 to 199999\n",
      "Data columns (total 7 columns):\n",
      " #   Column             Non-Null Count   Dtype  \n",
      "---  ------             --------------   -----  \n",
      " 0   fare_amount        200000 non-null  float64\n",
      " 1   pickup_datetime    200000 non-null  object \n",
      " 2   pickup_longitude   200000 non-null  float64\n",
      " 3   pickup_latitude    200000 non-null  float64\n",
      " 4   dropoff_longitude  199999 non-null  float64\n",
      " 5   dropoff_latitude   199999 non-null  float64\n",
      " 6   passenger_count    200000 non-null  int64  \n",
      "dtypes: float64(5), int64(1), object(1)\n",
      "memory usage: 10.7+ MB\n"
     ]
    }
   ],
   "source": [
    "df.info() #data type of each feature and non - null count"
   ]
  },
  {
   "cell_type": "code",
   "execution_count": 7,
   "metadata": {
    "colab": {
     "base_uri": "https://localhost:8080/"
    },
    "id": "BUYy94LibNTI",
    "outputId": "7212af74-1027-4f3e-b588-f5ce9daad677"
   },
   "outputs": [
    {
     "data": {
      "text/plain": [
       "(200000, 7)"
      ]
     },
     "execution_count": 7,
     "metadata": {},
     "output_type": "execute_result"
    }
   ],
   "source": [
    "df.shape #returns the number of rows and cols"
   ]
  },
  {
   "cell_type": "code",
   "execution_count": 8,
   "metadata": {
    "colab": {
     "base_uri": "https://localhost:8080/"
    },
    "id": "9FnTLcKKbW_f",
    "outputId": "5c44a84c-378b-4d0a-8473-64d2998fdd90"
   },
   "outputs": [
    {
     "data": {
      "text/plain": [
       "fare_amount          0\n",
       "pickup_datetime      0\n",
       "pickup_longitude     0\n",
       "pickup_latitude      0\n",
       "dropoff_longitude    1\n",
       "dropoff_latitude     1\n",
       "passenger_count      0\n",
       "dtype: int64"
      ]
     },
     "execution_count": 8,
     "metadata": {},
     "output_type": "execute_result"
    }
   ],
   "source": [
    "df.isnull().sum() #to check the number of null values in the"
   ]
  },
  {
   "cell_type": "code",
   "execution_count": 9,
   "metadata": {
    "colab": {
     "base_uri": "https://localhost:8080/"
    },
    "id": "5zYgw-_-jt36",
    "outputId": "363275b3-a133-4d6a-b223-3aad6bf37648"
   },
   "outputs": [
    {
     "data": {
      "text/plain": [
       "0         2015-05-07 19:52:06 UTC\n",
       "1         2009-07-17 20:04:56 UTC\n",
       "2         2009-08-24 21:45:00 UTC\n",
       "3         2009-06-26 08:22:21 UTC\n",
       "4         2014-08-28 17:47:00 UTC\n",
       "                   ...           \n",
       "199995    2012-10-28 10:49:00 UTC\n",
       "199996    2014-03-14 01:09:00 UTC\n",
       "199997    2009-06-29 00:42:00 UTC\n",
       "199998    2015-05-20 14:56:25 UTC\n",
       "199999    2010-05-15 04:08:00 UTC\n",
       "Name: pickup_datetime, Length: 200000, dtype: object"
      ]
     },
     "execution_count": 9,
     "metadata": {},
     "output_type": "execute_result"
    }
   ],
   "source": [
    "df['pickup_datetime']"
   ]
  },
  {
   "cell_type": "code",
   "execution_count": 10,
   "metadata": {
    "id": "fPiC9WO3blGQ"
   },
   "outputs": [],
   "source": [
    "df['pickup_datetime']=pd.to_datetime(df['pickup_datetime']) # to bifurcate the datetime\n",
    "\n",
    "df['year'] = df['pickup_datetime'].dt.year\n",
    "df['month'] = df['pickup_datetime'].dt.month\n",
    "df['weekday'] = df['pickup_datetime'].dt.weekday\n",
    "df['hour'] = df['pickup_datetime'].dt.hour"
   ]
  },
  {
   "cell_type": "code",
   "execution_count": 11,
   "metadata": {
    "colab": {
     "base_uri": "https://localhost:8080/"
    },
    "id": "c2x-RBcgbwKB",
    "outputId": "d9669d44-756a-4113-ecb0-a27a0333fb76"
   },
   "outputs": [
    {
     "name": "stdout",
     "output_type": "stream",
     "text": [
      "<class 'pandas.core.frame.DataFrame'>\n",
      "RangeIndex: 200000 entries, 0 to 199999\n",
      "Data columns (total 11 columns):\n",
      " #   Column             Non-Null Count   Dtype              \n",
      "---  ------             --------------   -----              \n",
      " 0   fare_amount        200000 non-null  float64            \n",
      " 1   pickup_datetime    200000 non-null  datetime64[ns, UTC]\n",
      " 2   pickup_longitude   200000 non-null  float64            \n",
      " 3   pickup_latitude    200000 non-null  float64            \n",
      " 4   dropoff_longitude  199999 non-null  float64            \n",
      " 5   dropoff_latitude   199999 non-null  float64            \n",
      " 6   passenger_count    200000 non-null  int64              \n",
      " 7   year               200000 non-null  int64              \n",
      " 8   month              200000 non-null  int64              \n",
      " 9   weekday            200000 non-null  int64              \n",
      " 10  hour               200000 non-null  int64              \n",
      "dtypes: datetime64[ns, UTC](1), float64(5), int64(5)\n",
      "memory usage: 16.8 MB\n"
     ]
    }
   ],
   "source": [
    "df.info()"
   ]
  },
  {
   "cell_type": "code",
   "execution_count": 12,
   "metadata": {
    "colab": {
     "base_uri": "https://localhost:8080/",
     "height": 313
    },
    "id": "7fN0qbGRl1vY",
    "outputId": "f8b858cb-ef98-4296-cf0f-4214314a72d0"
   },
   "outputs": [
    {
     "data": {
      "text/html": [
       "<div>\n",
       "<style scoped>\n",
       "    .dataframe tbody tr th:only-of-type {\n",
       "        vertical-align: middle;\n",
       "    }\n",
       "\n",
       "    .dataframe tbody tr th {\n",
       "        vertical-align: top;\n",
       "    }\n",
       "\n",
       "    .dataframe thead th {\n",
       "        text-align: right;\n",
       "    }\n",
       "</style>\n",
       "<table border=\"1\" class=\"dataframe\">\n",
       "  <thead>\n",
       "    <tr style=\"text-align: right;\">\n",
       "      <th></th>\n",
       "      <th>fare_amount</th>\n",
       "      <th>pickup_datetime</th>\n",
       "      <th>pickup_longitude</th>\n",
       "      <th>pickup_latitude</th>\n",
       "      <th>dropoff_longitude</th>\n",
       "      <th>dropoff_latitude</th>\n",
       "      <th>passenger_count</th>\n",
       "      <th>year</th>\n",
       "      <th>month</th>\n",
       "      <th>weekday</th>\n",
       "      <th>hour</th>\n",
       "    </tr>\n",
       "  </thead>\n",
       "  <tbody>\n",
       "    <tr>\n",
       "      <th>0</th>\n",
       "      <td>7.5</td>\n",
       "      <td>2015-05-07 19:52:06+00:00</td>\n",
       "      <td>-73.999817</td>\n",
       "      <td>40.738354</td>\n",
       "      <td>-73.999512</td>\n",
       "      <td>40.723217</td>\n",
       "      <td>1</td>\n",
       "      <td>2015</td>\n",
       "      <td>5</td>\n",
       "      <td>3</td>\n",
       "      <td>19</td>\n",
       "    </tr>\n",
       "    <tr>\n",
       "      <th>1</th>\n",
       "      <td>7.7</td>\n",
       "      <td>2009-07-17 20:04:56+00:00</td>\n",
       "      <td>-73.994355</td>\n",
       "      <td>40.728225</td>\n",
       "      <td>-73.994710</td>\n",
       "      <td>40.750325</td>\n",
       "      <td>1</td>\n",
       "      <td>2009</td>\n",
       "      <td>7</td>\n",
       "      <td>4</td>\n",
       "      <td>20</td>\n",
       "    </tr>\n",
       "    <tr>\n",
       "      <th>2</th>\n",
       "      <td>12.9</td>\n",
       "      <td>2009-08-24 21:45:00+00:00</td>\n",
       "      <td>-74.005043</td>\n",
       "      <td>40.740770</td>\n",
       "      <td>-73.962565</td>\n",
       "      <td>40.772647</td>\n",
       "      <td>1</td>\n",
       "      <td>2009</td>\n",
       "      <td>8</td>\n",
       "      <td>0</td>\n",
       "      <td>21</td>\n",
       "    </tr>\n",
       "    <tr>\n",
       "      <th>3</th>\n",
       "      <td>5.3</td>\n",
       "      <td>2009-06-26 08:22:21+00:00</td>\n",
       "      <td>-73.976124</td>\n",
       "      <td>40.790844</td>\n",
       "      <td>-73.965316</td>\n",
       "      <td>40.803349</td>\n",
       "      <td>3</td>\n",
       "      <td>2009</td>\n",
       "      <td>6</td>\n",
       "      <td>4</td>\n",
       "      <td>8</td>\n",
       "    </tr>\n",
       "    <tr>\n",
       "      <th>4</th>\n",
       "      <td>16.0</td>\n",
       "      <td>2014-08-28 17:47:00+00:00</td>\n",
       "      <td>-73.925023</td>\n",
       "      <td>40.744085</td>\n",
       "      <td>-73.973082</td>\n",
       "      <td>40.761247</td>\n",
       "      <td>5</td>\n",
       "      <td>2014</td>\n",
       "      <td>8</td>\n",
       "      <td>3</td>\n",
       "      <td>17</td>\n",
       "    </tr>\n",
       "  </tbody>\n",
       "</table>\n",
       "</div>"
      ],
      "text/plain": [
       "   fare_amount           pickup_datetime  pickup_longitude  pickup_latitude  \\\n",
       "0          7.5 2015-05-07 19:52:06+00:00        -73.999817        40.738354   \n",
       "1          7.7 2009-07-17 20:04:56+00:00        -73.994355        40.728225   \n",
       "2         12.9 2009-08-24 21:45:00+00:00        -74.005043        40.740770   \n",
       "3          5.3 2009-06-26 08:22:21+00:00        -73.976124        40.790844   \n",
       "4         16.0 2014-08-28 17:47:00+00:00        -73.925023        40.744085   \n",
       "\n",
       "   dropoff_longitude  dropoff_latitude  passenger_count  year  month  weekday  \\\n",
       "0         -73.999512         40.723217                1  2015      5        3   \n",
       "1         -73.994710         40.750325                1  2009      7        4   \n",
       "2         -73.962565         40.772647                1  2009      8        0   \n",
       "3         -73.965316         40.803349                3  2009      6        4   \n",
       "4         -73.973082         40.761247                5  2014      8        3   \n",
       "\n",
       "   hour  \n",
       "0    19  \n",
       "1    20  \n",
       "2    21  \n",
       "3     8  \n",
       "4    17  "
      ]
     },
     "execution_count": 12,
     "metadata": {},
     "output_type": "execute_result"
    }
   ],
   "source": [
    "df.head()"
   ]
  },
  {
   "cell_type": "code",
   "execution_count": 13,
   "metadata": {
    "colab": {
     "base_uri": "https://localhost:8080/"
    },
    "id": "nbTEp9WQ6zfu",
    "outputId": "ff539085-a5ca-4f36-e6bd-0e86b2f792ba"
   },
   "outputs": [
    {
     "data": {
      "text/plain": [
       "19    12605\n",
       "18    12072\n",
       "20    11755\n",
       "21    11446\n",
       "22    11023\n",
       "13    10024\n",
       "12     9924\n",
       "23     9805\n",
       "17     9758\n",
       "14     9749\n",
       "15     9614\n",
       "11     9422\n",
       "9      9339\n",
       "8      9075\n",
       "10     8944\n",
       "16     8313\n",
       "0      7844\n",
       "7      7231\n",
       "1      5908\n",
       "2      4422\n",
       "6      4139\n",
       "3      3256\n",
       "4      2365\n",
       "5      1967\n",
       "Name: hour, dtype: int64"
      ]
     },
     "execution_count": 13,
     "metadata": {},
     "output_type": "execute_result"
    }
   ],
   "source": [
    "df['hour'].value_counts()"
   ]
  },
  {
   "cell_type": "code",
   "execution_count": 14,
   "metadata": {
    "id": "G4p64Q8Ocu-E"
   },
   "outputs": [],
   "source": [
    "# pd.cut() function is used here to create new columns 'Monthly_Quarter' and 'Hourly_Segments'.\n",
    "df['Monthly_Quarter'] = pd.cut(df['month'], bins=[0, 3, 6, 9, 12],\n",
    "                               labels=['Q1', 'Q2', 'Q3', 'Q4'])\n",
    "\n",
    "df['Hourly_Segments'] = pd.cut(df['hour'], bins=[0, 3, 7, 11, 15, 19, 23],\n",
    "                               labels=['H1', 'H2', 'H3', 'H4', 'H5', 'H6'],\n",
    "                               include_lowest=True)"
   ]
  },
  {
   "cell_type": "code",
   "execution_count": 15,
   "metadata": {
    "id": "-6-T9f4blvAW"
   },
   "outputs": [],
   "source": [
    "# segmenting the latitude and longitude values in the appropriate range of -90 to 90 and -180 to 180\n",
    "df = df.query('(pickup_latitude < 90) & (dropoff_latitude < 90) & \\\n",
    "              (pickup_latitude > -90) & (dropoff_latitude > -90) & \\\n",
    "              (pickup_longitude < 180) & (dropoff_longitude < 180) & \\\n",
    "              (pickup_longitude > -180) & (dropoff_longitude > -180)')\n"
   ]
  },
  {
   "cell_type": "code",
   "execution_count": 16,
   "metadata": {
    "id": "ApSpzklzeTI_"
   },
   "outputs": [],
   "source": [
    "#calculating the distance between pickup and dropoff\n",
    "\n",
    "import geopy.distance #Geopy library to find the distance between Latitude and Longitude\n",
    "df['Distance']=[round(geopy.distance.distance(\n",
    "                   (df.pickup_latitude[i],\n",
    "                      df.pickup_longitude[i]),\n",
    "                         (df.dropoff_latitude[i], #iterating in each row of the given columns\n",
    "                               df.dropoff_longitude[i])).km,2) #getting the distance in kilometers and with 2 decimal point\n",
    "                                    for i in df.index] #storing the calculated distance in the column"
   ]
  },
  {
   "cell_type": "code",
   "execution_count": 17,
   "metadata": {
    "colab": {
     "base_uri": "https://localhost:8080/",
     "height": 226
    },
    "id": "pbVmOREPjcB7",
    "outputId": "7dc055e6-02a3-4f8d-be87-129515544fa3"
   },
   "outputs": [
    {
     "data": {
      "text/html": [
       "<div>\n",
       "<style scoped>\n",
       "    .dataframe tbody tr th:only-of-type {\n",
       "        vertical-align: middle;\n",
       "    }\n",
       "\n",
       "    .dataframe tbody tr th {\n",
       "        vertical-align: top;\n",
       "    }\n",
       "\n",
       "    .dataframe thead th {\n",
       "        text-align: right;\n",
       "    }\n",
       "</style>\n",
       "<table border=\"1\" class=\"dataframe\">\n",
       "  <thead>\n",
       "    <tr style=\"text-align: right;\">\n",
       "      <th></th>\n",
       "      <th>fare_amount</th>\n",
       "      <th>pickup_longitude</th>\n",
       "      <th>pickup_latitude</th>\n",
       "      <th>dropoff_longitude</th>\n",
       "      <th>dropoff_latitude</th>\n",
       "      <th>passenger_count</th>\n",
       "      <th>year</th>\n",
       "      <th>weekday</th>\n",
       "      <th>Hourly_Segments</th>\n",
       "      <th>Distance</th>\n",
       "    </tr>\n",
       "  </thead>\n",
       "  <tbody>\n",
       "    <tr>\n",
       "      <th>0</th>\n",
       "      <td>7.5</td>\n",
       "      <td>-73.999817</td>\n",
       "      <td>40.738354</td>\n",
       "      <td>-73.999512</td>\n",
       "      <td>40.723217</td>\n",
       "      <td>1</td>\n",
       "      <td>2015</td>\n",
       "      <td>3</td>\n",
       "      <td>H5</td>\n",
       "      <td>1.68</td>\n",
       "    </tr>\n",
       "    <tr>\n",
       "      <th>1</th>\n",
       "      <td>7.7</td>\n",
       "      <td>-73.994355</td>\n",
       "      <td>40.728225</td>\n",
       "      <td>-73.994710</td>\n",
       "      <td>40.750325</td>\n",
       "      <td>1</td>\n",
       "      <td>2009</td>\n",
       "      <td>4</td>\n",
       "      <td>H6</td>\n",
       "      <td>2.45</td>\n",
       "    </tr>\n",
       "    <tr>\n",
       "      <th>2</th>\n",
       "      <td>12.9</td>\n",
       "      <td>-74.005043</td>\n",
       "      <td>40.740770</td>\n",
       "      <td>-73.962565</td>\n",
       "      <td>40.772647</td>\n",
       "      <td>1</td>\n",
       "      <td>2009</td>\n",
       "      <td>0</td>\n",
       "      <td>H6</td>\n",
       "      <td>5.04</td>\n",
       "    </tr>\n",
       "    <tr>\n",
       "      <th>3</th>\n",
       "      <td>5.3</td>\n",
       "      <td>-73.976124</td>\n",
       "      <td>40.790844</td>\n",
       "      <td>-73.965316</td>\n",
       "      <td>40.803349</td>\n",
       "      <td>3</td>\n",
       "      <td>2009</td>\n",
       "      <td>4</td>\n",
       "      <td>H3</td>\n",
       "      <td>1.66</td>\n",
       "    </tr>\n",
       "    <tr>\n",
       "      <th>4</th>\n",
       "      <td>16.0</td>\n",
       "      <td>-73.925023</td>\n",
       "      <td>40.744085</td>\n",
       "      <td>-73.973082</td>\n",
       "      <td>40.761247</td>\n",
       "      <td>5</td>\n",
       "      <td>2014</td>\n",
       "      <td>3</td>\n",
       "      <td>H5</td>\n",
       "      <td>4.48</td>\n",
       "    </tr>\n",
       "  </tbody>\n",
       "</table>\n",
       "</div>"
      ],
      "text/plain": [
       "   fare_amount  pickup_longitude  pickup_latitude  dropoff_longitude  \\\n",
       "0          7.5        -73.999817        40.738354         -73.999512   \n",
       "1          7.7        -73.994355        40.728225         -73.994710   \n",
       "2         12.9        -74.005043        40.740770         -73.962565   \n",
       "3          5.3        -73.976124        40.790844         -73.965316   \n",
       "4         16.0        -73.925023        40.744085         -73.973082   \n",
       "\n",
       "   dropoff_latitude  passenger_count  year  weekday Hourly_Segments  Distance  \n",
       "0         40.723217                1  2015        3              H5      1.68  \n",
       "1         40.750325                1  2009        4              H6      2.45  \n",
       "2         40.772647                1  2009        0              H6      5.04  \n",
       "3         40.803349                3  2009        4              H3      1.66  \n",
       "4         40.761247                5  2014        3              H5      4.48  "
      ]
     },
     "execution_count": 17,
     "metadata": {},
     "output_type": "execute_result"
    }
   ],
   "source": [
    "df.drop(['pickup_datetime','month', 'hour','Monthly_Quarter'], axis=1, inplace=True)\n",
    "df.head()"
   ]
  },
  {
   "cell_type": "code",
   "execution_count": 18,
   "metadata": {
    "colab": {
     "base_uri": "https://localhost:8080/"
    },
    "id": "is2Kz_B0mD_9",
    "outputId": "15f7da4e-433f-4e80-be12-3ecc79fd19f5"
   },
   "outputs": [
    {
     "name": "stdout",
     "output_type": "stream",
     "text": [
      "<class 'pandas.core.frame.DataFrame'>\n",
      "Int64Index: 199987 entries, 0 to 199999\n",
      "Data columns (total 10 columns):\n",
      " #   Column             Non-Null Count   Dtype   \n",
      "---  ------             --------------   -----   \n",
      " 0   fare_amount        199987 non-null  float64 \n",
      " 1   pickup_longitude   199987 non-null  float64 \n",
      " 2   pickup_latitude    199987 non-null  float64 \n",
      " 3   dropoff_longitude  199987 non-null  float64 \n",
      " 4   dropoff_latitude   199987 non-null  float64 \n",
      " 5   passenger_count    199987 non-null  int64   \n",
      " 6   year               199987 non-null  int64   \n",
      " 7   weekday            199987 non-null  int64   \n",
      " 8   Hourly_Segments    199987 non-null  category\n",
      " 9   Distance           199987 non-null  float64 \n",
      "dtypes: category(1), float64(6), int64(3)\n",
      "memory usage: 19.5 MB\n"
     ]
    }
   ],
   "source": [
    "#Checking the datatypes of all the columns\n",
    "df.info()"
   ]
  },
  {
   "cell_type": "code",
   "execution_count": 19,
   "metadata": {
    "colab": {
     "base_uri": "https://localhost:8080/",
     "height": 331
    },
    "id": "uod3xNm_mRMH",
    "outputId": "af61dfb0-c629-46f5-a33a-efce39cc87d8"
   },
   "outputs": [
    {
     "data": {
      "text/html": [
       "<div>\n",
       "<style scoped>\n",
       "    .dataframe tbody tr th:only-of-type {\n",
       "        vertical-align: middle;\n",
       "    }\n",
       "\n",
       "    .dataframe tbody tr th {\n",
       "        vertical-align: top;\n",
       "    }\n",
       "\n",
       "    .dataframe thead th {\n",
       "        text-align: right;\n",
       "    }\n",
       "</style>\n",
       "<table border=\"1\" class=\"dataframe\">\n",
       "  <thead>\n",
       "    <tr style=\"text-align: right;\">\n",
       "      <th></th>\n",
       "      <th>count</th>\n",
       "      <th>mean</th>\n",
       "      <th>std</th>\n",
       "      <th>min</th>\n",
       "      <th>25%</th>\n",
       "      <th>50%</th>\n",
       "      <th>75%</th>\n",
       "      <th>max</th>\n",
       "    </tr>\n",
       "  </thead>\n",
       "  <tbody>\n",
       "    <tr>\n",
       "      <th>fare_amount</th>\n",
       "      <td>199987.0</td>\n",
       "      <td>11.359849</td>\n",
       "      <td>9.901868</td>\n",
       "      <td>-52.000000</td>\n",
       "      <td>6.000000</td>\n",
       "      <td>8.500000</td>\n",
       "      <td>12.500000</td>\n",
       "      <td>499.000000</td>\n",
       "    </tr>\n",
       "    <tr>\n",
       "      <th>pickup_longitude</th>\n",
       "      <td>199987.0</td>\n",
       "      <td>-72.501786</td>\n",
       "      <td>10.449955</td>\n",
       "      <td>-93.824668</td>\n",
       "      <td>-73.992064</td>\n",
       "      <td>-73.981822</td>\n",
       "      <td>-73.967154</td>\n",
       "      <td>40.808425</td>\n",
       "    </tr>\n",
       "    <tr>\n",
       "      <th>pickup_latitude</th>\n",
       "      <td>199987.0</td>\n",
       "      <td>39.917937</td>\n",
       "      <td>6.130412</td>\n",
       "      <td>-74.015515</td>\n",
       "      <td>40.734793</td>\n",
       "      <td>40.752592</td>\n",
       "      <td>40.767157</td>\n",
       "      <td>48.018760</td>\n",
       "    </tr>\n",
       "    <tr>\n",
       "      <th>dropoff_longitude</th>\n",
       "      <td>199987.0</td>\n",
       "      <td>-72.511608</td>\n",
       "      <td>10.412192</td>\n",
       "      <td>-75.458979</td>\n",
       "      <td>-73.991407</td>\n",
       "      <td>-73.980092</td>\n",
       "      <td>-73.963658</td>\n",
       "      <td>40.831932</td>\n",
       "    </tr>\n",
       "    <tr>\n",
       "      <th>dropoff_latitude</th>\n",
       "      <td>199987.0</td>\n",
       "      <td>39.922031</td>\n",
       "      <td>6.117669</td>\n",
       "      <td>-74.015750</td>\n",
       "      <td>40.733823</td>\n",
       "      <td>40.753042</td>\n",
       "      <td>40.768000</td>\n",
       "      <td>45.031598</td>\n",
       "    </tr>\n",
       "    <tr>\n",
       "      <th>passenger_count</th>\n",
       "      <td>199987.0</td>\n",
       "      <td>1.684544</td>\n",
       "      <td>1.385999</td>\n",
       "      <td>0.000000</td>\n",
       "      <td>1.000000</td>\n",
       "      <td>1.000000</td>\n",
       "      <td>2.000000</td>\n",
       "      <td>208.000000</td>\n",
       "    </tr>\n",
       "    <tr>\n",
       "      <th>year</th>\n",
       "      <td>199987.0</td>\n",
       "      <td>2011.742463</td>\n",
       "      <td>1.856438</td>\n",
       "      <td>2009.000000</td>\n",
       "      <td>2010.000000</td>\n",
       "      <td>2012.000000</td>\n",
       "      <td>2013.000000</td>\n",
       "      <td>2015.000000</td>\n",
       "    </tr>\n",
       "    <tr>\n",
       "      <th>weekday</th>\n",
       "      <td>199987.0</td>\n",
       "      <td>3.048383</td>\n",
       "      <td>1.946960</td>\n",
       "      <td>0.000000</td>\n",
       "      <td>1.000000</td>\n",
       "      <td>3.000000</td>\n",
       "      <td>5.000000</td>\n",
       "      <td>6.000000</td>\n",
       "    </tr>\n",
       "    <tr>\n",
       "      <th>Distance</th>\n",
       "      <td>199987.0</td>\n",
       "      <td>20.563460</td>\n",
       "      <td>379.663759</td>\n",
       "      <td>0.000000</td>\n",
       "      <td>1.220000</td>\n",
       "      <td>2.120000</td>\n",
       "      <td>3.870000</td>\n",
       "      <td>8783.590000</td>\n",
       "    </tr>\n",
       "  </tbody>\n",
       "</table>\n",
       "</div>"
      ],
      "text/plain": [
       "                      count         mean         std          min  \\\n",
       "fare_amount        199987.0    11.359849    9.901868   -52.000000   \n",
       "pickup_longitude   199987.0   -72.501786   10.449955   -93.824668   \n",
       "pickup_latitude    199987.0    39.917937    6.130412   -74.015515   \n",
       "dropoff_longitude  199987.0   -72.511608   10.412192   -75.458979   \n",
       "dropoff_latitude   199987.0    39.922031    6.117669   -74.015750   \n",
       "passenger_count    199987.0     1.684544    1.385999     0.000000   \n",
       "year               199987.0  2011.742463    1.856438  2009.000000   \n",
       "weekday            199987.0     3.048383    1.946960     0.000000   \n",
       "Distance           199987.0    20.563460  379.663759     0.000000   \n",
       "\n",
       "                           25%          50%          75%          max  \n",
       "fare_amount           6.000000     8.500000    12.500000   499.000000  \n",
       "pickup_longitude    -73.992064   -73.981822   -73.967154    40.808425  \n",
       "pickup_latitude      40.734793    40.752592    40.767157    48.018760  \n",
       "dropoff_longitude   -73.991407   -73.980092   -73.963658    40.831932  \n",
       "dropoff_latitude     40.733823    40.753042    40.768000    45.031598  \n",
       "passenger_count       1.000000     1.000000     2.000000   208.000000  \n",
       "year               2010.000000  2012.000000  2013.000000  2015.000000  \n",
       "weekday               1.000000     3.000000     5.000000     6.000000  \n",
       "Distance              1.220000     2.120000     3.870000  8783.590000  "
      ]
     },
     "execution_count": 19,
     "metadata": {},
     "output_type": "execute_result"
    }
   ],
   "source": [
    "df.describe().transpose()"
   ]
  },
  {
   "cell_type": "markdown",
   "metadata": {
    "id": "bQxAkPVl3CD3"
   },
   "source": [
    "####The above output illustrates the summary statistics of all the numeric variables like mean, median (50%), standard deviation, minimum, and maximum values, along with the first and third quantiles.\n",
    "\n",
    "####Note that the minimum amount is -52 and maximum is 499. Ideally fare amount should not be less that 2.5 dollars, which is the minimum value set for fares. Also the minimum count of passengers is 0, which isn't a practical scenario. We will deal with such values as we progress the case study."
   ]
  },
  {
   "cell_type": "code",
   "execution_count": 20,
   "metadata": {
    "colab": {
     "base_uri": "https://localhost:8080/"
    },
    "id": "DU6gElzd28MU",
    "outputId": "9fef5f1a-2d7a-46ad-948d-8a7f2d04382f"
   },
   "outputs": [
    {
     "data": {
      "text/plain": [
       "Index([], dtype='object')"
      ]
     },
     "execution_count": 20,
     "metadata": {},
     "output_type": "execute_result"
    }
   ],
   "source": [
    "df.columns[df.dtypes == 'object']"
   ]
  },
  {
   "cell_type": "markdown",
   "metadata": {
    "id": "nrgB_e7Swium"
   },
   "source": [
    "Detecting outliers is crucial in data analysis as outliers are observations that significantly deviate from the general pattern or distribution of the data. Failing to identify and handle outliers properly can have negative consequences on model accuracy and the validity of statistical analyses. In this case study, we aim to identify extreme values in the data, which can be considered as outliers.\n",
    "\n",
    "The outliers in this particular case study can be defined by the following criteria:\n",
    "\n",
    "1.   Amount < -52: Any observation with an amount less than -52 can be identified as an outlier.\n",
    "\n",
    "2.   Trips with travel distance less than or equal to 0 and more than 130 kilometers: Trips with a travel distance that is either negative or exceeds 130 kilometers can be considered outliers.\n",
    "\n",
    "3.   Trips with latitude values outside the range -90 to 90 and longitude values outside the range -180 to 180: Any trips with latitude values less than -90 or greater than 90, as well as longitude values less than -180 or greater than 180, can be identified as outliers.\n",
    "\n",
    "By identifying and addressing these outliers, we can ensure that our analysis and models are based on a more representative and accurate dataset. Removing or appropriately handling outliers can help prevent distorted insights and misleading conclusions."
   ]
  },
  {
   "cell_type": "code",
   "execution_count": 21,
   "metadata": {
    "colab": {
     "base_uri": "https://localhost:8080/"
    },
    "id": "BKBHzpD7_2D7",
    "outputId": "33ea0cd1-bda2-4c3d-e60b-fb588a2927c2"
   },
   "outputs": [
    {
     "data": {
      "text/plain": [
       "-52.0"
      ]
     },
     "execution_count": 21,
     "metadata": {},
     "output_type": "execute_result"
    }
   ],
   "source": [
    "df['fare_amount'].min()"
   ]
  },
  {
   "cell_type": "code",
   "execution_count": 22,
   "metadata": {
    "id": "oHMQ5jRpxrcg"
   },
   "outputs": [],
   "source": [
    "numeric_columns = df.select_dtypes(include=np.number).columns\n",
    "df[numeric_columns] = df[numeric_columns].fillna(df[numeric_columns].median().to_dict())"
   ]
  },
  {
   "cell_type": "code",
   "execution_count": 23,
   "metadata": {
    "colab": {
     "base_uri": "https://localhost:8080/",
     "height": 593
    },
    "id": "8iNr-LCAxdsi",
    "outputId": "95a5cb54-4a7c-4762-e562-ce6ec6d4c08d"
   },
   "outputs": [
    {
     "name": "stderr",
     "output_type": "stream",
     "text": [
      "C:\\Users\\Shreyas\\AppData\\Local\\Temp\\ipykernel_12680\\128047415.py:7: UserWarning: The figure layout has changed to tight\n",
      "  plt.tight_layout()\n",
      "C:\\Users\\Shreyas\\AppData\\Local\\Temp\\ipykernel_12680\\128047415.py:7: UserWarning: The figure layout has changed to tight\n",
      "  plt.tight_layout()\n",
      "C:\\Users\\Shreyas\\AppData\\Local\\Temp\\ipykernel_12680\\128047415.py:7: UserWarning: The figure layout has changed to tight\n",
      "  plt.tight_layout()\n",
      "C:\\Users\\Shreyas\\AppData\\Local\\Temp\\ipykernel_12680\\128047415.py:7: UserWarning: The figure layout has changed to tight\n",
      "  plt.tight_layout()\n",
      "C:\\Users\\Shreyas\\AppData\\Local\\Temp\\ipykernel_12680\\128047415.py:7: UserWarning: The figure layout has changed to tight\n",
      "  plt.tight_layout()\n",
      "C:\\Users\\Shreyas\\AppData\\Local\\Temp\\ipykernel_12680\\128047415.py:7: UserWarning: The figure layout has changed to tight\n",
      "  plt.tight_layout()\n",
      "C:\\Users\\Shreyas\\AppData\\Local\\Temp\\ipykernel_12680\\128047415.py:7: UserWarning: The figure layout has changed to tight\n",
      "  plt.tight_layout()\n",
      "C:\\Users\\Shreyas\\AppData\\Local\\Temp\\ipykernel_12680\\128047415.py:7: UserWarning: The figure layout has changed to tight\n",
      "  plt.tight_layout()\n"
     ]
    },
    {
     "data": {
      "image/png": "[encoded data removed]",
      "text/plain": [
       "<Figure size 2000x1000 with 9 Axes>"
      ]
     },
     "metadata": {},
     "output_type": "display_data"
    }
   ],
   "source": [
    "# outliers detection using boxplot\n",
    "plt.figure(figsize=(20,10)) #deciding the figure size\n",
    "\n",
    "for i, col in enumerate(numeric_columns):\n",
    "    plt.subplot(3,3, i + 1)\n",
    "    sns.boxplot(x=df[col], whis=1.5)\n",
    "    plt.tight_layout()\n",
    "    plt.title(col)\n",
    "\n",
    "plt.show()"
   ]
  },
  {
   "cell_type": "code",
   "execution_count": 24,
   "metadata": {
    "id": "KKYGgJlCnyhS"
   },
   "outputs": [],
   "source": [
    "#remove the outliers from the dataset\n",
    "def remove_outlier(df1 , col):\n",
    "    Q1 = df1[col].quantile(0.25)\n",
    "    Q3 = df1[col].quantile(0.75)\n",
    "    IQR = Q3 - Q1\n",
    "    lower_whisker = Q1-1.5*IQR\n",
    "    upper_whisker = Q3+1.5*IQR\n",
    "    df1[col] = np.clip(df1[col] , lower_whisker , upper_whisker)\n",
    "    return df1\n",
    "\n",
    "def treat_outliers_all(df1 , col_list):\n",
    "    for c in col_list:\n",
    "        df1 = remove_outlier(df1 , c)\n",
    "    return df1"
   ]
  },
  {
   "cell_type": "code",
   "execution_count": 25,
   "metadata": {
    "id": "VRFxgoOCn93e"
   },
   "outputs": [],
   "source": [
    "df = treat_outliers_all(df , numeric_columns)"
   ]
  },
  {
   "cell_type": "code",
   "execution_count": 26,
   "metadata": {
    "colab": {
     "base_uri": "https://localhost:8080/",
     "height": 593
    },
    "id": "RMXP1m-aodN9",
    "outputId": "90d47439-2606-482d-a3a9-c8267780c472"
   },
   "outputs": [
    {
     "name": "stderr",
     "output_type": "stream",
     "text": [
      "C:\\Users\\Shreyas\\AppData\\Local\\Temp\\ipykernel_12680\\3810504922.py:7: UserWarning: The figure layout has changed to tight\n",
      "  plt.tight_layout()\n",
      "C:\\Users\\Shreyas\\AppData\\Local\\Temp\\ipykernel_12680\\3810504922.py:7: UserWarning: The figure layout has changed to tight\n",
      "  plt.tight_layout()\n",
      "C:\\Users\\Shreyas\\AppData\\Local\\Temp\\ipykernel_12680\\3810504922.py:7: UserWarning: The figure layout has changed to tight\n",
      "  plt.tight_layout()\n",
      "C:\\Users\\Shreyas\\AppData\\Local\\Temp\\ipykernel_12680\\3810504922.py:7: UserWarning: The figure layout has changed to tight\n",
      "  plt.tight_layout()\n",
      "C:\\Users\\Shreyas\\AppData\\Local\\Temp\\ipykernel_12680\\3810504922.py:7: UserWarning: The figure layout has changed to tight\n",
      "  plt.tight_layout()\n",
      "C:\\Users\\Shreyas\\AppData\\Local\\Temp\\ipykernel_12680\\3810504922.py:7: UserWarning: The figure layout has changed to tight\n",
      "  plt.tight_layout()\n",
      "C:\\Users\\Shreyas\\AppData\\Local\\Temp\\ipykernel_12680\\3810504922.py:7: UserWarning: The figure layout has changed to tight\n",
      "  plt.tight_layout()\n",
      "C:\\Users\\Shreyas\\AppData\\Local\\Temp\\ipykernel_12680\\3810504922.py:7: UserWarning: The figure layout has changed to tight\n",
      "  plt.tight_layout()\n"
     ]
    },
    {
     "data": {
      "image/png": "[encoded data removed]",
      "text/plain": [
       "<Figure size 2000x1000 with 9 Axes>"
      ]
     },
     "metadata": {},
     "output_type": "display_data"
    }
   ],
   "source": [
    "# outliers detection using boxplot\n",
    "plt.figure(figsize=(20,10))\n",
    "\n",
    "for i, col in enumerate(numeric_columns):\n",
    "    plt.subplot(3,3, i + 1)\n",
    "    sns.boxplot(x=df[col], whis=1.5)\n",
    "    plt.tight_layout()\n",
    "    plt.title(col)\n",
    "\n",
    "plt.show()"
   ]
  },
  {
   "cell_type": "code",
   "execution_count": 27,
   "metadata": {
    "colab": {
     "base_uri": "https://localhost:8080/",
     "height": 331
    },
    "id": "AN5TXMIophiN",
    "outputId": "9a4a68ca-ad5b-4e9d-ec15-b67073deb3f2"
   },
   "outputs": [
    {
     "data": {
      "text/html": [
       "<div>\n",
       "<style scoped>\n",
       "    .dataframe tbody tr th:only-of-type {\n",
       "        vertical-align: middle;\n",
       "    }\n",
       "\n",
       "    .dataframe tbody tr th {\n",
       "        vertical-align: top;\n",
       "    }\n",
       "\n",
       "    .dataframe thead th {\n",
       "        text-align: right;\n",
       "    }\n",
       "</style>\n",
       "<table border=\"1\" class=\"dataframe\">\n",
       "  <thead>\n",
       "    <tr style=\"text-align: right;\">\n",
       "      <th></th>\n",
       "      <th>count</th>\n",
       "      <th>mean</th>\n",
       "      <th>std</th>\n",
       "      <th>min</th>\n",
       "      <th>25%</th>\n",
       "      <th>50%</th>\n",
       "      <th>75%</th>\n",
       "      <th>max</th>\n",
       "    </tr>\n",
       "  </thead>\n",
       "  <tbody>\n",
       "    <tr>\n",
       "      <th>fare_amount</th>\n",
       "      <td>199987.0</td>\n",
       "      <td>10.080998</td>\n",
       "      <td>5.440187</td>\n",
       "      <td>-3.750000</td>\n",
       "      <td>6.000000</td>\n",
       "      <td>8.500000</td>\n",
       "      <td>12.500000</td>\n",
       "      <td>22.250000</td>\n",
       "    </tr>\n",
       "    <tr>\n",
       "      <th>pickup_longitude</th>\n",
       "      <td>199987.0</td>\n",
       "      <td>-73.978309</td>\n",
       "      <td>0.020505</td>\n",
       "      <td>-74.029429</td>\n",
       "      <td>-73.992064</td>\n",
       "      <td>-73.981822</td>\n",
       "      <td>-73.967154</td>\n",
       "      <td>-73.929789</td>\n",
       "    </tr>\n",
       "    <tr>\n",
       "      <th>pickup_latitude</th>\n",
       "      <td>199987.0</td>\n",
       "      <td>40.750194</td>\n",
       "      <td>0.025658</td>\n",
       "      <td>40.686248</td>\n",
       "      <td>40.734793</td>\n",
       "      <td>40.752592</td>\n",
       "      <td>40.767157</td>\n",
       "      <td>40.815702</td>\n",
       "    </tr>\n",
       "    <tr>\n",
       "      <th>dropoff_longitude</th>\n",
       "      <td>199987.0</td>\n",
       "      <td>-73.976192</td>\n",
       "      <td>0.022879</td>\n",
       "      <td>-74.033030</td>\n",
       "      <td>-73.991407</td>\n",
       "      <td>-73.980092</td>\n",
       "      <td>-73.963658</td>\n",
       "      <td>-73.922034</td>\n",
       "    </tr>\n",
       "    <tr>\n",
       "      <th>dropoff_latitude</th>\n",
       "      <td>199987.0</td>\n",
       "      <td>40.750151</td>\n",
       "      <td>0.028659</td>\n",
       "      <td>40.682558</td>\n",
       "      <td>40.733823</td>\n",
       "      <td>40.753042</td>\n",
       "      <td>40.768000</td>\n",
       "      <td>40.819266</td>\n",
       "    </tr>\n",
       "    <tr>\n",
       "      <th>passenger_count</th>\n",
       "      <td>199987.0</td>\n",
       "      <td>1.514376</td>\n",
       "      <td>0.876714</td>\n",
       "      <td>0.000000</td>\n",
       "      <td>1.000000</td>\n",
       "      <td>1.000000</td>\n",
       "      <td>2.000000</td>\n",
       "      <td>3.500000</td>\n",
       "    </tr>\n",
       "    <tr>\n",
       "      <th>year</th>\n",
       "      <td>199987.0</td>\n",
       "      <td>2011.742463</td>\n",
       "      <td>1.856438</td>\n",
       "      <td>2009.000000</td>\n",
       "      <td>2010.000000</td>\n",
       "      <td>2012.000000</td>\n",
       "      <td>2013.000000</td>\n",
       "      <td>2015.000000</td>\n",
       "    </tr>\n",
       "    <tr>\n",
       "      <th>weekday</th>\n",
       "      <td>199987.0</td>\n",
       "      <td>3.048383</td>\n",
       "      <td>1.946960</td>\n",
       "      <td>0.000000</td>\n",
       "      <td>1.000000</td>\n",
       "      <td>3.000000</td>\n",
       "      <td>5.000000</td>\n",
       "      <td>6.000000</td>\n",
       "    </tr>\n",
       "    <tr>\n",
       "      <th>Distance</th>\n",
       "      <td>199987.0</td>\n",
       "      <td>2.852147</td>\n",
       "      <td>2.219375</td>\n",
       "      <td>0.000000</td>\n",
       "      <td>1.220000</td>\n",
       "      <td>2.120000</td>\n",
       "      <td>3.870000</td>\n",
       "      <td>7.845000</td>\n",
       "    </tr>\n",
       "  </tbody>\n",
       "</table>\n",
       "</div>"
      ],
      "text/plain": [
       "                      count         mean       std          min          25%  \\\n",
       "fare_amount        199987.0    10.080998  5.440187    -3.750000     6.000000   \n",
       "pickup_longitude   199987.0   -73.978309  0.020505   -74.029429   -73.992064   \n",
       "pickup_latitude    199987.0    40.750194  0.025658    40.686248    40.734793   \n",
       "dropoff_longitude  199987.0   -73.976192  0.022879   -74.033030   -73.991407   \n",
       "dropoff_latitude   199987.0    40.750151  0.028659    40.682558    40.733823   \n",
       "passenger_count    199987.0     1.514376  0.876714     0.000000     1.000000   \n",
       "year               199987.0  2011.742463  1.856438  2009.000000  2010.000000   \n",
       "weekday            199987.0     3.048383  1.946960     0.000000     1.000000   \n",
       "Distance           199987.0     2.852147  2.219375     0.000000     1.220000   \n",
       "\n",
       "                           50%          75%          max  \n",
       "fare_amount           8.500000    12.500000    22.250000  \n",
       "pickup_longitude    -73.981822   -73.967154   -73.929789  \n",
       "pickup_latitude      40.752592    40.767157    40.815702  \n",
       "dropoff_longitude   -73.980092   -73.963658   -73.922034  \n",
       "dropoff_latitude     40.753042    40.768000    40.819266  \n",
       "passenger_count       1.000000     2.000000     3.500000  \n",
       "year               2012.000000  2013.000000  2015.000000  \n",
       "weekday               3.000000     5.000000     6.000000  \n",
       "Distance              2.120000     3.870000     7.845000  "
      ]
     },
     "execution_count": 27,
     "metadata": {},
     "output_type": "execute_result"
    }
   ],
   "source": [
    "df.describe().T"
   ]
  },
  {
   "cell_type": "code",
   "execution_count": 28,
   "metadata": {
    "id": "QOKR-ZvZXv9X"
   },
   "outputs": [],
   "source": [
    "#We will only keep the observation where fare is more than O USD\n",
    "df = df.loc[(df.fare_amount > 0)]"
   ]
  },
  {
   "cell_type": "code",
   "execution_count": 29,
   "metadata": {
    "id": "FyIdKRwiYBeq"
   },
   "outputs": [],
   "source": [
    "#We will only keep the distance where distance is more than 0 km.\n",
    "df = df.loc[(df.Distance > 0)]"
   ]
  },
  {
   "cell_type": "code",
   "execution_count": 30,
   "metadata": {
    "colab": {
     "base_uri": "https://localhost:8080/",
     "height": 320
    },
    "id": "Rqxe4lTXYMZ9",
    "outputId": "2366465a-11e7-4294-90b3-0b819e10b6eb"
   },
   "outputs": [
    {
     "data": {
      "text/html": [
       "<div>\n",
       "<style scoped>\n",
       "    .dataframe tbody tr th:only-of-type {\n",
       "        vertical-align: middle;\n",
       "    }\n",
       "\n",
       "    .dataframe tbody tr th {\n",
       "        vertical-align: top;\n",
       "    }\n",
       "\n",
       "    .dataframe thead th {\n",
       "        text-align: right;\n",
       "    }\n",
       "</style>\n",
       "<table border=\"1\" class=\"dataframe\">\n",
       "  <thead>\n",
       "    <tr style=\"text-align: right;\">\n",
       "      <th></th>\n",
       "      <th>fare_amount</th>\n",
       "      <th>pickup_longitude</th>\n",
       "      <th>pickup_latitude</th>\n",
       "      <th>dropoff_longitude</th>\n",
       "      <th>dropoff_latitude</th>\n",
       "      <th>passenger_count</th>\n",
       "      <th>year</th>\n",
       "      <th>weekday</th>\n",
       "      <th>Distance</th>\n",
       "    </tr>\n",
       "  </thead>\n",
       "  <tbody>\n",
       "    <tr>\n",
       "      <th>count</th>\n",
       "      <td>193971.000000</td>\n",
       "      <td>193971.000000</td>\n",
       "      <td>193971.000000</td>\n",
       "      <td>193971.000000</td>\n",
       "      <td>193971.000000</td>\n",
       "      <td>193971.000000</td>\n",
       "      <td>193971.000000</td>\n",
       "      <td>193971.000000</td>\n",
       "      <td>193971.000000</td>\n",
       "    </tr>\n",
       "    <tr>\n",
       "      <th>mean</th>\n",
       "      <td>10.095386</td>\n",
       "      <td>-73.979308</td>\n",
       "      <td>40.751392</td>\n",
       "      <td>-73.977284</td>\n",
       "      <td>40.751418</td>\n",
       "      <td>1.514979</td>\n",
       "      <td>2011.747921</td>\n",
       "      <td>3.048719</td>\n",
       "      <td>2.940346</td>\n",
       "    </tr>\n",
       "    <tr>\n",
       "      <th>std</th>\n",
       "      <td>5.422990</td>\n",
       "      <td>0.019448</td>\n",
       "      <td>0.024245</td>\n",
       "      <td>0.021725</td>\n",
       "      <td>0.027312</td>\n",
       "      <td>0.876954</td>\n",
       "      <td>1.859722</td>\n",
       "      <td>1.946754</td>\n",
       "      <td>2.195024</td>\n",
       "    </tr>\n",
       "    <tr>\n",
       "      <th>min</th>\n",
       "      <td>0.010000</td>\n",
       "      <td>-74.029429</td>\n",
       "      <td>40.686248</td>\n",
       "      <td>-74.033030</td>\n",
       "      <td>40.682558</td>\n",
       "      <td>0.000000</td>\n",
       "      <td>2009.000000</td>\n",
       "      <td>0.000000</td>\n",
       "      <td>0.010000</td>\n",
       "    </tr>\n",
       "    <tr>\n",
       "      <th>25%</th>\n",
       "      <td>6.000000</td>\n",
       "      <td>-73.992268</td>\n",
       "      <td>40.736368</td>\n",
       "      <td>-73.991587</td>\n",
       "      <td>40.735241</td>\n",
       "      <td>1.000000</td>\n",
       "      <td>2010.000000</td>\n",
       "      <td>1.000000</td>\n",
       "      <td>1.290000</td>\n",
       "    </tr>\n",
       "    <tr>\n",
       "      <th>50%</th>\n",
       "      <td>8.500000</td>\n",
       "      <td>-73.982117</td>\n",
       "      <td>40.753260</td>\n",
       "      <td>-73.980542</td>\n",
       "      <td>40.753715</td>\n",
       "      <td>1.000000</td>\n",
       "      <td>2012.000000</td>\n",
       "      <td>3.000000</td>\n",
       "      <td>2.190000</td>\n",
       "    </tr>\n",
       "    <tr>\n",
       "      <th>75%</th>\n",
       "      <td>12.500000</td>\n",
       "      <td>-73.968422</td>\n",
       "      <td>40.767513</td>\n",
       "      <td>-73.965453</td>\n",
       "      <td>40.768318</td>\n",
       "      <td>2.000000</td>\n",
       "      <td>2013.000000</td>\n",
       "      <td>5.000000</td>\n",
       "      <td>3.960000</td>\n",
       "    </tr>\n",
       "    <tr>\n",
       "      <th>max</th>\n",
       "      <td>22.250000</td>\n",
       "      <td>-73.929789</td>\n",
       "      <td>40.815702</td>\n",
       "      <td>-73.922034</td>\n",
       "      <td>40.819266</td>\n",
       "      <td>3.500000</td>\n",
       "      <td>2015.000000</td>\n",
       "      <td>6.000000</td>\n",
       "      <td>7.845000</td>\n",
       "    </tr>\n",
       "  </tbody>\n",
       "</table>\n",
       "</div>"
      ],
      "text/plain": [
       "         fare_amount  pickup_longitude  pickup_latitude  dropoff_longitude  \\\n",
       "count  193971.000000     193971.000000    193971.000000      193971.000000   \n",
       "mean       10.095386        -73.979308        40.751392         -73.977284   \n",
       "std         5.422990          0.019448         0.024245           0.021725   \n",
       "min         0.010000        -74.029429        40.686248         -74.033030   \n",
       "25%         6.000000        -73.992268        40.736368         -73.991587   \n",
       "50%         8.500000        -73.982117        40.753260         -73.980542   \n",
       "75%        12.500000        -73.968422        40.767513         -73.965453   \n",
       "max        22.250000        -73.929789        40.815702         -73.922034   \n",
       "\n",
       "       dropoff_latitude  passenger_count           year        weekday  \\\n",
       "count     193971.000000    193971.000000  193971.000000  193971.000000   \n",
       "mean          40.751418         1.514979    2011.747921       3.048719   \n",
       "std            0.027312         0.876954       1.859722       1.946754   \n",
       "min           40.682558         0.000000    2009.000000       0.000000   \n",
       "25%           40.735241         1.000000    2010.000000       1.000000   \n",
       "50%           40.753715         1.000000    2012.000000       3.000000   \n",
       "75%           40.768318         2.000000    2013.000000       5.000000   \n",
       "max           40.819266         3.500000    2015.000000       6.000000   \n",
       "\n",
       "            Distance  \n",
       "count  193971.000000  \n",
       "mean        2.940346  \n",
       "std         2.195024  \n",
       "min         0.010000  \n",
       "25%         1.290000  \n",
       "50%         2.190000  \n",
       "75%         3.960000  \n",
       "max         7.845000  "
      ]
     },
     "execution_count": 30,
     "metadata": {},
     "output_type": "execute_result"
    }
   ],
   "source": [
    "df.describe() #descritive stats of dataset in the transpose form"
   ]
  },
  {
   "cell_type": "code",
   "execution_count": 31,
   "metadata": {
    "colab": {
     "base_uri": "https://localhost:8080/"
    },
    "id": "BPQIynhKYQfW",
    "outputId": "eedbd356-8246-4779-cf66-e0dfcb081501"
   },
   "outputs": [
    {
     "data": {
      "text/plain": [
       "(193971, 10)"
      ]
     },
     "execution_count": 31,
     "metadata": {},
     "output_type": "execute_result"
    }
   ],
   "source": [
    "df.shape"
   ]
  },
  {
   "cell_type": "code",
   "execution_count": 32,
   "metadata": {
    "colab": {
     "base_uri": "https://localhost:8080/",
     "height": 386
    },
    "id": "5kYdyudh35cj",
    "outputId": "40eead2c-87e7-4e89-ab12-53d62d113af5"
   },
   "outputs": [
    {
     "name": "stderr",
     "output_type": "stream",
     "text": [
      "C:\\Users\\Shreyas\\AppData\\Local\\Temp\\ipykernel_12680\\3379373121.py:1: FutureWarning: The default value of numeric_only in DataFrame.corr is deprecated. In a future version, it will default to False. Select only valid columns or specify the value of numeric_only to silence this warning.\n",
      "  corr = df.corr()\n"
     ]
    },
    {
     "data": {
      "text/html": [
       "<style type=\"text/css\">\n",
       "#T_d2b19_row0_col0, #T_d2b19_row1_col1, #T_d2b19_row2_col2, #T_d2b19_row3_col3, #T_d2b19_row4_col4, #T_d2b19_row5_col5, #T_d2b19_row6_col6, #T_d2b19_row7_col7, #T_d2b19_row8_col8 {\n",
       "  background-color: #7f2704;\n",
       "  color: #f1f1f1;\n",
       "}\n",
       "#T_d2b19_row0_col1 {\n",
       "  background-color: #fddbb8;\n",
       "  color: #000000;\n",
       "}\n",
       "#T_d2b19_row0_col2, #T_d2b19_row0_col4, #T_d2b19_row1_col5, #T_d2b19_row2_col5, #T_d2b19_row2_col6, #T_d2b19_row2_col7, #T_d2b19_row2_col8, #T_d2b19_row4_col0, #T_d2b19_row5_col3, #T_d2b19_row7_col1, #T_d2b19_row8_col2 {\n",
       "  background-color: #fff5eb;\n",
       "  color: #000000;\n",
       "}\n",
       "#T_d2b19_row0_col3, #T_d2b19_row6_col0 {\n",
       "  background-color: #fdd1a4;\n",
       "  color: #000000;\n",
       "}\n",
       "#T_d2b19_row0_col5, #T_d2b19_row8_col6 {\n",
       "  background-color: #fff1e4;\n",
       "  color: #000000;\n",
       "}\n",
       "#T_d2b19_row0_col6 {\n",
       "  background-color: #fee1c4;\n",
       "  color: #000000;\n",
       "}\n",
       "#T_d2b19_row0_col7 {\n",
       "  background-color: #ffeede;\n",
       "  color: #000000;\n",
       "}\n",
       "#T_d2b19_row0_col8, #T_d2b19_row8_col0 {\n",
       "  background-color: #a03403;\n",
       "  color: #f1f1f1;\n",
       "}\n",
       "#T_d2b19_row1_col0 {\n",
       "  background-color: #fdcb9b;\n",
       "  color: #000000;\n",
       "}\n",
       "#T_d2b19_row1_col2 {\n",
       "  background-color: #fd9344;\n",
       "  color: #000000;\n",
       "}\n",
       "#T_d2b19_row1_col3, #T_d2b19_row3_col8 {\n",
       "  background-color: #fdb576;\n",
       "  color: #000000;\n",
       "}\n",
       "#T_d2b19_row1_col4 {\n",
       "  background-color: #fdc590;\n",
       "  color: #000000;\n",
       "}\n",
       "#T_d2b19_row1_col6, #T_d2b19_row8_col4, #T_d2b19_row8_col5 {\n",
       "  background-color: #fff2e6;\n",
       "  color: #000000;\n",
       "}\n",
       "#T_d2b19_row1_col7 {\n",
       "  background-color: #fff3e7;\n",
       "  color: #000000;\n",
       "}\n",
       "#T_d2b19_row1_col8, #T_d2b19_row3_col2 {\n",
       "  background-color: #fdcd9c;\n",
       "  color: #000000;\n",
       "}\n",
       "#T_d2b19_row2_col0, #T_d2b19_row4_col8, #T_d2b19_row5_col1 {\n",
       "  background-color: #fff4e8;\n",
       "  color: #000000;\n",
       "}\n",
       "#T_d2b19_row2_col1 {\n",
       "  background-color: #fd9f56;\n",
       "  color: #000000;\n",
       "}\n",
       "#T_d2b19_row2_col3 {\n",
       "  background-color: #fedcbb;\n",
       "  color: #000000;\n",
       "}\n",
       "#T_d2b19_row2_col4 {\n",
       "  background-color: #fc8937;\n",
       "  color: #f1f1f1;\n",
       "}\n",
       "#T_d2b19_row3_col0 {\n",
       "  background-color: #fdba7f;\n",
       "  color: #000000;\n",
       "}\n",
       "#T_d2b19_row3_col1 {\n",
       "  background-color: #fdb373;\n",
       "  color: #000000;\n",
       "}\n",
       "#T_d2b19_row3_col4 {\n",
       "  background-color: #fd974a;\n",
       "  color: #000000;\n",
       "}\n",
       "#T_d2b19_row3_col5, #T_d2b19_row4_col5, #T_d2b19_row4_col6, #T_d2b19_row5_col6, #T_d2b19_row6_col5, #T_d2b19_row7_col3 {\n",
       "  background-color: #fff5ea;\n",
       "  color: #000000;\n",
       "}\n",
       "#T_d2b19_row3_col6 {\n",
       "  background-color: #fff2e5;\n",
       "  color: #000000;\n",
       "}\n",
       "#T_d2b19_row3_col7 {\n",
       "  background-color: #fff0e2;\n",
       "  color: #000000;\n",
       "}\n",
       "#T_d2b19_row4_col1 {\n",
       "  background-color: #fdd6ae;\n",
       "  color: #000000;\n",
       "}\n",
       "#T_d2b19_row4_col2 {\n",
       "  background-color: #fc8b3a;\n",
       "  color: #f1f1f1;\n",
       "}\n",
       "#T_d2b19_row4_col3 {\n",
       "  background-color: #fda863;\n",
       "  color: #000000;\n",
       "}\n",
       "#T_d2b19_row4_col7 {\n",
       "  background-color: #fff4e9;\n",
       "  color: #000000;\n",
       "}\n",
       "#T_d2b19_row5_col0 {\n",
       "  background-color: #fee5cb;\n",
       "  color: #000000;\n",
       "}\n",
       "#T_d2b19_row5_col2, #T_d2b19_row5_col7 {\n",
       "  background-color: #feead6;\n",
       "  color: #000000;\n",
       "}\n",
       "#T_d2b19_row5_col4, #T_d2b19_row6_col4 {\n",
       "  background-color: #fee8d2;\n",
       "  color: #000000;\n",
       "}\n",
       "#T_d2b19_row5_col8 {\n",
       "  background-color: #fee7d1;\n",
       "  color: #000000;\n",
       "}\n",
       "#T_d2b19_row6_col1 {\n",
       "  background-color: #fff1e3;\n",
       "  color: #000000;\n",
       "}\n",
       "#T_d2b19_row6_col2 {\n",
       "  background-color: #feead5;\n",
       "  color: #000000;\n",
       "}\n",
       "#T_d2b19_row6_col3, #T_d2b19_row7_col6 {\n",
       "  background-color: #fff3e6;\n",
       "  color: #000000;\n",
       "}\n",
       "#T_d2b19_row6_col7 {\n",
       "  background-color: #ffefe0;\n",
       "  color: #000000;\n",
       "}\n",
       "#T_d2b19_row6_col8 {\n",
       "  background-color: #fee6cf;\n",
       "  color: #000000;\n",
       "}\n",
       "#T_d2b19_row7_col0, #T_d2b19_row7_col8 {\n",
       "  background-color: #fee5cc;\n",
       "  color: #000000;\n",
       "}\n",
       "#T_d2b19_row7_col2, #T_d2b19_row7_col5, #T_d2b19_row8_col7 {\n",
       "  background-color: #feeddc;\n",
       "  color: #000000;\n",
       "}\n",
       "#T_d2b19_row7_col4 {\n",
       "  background-color: #feebd7;\n",
       "  color: #000000;\n",
       "}\n",
       "#T_d2b19_row8_col1 {\n",
       "  background-color: #fdd9b5;\n",
       "  color: #000000;\n",
       "}\n",
       "#T_d2b19_row8_col3 {\n",
       "  background-color: #fdc895;\n",
       "  color: #000000;\n",
       "}\n",
       "</style>\n",
       "<table id=\"T_d2b19\">\n",
       "  <thead>\n",
       "    <tr>\n",
       "      <th class=\"blank level0\" >&nbsp;</th>\n",
       "      <th id=\"T_d2b19_level0_col0\" class=\"col_heading level0 col0\" >fare_amount</th>\n",
       "      <th id=\"T_d2b19_level0_col1\" class=\"col_heading level0 col1\" >pickup_longitude</th>\n",
       "      <th id=\"T_d2b19_level0_col2\" class=\"col_heading level0 col2\" >pickup_latitude</th>\n",
       "      <th id=\"T_d2b19_level0_col3\" class=\"col_heading level0 col3\" >dropoff_longitude</th>\n",
       "      <th id=\"T_d2b19_level0_col4\" class=\"col_heading level0 col4\" >dropoff_latitude</th>\n",
       "      <th id=\"T_d2b19_level0_col5\" class=\"col_heading level0 col5\" >passenger_count</th>\n",
       "      <th id=\"T_d2b19_level0_col6\" class=\"col_heading level0 col6\" >year</th>\n",
       "      <th id=\"T_d2b19_level0_col7\" class=\"col_heading level0 col7\" >weekday</th>\n",
       "      <th id=\"T_d2b19_level0_col8\" class=\"col_heading level0 col8\" >Distance</th>\n",
       "    </tr>\n",
       "  </thead>\n",
       "  <tbody>\n",
       "    <tr>\n",
       "      <th id=\"T_d2b19_level0_row0\" class=\"row_heading level0 row0\" >fare_amount</th>\n",
       "      <td id=\"T_d2b19_row0_col0\" class=\"data row0 col0\" >1.000000</td>\n",
       "      <td id=\"T_d2b19_row0_col1\" class=\"data row0 col1\" >0.168744</td>\n",
       "      <td id=\"T_d2b19_row0_col2\" class=\"data row0 col2\" >-0.119346</td>\n",
       "      <td id=\"T_d2b19_row0_col3\" class=\"data row0 col3\" >0.238466</td>\n",
       "      <td id=\"T_d2b19_row0_col4\" class=\"data row0 col4\" >-0.134819</td>\n",
       "      <td id=\"T_d2b19_row0_col5\" class=\"data row0 col5\" >0.017295</td>\n",
       "      <td id=\"T_d2b19_row0_col6\" class=\"data row0 col6\" >0.142253</td>\n",
       "      <td id=\"T_d2b19_row0_col7\" class=\"data row0 col7\" >0.013270</td>\n",
       "      <td id=\"T_d2b19_row0_col8\" class=\"data row0 col8\" >0.879837</td>\n",
       "    </tr>\n",
       "    <tr>\n",
       "      <th id=\"T_d2b19_level0_row1\" class=\"row_heading level0 row1\" >pickup_longitude</th>\n",
       "      <td id=\"T_d2b19_row1_col0\" class=\"data row1 col0\" >0.168744</td>\n",
       "      <td id=\"T_d2b19_row1_col1\" class=\"data row1 col1\" >1.000000</td>\n",
       "      <td id=\"T_d2b19_row1_col2\" class=\"data row1 col2\" >0.417859</td>\n",
       "      <td id=\"T_d2b19_row1_col3\" class=\"data row1 col3\" >0.342570</td>\n",
       "      <td id=\"T_d2b19_row1_col4\" class=\"data row1 col4\" >0.195939</td>\n",
       "      <td id=\"T_d2b19_row1_col5\" class=\"data row1 col5\" >-0.013358</td>\n",
       "      <td id=\"T_d2b19_row1_col6\" class=\"data row1 col6\" >0.013130</td>\n",
       "      <td id=\"T_d2b19_row1_col7\" class=\"data row1 col7\" >-0.026187</td>\n",
       "      <td id=\"T_d2b19_row1_col8\" class=\"data row1 col8\" >0.176578</td>\n",
       "    </tr>\n",
       "    <tr>\n",
       "      <th id=\"T_d2b19_level0_row2\" class=\"row_heading level0 row2\" >pickup_latitude</th>\n",
       "      <td id=\"T_d2b19_row2_col0\" class=\"data row2 col0\" >-0.119346</td>\n",
       "      <td id=\"T_d2b19_row2_col1\" class=\"data row2 col1\" >0.417859</td>\n",
       "      <td id=\"T_d2b19_row2_col2\" class=\"data row2 col2\" >1.000000</td>\n",
       "      <td id=\"T_d2b19_row2_col3\" class=\"data row2 col3\" >0.175794</td>\n",
       "      <td id=\"T_d2b19_row2_col4\" class=\"data row2 col4\" >0.446075</td>\n",
       "      <td id=\"T_d2b19_row2_col5\" class=\"data row2 col5\" >-0.015487</td>\n",
       "      <td id=\"T_d2b19_row2_col6\" class=\"data row2 col6\" >-0.014102</td>\n",
       "      <td id=\"T_d2b19_row2_col7\" class=\"data row2 col7\" >-0.045406</td>\n",
       "      <td id=\"T_d2b19_row2_col8\" class=\"data row2 col8\" >-0.117764</td>\n",
       "    </tr>\n",
       "    <tr>\n",
       "      <th id=\"T_d2b19_level0_row3\" class=\"row_heading level0 row3\" >dropoff_longitude</th>\n",
       "      <td id=\"T_d2b19_row3_col0\" class=\"data row3 col0\" >0.238466</td>\n",
       "      <td id=\"T_d2b19_row3_col1\" class=\"data row3 col1\" >0.342570</td>\n",
       "      <td id=\"T_d2b19_row3_col2\" class=\"data row3 col2\" >0.175794</td>\n",
       "      <td id=\"T_d2b19_row3_col3\" class=\"data row3 col3\" >1.000000</td>\n",
       "      <td id=\"T_d2b19_row3_col4\" class=\"data row3 col4\" >0.392589</td>\n",
       "      <td id=\"T_d2b19_row3_col5\" class=\"data row3 col5\" >-0.009124</td>\n",
       "      <td id=\"T_d2b19_row3_col6\" class=\"data row3 col6\" >0.013989</td>\n",
       "      <td id=\"T_d2b19_row3_col7\" class=\"data row3 col7\" >-0.003155</td>\n",
       "      <td id=\"T_d2b19_row3_col8\" class=\"data row3 col8\" >0.272251</td>\n",
       "    </tr>\n",
       "    <tr>\n",
       "      <th id=\"T_d2b19_level0_row4\" class=\"row_heading level0 row4\" >dropoff_latitude</th>\n",
       "      <td id=\"T_d2b19_row4_col0\" class=\"data row4 col0\" >-0.134819</td>\n",
       "      <td id=\"T_d2b19_row4_col1\" class=\"data row4 col1\" >0.195939</td>\n",
       "      <td id=\"T_d2b19_row4_col2\" class=\"data row4 col2\" >0.446075</td>\n",
       "      <td id=\"T_d2b19_row4_col3\" class=\"data row4 col3\" >0.392589</td>\n",
       "      <td id=\"T_d2b19_row4_col4\" class=\"data row4 col4\" >1.000000</td>\n",
       "      <td id=\"T_d2b19_row4_col5\" class=\"data row4 col5\" >-0.008223</td>\n",
       "      <td id=\"T_d2b19_row4_col6\" class=\"data row4 col6\" >-0.008979</td>\n",
       "      <td id=\"T_d2b19_row4_col7\" class=\"data row4 col7\" >-0.033840</td>\n",
       "      <td id=\"T_d2b19_row4_col8\" class=\"data row4 col8\" >-0.104459</td>\n",
       "    </tr>\n",
       "    <tr>\n",
       "      <th id=\"T_d2b19_level0_row5\" class=\"row_heading level0 row5\" >passenger_count</th>\n",
       "      <td id=\"T_d2b19_row5_col0\" class=\"data row5 col0\" >0.017295</td>\n",
       "      <td id=\"T_d2b19_row5_col1\" class=\"data row5 col1\" >-0.013358</td>\n",
       "      <td id=\"T_d2b19_row5_col2\" class=\"data row5 col2\" >-0.015487</td>\n",
       "      <td id=\"T_d2b19_row5_col3\" class=\"data row5 col3\" >-0.009124</td>\n",
       "      <td id=\"T_d2b19_row5_col4\" class=\"data row5 col4\" >-0.008223</td>\n",
       "      <td id=\"T_d2b19_row5_col5\" class=\"data row5 col5\" >1.000000</td>\n",
       "      <td id=\"T_d2b19_row5_col6\" class=\"data row5 col6\" >-0.009403</td>\n",
       "      <td id=\"T_d2b19_row5_col7\" class=\"data row5 col7\" >0.049121</td>\n",
       "      <td id=\"T_d2b19_row5_col8\" class=\"data row5 col8\" >0.009090</td>\n",
       "    </tr>\n",
       "    <tr>\n",
       "      <th id=\"T_d2b19_level0_row6\" class=\"row_heading level0 row6\" >year</th>\n",
       "      <td id=\"T_d2b19_row6_col0\" class=\"data row6 col0\" >0.142253</td>\n",
       "      <td id=\"T_d2b19_row6_col1\" class=\"data row6 col1\" >0.013130</td>\n",
       "      <td id=\"T_d2b19_row6_col2\" class=\"data row6 col2\" >-0.014102</td>\n",
       "      <td id=\"T_d2b19_row6_col3\" class=\"data row6 col3\" >0.013989</td>\n",
       "      <td id=\"T_d2b19_row6_col4\" class=\"data row6 col4\" >-0.008979</td>\n",
       "      <td id=\"T_d2b19_row6_col5\" class=\"data row6 col5\" >-0.009403</td>\n",
       "      <td id=\"T_d2b19_row6_col6\" class=\"data row6 col6\" >1.000000</td>\n",
       "      <td id=\"T_d2b19_row6_col7\" class=\"data row6 col7\" >0.006024</td>\n",
       "      <td id=\"T_d2b19_row6_col8\" class=\"data row6 col8\" >0.021336</td>\n",
       "    </tr>\n",
       "    <tr>\n",
       "      <th id=\"T_d2b19_level0_row7\" class=\"row_heading level0 row7\" >weekday</th>\n",
       "      <td id=\"T_d2b19_row7_col0\" class=\"data row7 col0\" >0.013270</td>\n",
       "      <td id=\"T_d2b19_row7_col1\" class=\"data row7 col1\" >-0.026187</td>\n",
       "      <td id=\"T_d2b19_row7_col2\" class=\"data row7 col2\" >-0.045406</td>\n",
       "      <td id=\"T_d2b19_row7_col3\" class=\"data row7 col3\" >-0.003155</td>\n",
       "      <td id=\"T_d2b19_row7_col4\" class=\"data row7 col4\" >-0.033840</td>\n",
       "      <td id=\"T_d2b19_row7_col5\" class=\"data row7 col5\" >0.049121</td>\n",
       "      <td id=\"T_d2b19_row7_col6\" class=\"data row7 col6\" >0.006024</td>\n",
       "      <td id=\"T_d2b19_row7_col7\" class=\"data row7 col7\" >1.000000</td>\n",
       "      <td id=\"T_d2b19_row7_col8\" class=\"data row7 col8\" >0.027966</td>\n",
       "    </tr>\n",
       "    <tr>\n",
       "      <th id=\"T_d2b19_level0_row8\" class=\"row_heading level0 row8\" >Distance</th>\n",
       "      <td id=\"T_d2b19_row8_col0\" class=\"data row8 col0\" >0.879837</td>\n",
       "      <td id=\"T_d2b19_row8_col1\" class=\"data row8 col1\" >0.176578</td>\n",
       "      <td id=\"T_d2b19_row8_col2\" class=\"data row8 col2\" >-0.117764</td>\n",
       "      <td id=\"T_d2b19_row8_col3\" class=\"data row8 col3\" >0.272251</td>\n",
       "      <td id=\"T_d2b19_row8_col4\" class=\"data row8 col4\" >-0.104459</td>\n",
       "      <td id=\"T_d2b19_row8_col5\" class=\"data row8 col5\" >0.009090</td>\n",
       "      <td id=\"T_d2b19_row8_col6\" class=\"data row8 col6\" >0.021336</td>\n",
       "      <td id=\"T_d2b19_row8_col7\" class=\"data row8 col7\" >0.027966</td>\n",
       "      <td id=\"T_d2b19_row8_col8\" class=\"data row8 col8\" >1.000000</td>\n",
       "    </tr>\n",
       "  </tbody>\n",
       "</table>\n"
      ],
      "text/plain": [
       "<pandas.io.formats.style.Styler at 0x1d806022350>"
      ]
     },
     "execution_count": 32,
     "metadata": {},
     "output_type": "execute_result"
    }
   ],
   "source": [
    "corr = df.corr()\n",
    "corr.style.background_gradient(cmap='Oranges')"
   ]
  },
  {
   "cell_type": "code",
   "execution_count": 33,
   "metadata": {
    "colab": {
     "base_uri": "https://localhost:8080/",
     "height": 487
    },
    "id": "d-RaelSPJ9pH",
    "outputId": "a6a9835f-3182-4285-d9a5-b7bd6317bd4b"
   },
   "outputs": [
    {
     "data": {
      "image/png": "[encoded data removed]",
      "text/plain": [
       "<Figure size 1000x500 with 1 Axes>"
      ]
     },
     "metadata": {},
     "output_type": "display_data"
    }
   ],
   "source": [
    "# Set the figure size, grid type, and color palette\n",
    "plt.figure(figsize=(10, 5))\n",
    "sns.set_style(\"whitegrid\")\n",
    "sns.set_palette(\"Set2\")\n",
    "\n",
    "# Set the title\n",
    "plt.title('Cab trips count during weekdays')\n",
    "\n",
    "# Plot the countplot for weekdays\n",
    "sns.countplot(x='Hourly_Segments', data=df.loc[(df.weekday >= 0) & (df.weekday <= 4)])\n",
    "\n",
    "# Show the plot\n",
    "plt.show()"
   ]
  },
  {
   "cell_type": "code",
   "execution_count": 35,
   "metadata": {
    "colab": {
     "base_uri": "https://localhost:8080/",
     "height": 487
    },
    "id": "uXeHwaiVM7y_",
    "outputId": "45d4458a-8627-4f00-a2ff-e8cb3a114d1a"
   },
   "outputs": [
    {
     "data": {
      "image/png": "[encoded data removed]",
      "text/plain": [
       "<Figure size 1000x500 with 1 Axes>"
      ]
     },
     "metadata": {},
     "output_type": "display_data"
    }
   ],
   "source": [
    "# Set the figure size, grid type, and color palette\n",
    "plt.figure(figsize=(10, 5))\n",
    "sns.set_style(\"whitegrid\")\n",
    "sns.set_palette(\"Set2\")\n",
    "\n",
    "# Set the title\n",
    "plt.title('Cab trips count during weekends')\n",
    "\n",
    "# Plot the countplot for weekends\n",
    "sns.countplot(x='Hourly_Segments', data=df.loc[(df.weekday >= 5) & (df.weekday <= 6)])\n",
    "\n",
    "# Show the plot\n",
    "plt.show()"
   ]
  },
  {
   "cell_type": "code",
   "execution_count": 36,
   "metadata": {
    "id": "QylqgGDQN14K"
   },
   "outputs": [],
   "source": [
    "# Filter the dataset for weekdays and weekends\n",
    "week_days = df.loc[(df.weekday >= 0) & (df.weekday <= 4)]\n",
    "week_ends = df.loc[(df.weekday >= 5) & (df.weekday <= 6)]\n",
    "\n",
    "# Compute the mean fare amount for weekdays and weekends\n",
    "week_days_fare = week_days.groupby('Hourly_Segments')['fare_amount'].mean().reset_index()\n",
    "week_ends_fare = week_ends.groupby('Hourly_Segments')['fare_amount'].mean().reset_index()"
   ]
  },
  {
   "cell_type": "code",
   "execution_count": 37,
   "metadata": {
    "colab": {
     "base_uri": "https://localhost:8080/",
     "height": 237
    },
    "id": "4oLxwxtt47zv",
    "outputId": "3b6e9111-22aa-477a-b07c-90936533a41c"
   },
   "outputs": [
    {
     "data": {
      "text/html": [
       "<div>\n",
       "<style scoped>\n",
       "    .dataframe tbody tr th:only-of-type {\n",
       "        vertical-align: middle;\n",
       "    }\n",
       "\n",
       "    .dataframe tbody tr th {\n",
       "        vertical-align: top;\n",
       "    }\n",
       "\n",
       "    .dataframe thead th {\n",
       "        text-align: right;\n",
       "    }\n",
       "</style>\n",
       "<table border=\"1\" class=\"dataframe\">\n",
       "  <thead>\n",
       "    <tr style=\"text-align: right;\">\n",
       "      <th></th>\n",
       "      <th>Hourly_Segments</th>\n",
       "      <th>fare_amount</th>\n",
       "    </tr>\n",
       "  </thead>\n",
       "  <tbody>\n",
       "    <tr>\n",
       "      <th>0</th>\n",
       "      <td>H1</td>\n",
       "      <td>10.660578</td>\n",
       "    </tr>\n",
       "    <tr>\n",
       "      <th>1</th>\n",
       "      <td>H2</td>\n",
       "      <td>10.100999</td>\n",
       "    </tr>\n",
       "    <tr>\n",
       "      <th>2</th>\n",
       "      <td>H3</td>\n",
       "      <td>9.975095</td>\n",
       "    </tr>\n",
       "    <tr>\n",
       "      <th>3</th>\n",
       "      <td>H4</td>\n",
       "      <td>10.147620</td>\n",
       "    </tr>\n",
       "    <tr>\n",
       "      <th>4</th>\n",
       "      <td>H5</td>\n",
       "      <td>9.877003</td>\n",
       "    </tr>\n",
       "    <tr>\n",
       "      <th>5</th>\n",
       "      <td>H6</td>\n",
       "      <td>10.126527</td>\n",
       "    </tr>\n",
       "  </tbody>\n",
       "</table>\n",
       "</div>"
      ],
      "text/plain": [
       "  Hourly_Segments  fare_amount\n",
       "0              H1    10.660578\n",
       "1              H2    10.100999\n",
       "2              H3     9.975095\n",
       "3              H4    10.147620\n",
       "4              H5     9.877003\n",
       "5              H6    10.126527"
      ]
     },
     "execution_count": 37,
     "metadata": {},
     "output_type": "execute_result"
    }
   ],
   "source": [
    "week_days_fare"
   ]
  },
  {
   "cell_type": "code",
   "execution_count": 38,
   "metadata": {
    "colab": {
     "base_uri": "https://localhost:8080/",
     "height": 237
    },
    "id": "Iv5HdF-g5Bah",
    "outputId": "18dfb2eb-f0e1-4fc5-c1fe-5a4ad2a51ed1"
   },
   "outputs": [
    {
     "data": {
      "text/html": [
       "<div>\n",
       "<style scoped>\n",
       "    .dataframe tbody tr th:only-of-type {\n",
       "        vertical-align: middle;\n",
       "    }\n",
       "\n",
       "    .dataframe tbody tr th {\n",
       "        vertical-align: top;\n",
       "    }\n",
       "\n",
       "    .dataframe thead th {\n",
       "        text-align: right;\n",
       "    }\n",
       "</style>\n",
       "<table border=\"1\" class=\"dataframe\">\n",
       "  <thead>\n",
       "    <tr style=\"text-align: right;\">\n",
       "      <th></th>\n",
       "      <th>Hourly_Segments</th>\n",
       "      <th>fare_amount</th>\n",
       "    </tr>\n",
       "  </thead>\n",
       "  <tbody>\n",
       "    <tr>\n",
       "      <th>0</th>\n",
       "      <td>H1</td>\n",
       "      <td>10.533564</td>\n",
       "    </tr>\n",
       "    <tr>\n",
       "      <th>1</th>\n",
       "      <td>H2</td>\n",
       "      <td>11.369094</td>\n",
       "    </tr>\n",
       "    <tr>\n",
       "      <th>2</th>\n",
       "      <td>H3</td>\n",
       "      <td>9.514333</td>\n",
       "    </tr>\n",
       "    <tr>\n",
       "      <th>3</th>\n",
       "      <td>H4</td>\n",
       "      <td>9.969476</td>\n",
       "    </tr>\n",
       "    <tr>\n",
       "      <th>4</th>\n",
       "      <td>H5</td>\n",
       "      <td>9.996106</td>\n",
       "    </tr>\n",
       "    <tr>\n",
       "      <th>5</th>\n",
       "      <td>H6</td>\n",
       "      <td>10.089233</td>\n",
       "    </tr>\n",
       "  </tbody>\n",
       "</table>\n",
       "</div>"
      ],
      "text/plain": [
       "  Hourly_Segments  fare_amount\n",
       "0              H1    10.533564\n",
       "1              H2    11.369094\n",
       "2              H3     9.514333\n",
       "3              H4     9.969476\n",
       "4              H5     9.996106\n",
       "5              H6    10.089233"
      ]
     },
     "execution_count": 38,
     "metadata": {},
     "output_type": "execute_result"
    }
   ],
   "source": [
    "week_ends_fare"
   ]
  },
  {
   "cell_type": "code",
   "execution_count": 39,
   "metadata": {
    "colab": {
     "base_uri": "https://localhost:8080/",
     "height": 564
    },
    "id": "adZ2_6GyVdVh",
    "outputId": "572fbbfb-6bd0-4323-ed86-86e906a68a40"
   },
   "outputs": [
    {
     "data": {
      "image/png": "[encoded data removed]",
      "text/plain": [
       "<Figure size 1200x600 with 1 Axes>"
      ]
     },
     "metadata": {},
     "output_type": "display_data"
    }
   ],
   "source": [
    "# Set the figure size, grid type, and color palette\n",
    "plt.figure(figsize=(12, 6))\n",
    "sns.set_style(\"whitegrid\")\n",
    "sns.set_palette(\"Set2\")\n",
    "plt.title('Mean Fare Amount Comparison - Weekdays vs Weekends')\n",
    "bar_width = 0.35\n",
    "\n",
    "# Plot the bar plot for weekdays\n",
    "plt.bar(week_days_fare['Hourly_Segments'], week_days_fare['fare_amount'], width=bar_width, color='blue', align='center', label='Weekdays')\n",
    "\n",
    "# Plot the bar plot for weekends\n",
    "plt.bar(week_ends_fare['Hourly_Segments'], week_ends_fare['fare_amount'], width=bar_width, color='orange', align='edge', label='Weekends')\n",
    "\n",
    "# Set the x-axis label\n",
    "plt.xlabel('Hourly Segments')\n",
    "\n",
    "# Set the y-axis label\n",
    "plt.ylabel('Mean Fare Amount')\n",
    "\n",
    "# Set the legend\n",
    "plt.legend()\n",
    "\n",
    "# Show the plot\n",
    "plt.show()"
   ]
  },
  {
   "cell_type": "code",
   "execution_count": 40,
   "metadata": {
    "colab": {
     "base_uri": "https://localhost:8080/",
     "height": 523
    },
    "id": "L1qQwVUGWjRc",
    "outputId": "ef5c804a-c242-412b-eabf-347113775fdc"
   },
   "outputs": [
    {
     "name": "stderr",
     "output_type": "stream",
     "text": [
      "C:\\Users\\Shreyas\\anaconda3\\Lib\\site-packages\\seaborn\\axisgrid.py:118: UserWarning: The figure layout has changed to tight\n",
      "  self._figure.tight_layout(*args, **kwargs)\n"
     ]
    },
    {
     "data": {
      "text/plain": [
       "<seaborn.axisgrid.FacetGrid at 0x1d802059590>"
      ]
     },
     "execution_count": 40,
     "metadata": {},
     "output_type": "execute_result"
    },
    {
     "data": {
      "image/png": "[encoded data removed]",
      "text/plain": [
       "<Figure size 500x500 with 1 Axes>"
      ]
     },
     "metadata": {},
     "output_type": "display_data"
    }
   ],
   "source": [
    "sns.displot(df['fare_amount'])"
   ]
  },
  {
   "cell_type": "code",
   "execution_count": 41,
   "metadata": {
    "id": "0V79ryKSl58r"
   },
   "outputs": [],
   "source": [
    "from sklearn.preprocessing import LabelEncoder\n",
    "le = LabelEncoder()\n",
    "df['Hourly_Segments'] = le.fit_transform(df['Hourly_Segments'])"
   ]
  },
  {
   "cell_type": "code",
   "execution_count": 42,
   "metadata": {
    "colab": {
     "base_uri": "https://localhost:8080/"
    },
    "id": "Guv92yqQ9ctM",
    "outputId": "780ebdbe-fba7-4024-f62a-a701d5a88047"
   },
   "outputs": [
    {
     "data": {
      "text/plain": [
       "5    42711\n",
       "4    41380\n",
       "3    38183\n",
       "2    35717\n",
       "0    20763\n",
       "1    15217\n",
       "Name: Hourly_Segments, dtype: int64"
      ]
     },
     "execution_count": 42,
     "metadata": {},
     "output_type": "execute_result"
    }
   ],
   "source": [
    "df['Hourly_Segments'].value_counts()"
   ]
  },
  {
   "cell_type": "code",
   "execution_count": 43,
   "metadata": {
    "colab": {
     "base_uri": "https://localhost:8080/",
     "height": 226
    },
    "id": "ZQxoT2HqmNmp",
    "outputId": "99a80985-c095-4ac0-b7dc-be2758e0eb12"
   },
   "outputs": [
    {
     "data": {
      "text/html": [
       "<div>\n",
       "<style scoped>\n",
       "    .dataframe tbody tr th:only-of-type {\n",
       "        vertical-align: middle;\n",
       "    }\n",
       "\n",
       "    .dataframe tbody tr th {\n",
       "        vertical-align: top;\n",
       "    }\n",
       "\n",
       "    .dataframe thead th {\n",
       "        text-align: right;\n",
       "    }\n",
       "</style>\n",
       "<table border=\"1\" class=\"dataframe\">\n",
       "  <thead>\n",
       "    <tr style=\"text-align: right;\">\n",
       "      <th></th>\n",
       "      <th>fare_amount</th>\n",
       "      <th>pickup_longitude</th>\n",
       "      <th>pickup_latitude</th>\n",
       "      <th>dropoff_longitude</th>\n",
       "      <th>dropoff_latitude</th>\n",
       "      <th>passenger_count</th>\n",
       "      <th>year</th>\n",
       "      <th>weekday</th>\n",
       "      <th>Hourly_Segments</th>\n",
       "      <th>Distance</th>\n",
       "    </tr>\n",
       "  </thead>\n",
       "  <tbody>\n",
       "    <tr>\n",
       "      <th>0</th>\n",
       "      <td>7.5</td>\n",
       "      <td>-73.999817</td>\n",
       "      <td>40.738354</td>\n",
       "      <td>-73.999512</td>\n",
       "      <td>40.723217</td>\n",
       "      <td>1.0</td>\n",
       "      <td>2015</td>\n",
       "      <td>3</td>\n",
       "      <td>4</td>\n",
       "      <td>1.68</td>\n",
       "    </tr>\n",
       "    <tr>\n",
       "      <th>1</th>\n",
       "      <td>7.7</td>\n",
       "      <td>-73.994355</td>\n",
       "      <td>40.728225</td>\n",
       "      <td>-73.994710</td>\n",
       "      <td>40.750325</td>\n",
       "      <td>1.0</td>\n",
       "      <td>2009</td>\n",
       "      <td>4</td>\n",
       "      <td>5</td>\n",
       "      <td>2.45</td>\n",
       "    </tr>\n",
       "    <tr>\n",
       "      <th>2</th>\n",
       "      <td>12.9</td>\n",
       "      <td>-74.005043</td>\n",
       "      <td>40.740770</td>\n",
       "      <td>-73.962565</td>\n",
       "      <td>40.772647</td>\n",
       "      <td>1.0</td>\n",
       "      <td>2009</td>\n",
       "      <td>0</td>\n",
       "      <td>5</td>\n",
       "      <td>5.04</td>\n",
       "    </tr>\n",
       "    <tr>\n",
       "      <th>3</th>\n",
       "      <td>5.3</td>\n",
       "      <td>-73.976124</td>\n",
       "      <td>40.790844</td>\n",
       "      <td>-73.965316</td>\n",
       "      <td>40.803349</td>\n",
       "      <td>3.0</td>\n",
       "      <td>2009</td>\n",
       "      <td>4</td>\n",
       "      <td>2</td>\n",
       "      <td>1.66</td>\n",
       "    </tr>\n",
       "    <tr>\n",
       "      <th>4</th>\n",
       "      <td>16.0</td>\n",
       "      <td>-73.929789</td>\n",
       "      <td>40.744085</td>\n",
       "      <td>-73.973082</td>\n",
       "      <td>40.761247</td>\n",
       "      <td>3.5</td>\n",
       "      <td>2014</td>\n",
       "      <td>3</td>\n",
       "      <td>4</td>\n",
       "      <td>4.48</td>\n",
       "    </tr>\n",
       "  </tbody>\n",
       "</table>\n",
       "</div>"
      ],
      "text/plain": [
       "   fare_amount  pickup_longitude  pickup_latitude  dropoff_longitude  \\\n",
       "0          7.5        -73.999817        40.738354         -73.999512   \n",
       "1          7.7        -73.994355        40.728225         -73.994710   \n",
       "2         12.9        -74.005043        40.740770         -73.962565   \n",
       "3          5.3        -73.976124        40.790844         -73.965316   \n",
       "4         16.0        -73.929789        40.744085         -73.973082   \n",
       "\n",
       "   dropoff_latitude  passenger_count  year  weekday  Hourly_Segments  Distance  \n",
       "0         40.723217              1.0  2015        3                4      1.68  \n",
       "1         40.750325              1.0  2009        4                5      2.45  \n",
       "2         40.772647              1.0  2009        0                5      5.04  \n",
       "3         40.803349              3.0  2009        4                2      1.66  \n",
       "4         40.761247              3.5  2014        3                4      4.48  "
      ]
     },
     "execution_count": 43,
     "metadata": {},
     "output_type": "execute_result"
    }
   ],
   "source": [
    "df.head()"
   ]
  },
  {
   "cell_type": "code",
   "execution_count": 44,
   "metadata": {
    "id": "tnjrUSpT-e9R"
   },
   "outputs": [],
   "source": [
    "from sklearn.linear_model import LinearRegression\n",
    "from sklearn.metrics import r2_score, mean_squared_error\n",
    "from sklearn.model_selection import train_test_split\n",
    "X = df.drop('fare_amount', axis=1) # independent variable\n",
    "y = df['fare_amount'] #target variable\n",
    "\n",
    "X_train, X_test, y_train, y_test = train_test_split(X, y, test_size=0.2, random_state=42)"
   ]
  },
  {
   "cell_type": "code",
   "execution_count": 45,
   "metadata": {
    "colab": {
     "base_uri": "https://localhost:8080/",
     "height": 74
    },
    "id": "MHLN7ff_VkpB",
    "outputId": "647bc604-36b2-4c92-f789-e1f248b133b6"
   },
   "outputs": [
    {
     "data": {
      "text/html": [
       "<style>#sk-container-id-1 {color: black;background-color: white;}#sk-container-id-1 pre{padding: 0;}#sk-container-id-1 div.sk-toggleable {background-color: white;}#sk-container-id-1 label.sk-toggleable__label {cursor: pointer;display: block;width: 100%;margin-bottom: 0;padding: 0.3em;box-sizing: border-box;text-align: center;}#sk-container-id-1 label.sk-toggleable__label-arrow:before {content: \"▸\";float: left;margin-right: 0.25em;color: #696969;}#sk-container-id-1 label.sk-toggleable__label-arrow:hover:before {color: black;}#sk-container-id-1 div.sk-estimator:hover label.sk-toggleable__label-arrow:before {color: black;}#sk-container-id-1 div.sk-toggleable__content {max-height: 0;max-width: 0;overflow: hidden;text-align: left;background-color: #f0f8ff;}#sk-container-id-1 div.sk-toggleable__content pre {margin: 0.2em;color: black;border-radius: 0.25em;background-color: #f0f8ff;}#sk-container-id-1 input.sk-toggleable__control:checked~div.sk-toggleable__content {max-height: 200px;max-width: 100%;overflow: auto;}#sk-container-id-1 input.sk-toggleable__control:checked~label.sk-toggleable__label-arrow:before {content: \"▾\";}#sk-container-id-1 div.sk-estimator input.sk-toggleable__control:checked~label.sk-toggleable__label {background-color: #d4ebff;}#sk-container-id-1 div.sk-label input.sk-toggleable__control:checked~label.sk-toggleable__label {background-color: #d4ebff;}#sk-container-id-1 input.sk-hidden--visually {border: 0;clip: rect(1px 1px 1px 1px);clip: rect(1px, 1px, 1px, 1px);height: 1px;margin: -1px;overflow: hidden;padding: 0;position: absolute;width: 1px;}#sk-container-id-1 div.sk-estimator {font-family: monospace;background-color: #f0f8ff;border: 1px dotted black;border-radius: 0.25em;box-sizing: border-box;margin-bottom: 0.5em;}#sk-container-id-1 div.sk-estimator:hover {background-color: #d4ebff;}#sk-container-id-1 div.sk-parallel-item::after {content: \"\";width: 100%;border-bottom: 1px solid gray;flex-grow: 1;}#sk-container-id-1 div.sk-label:hover label.sk-toggleable__label {background-color: #d4ebff;}#sk-container-id-1 div.sk-serial::before {content: \"\";position: absolute;border-left: 1px solid gray;box-sizing: border-box;top: 0;bottom: 0;left: 50%;z-index: 0;}#sk-container-id-1 div.sk-serial {display: flex;flex-direction: column;align-items: center;background-color: white;padding-right: 0.2em;padding-left: 0.2em;position: relative;}#sk-container-id-1 div.sk-item {position: relative;z-index: 1;}#sk-container-id-1 div.sk-parallel {display: flex;align-items: stretch;justify-content: center;background-color: white;position: relative;}#sk-container-id-1 div.sk-item::before, #sk-container-id-1 div.sk-parallel-item::before {content: \"\";position: absolute;border-left: 1px solid gray;box-sizing: border-box;top: 0;bottom: 0;left: 50%;z-index: -1;}#sk-container-id-1 div.sk-parallel-item {display: flex;flex-direction: column;z-index: 1;position: relative;background-color: white;}#sk-container-id-1 div.sk-parallel-item:first-child::after {align-self: flex-end;width: 50%;}#sk-container-id-1 div.sk-parallel-item:last-child::after {align-self: flex-start;width: 50%;}#sk-container-id-1 div.sk-parallel-item:only-child::after {width: 0;}#sk-container-id-1 div.sk-dashed-wrapped {border: 1px dashed gray;margin: 0 0.4em 0.5em 0.4em;box-sizing: border-box;padding-bottom: 0.4em;background-color: white;}#sk-container-id-1 div.sk-label label {font-family: monospace;font-weight: bold;display: inline-block;line-height: 1.2em;}#sk-container-id-1 div.sk-label-container {text-align: center;}#sk-container-id-1 div.sk-container {/* jupyter's `normalize.less` sets `[hidden] { display: none; }` but bootstrap.min.css set `[hidden] { display: none !important; }` so we also need the `!important` here to be able to override the default hidden behavior on the sphinx rendered scikit-learn.org. See: https://github.com/scikit-learn/scikit-learn/issues/21755 */display: inline-block !important;position: relative;}#sk-container-id-1 div.sk-text-repr-fallback {display: none;}</style><div id=\"sk-container-id-1\" class=\"sk-top-container\"><div class=\"sk-text-repr-fallback\"><pre>LinearRegression()</pre><b>In a Jupyter environment, please rerun this cell to show the HTML representation or trust the notebook. <br />On GitHub, the HTML representation is unable to render, please try loading this page with nbviewer.org.</b></div><div class=\"sk-container\" hidden><div class=\"sk-item\"><div class=\"sk-estimator sk-toggleable\"><input class=\"sk-toggleable__control sk-hidden--visually\" id=\"sk-estimator-id-1\" type=\"checkbox\" checked><label for=\"sk-estimator-id-1\" class=\"sk-toggleable__label sk-toggleable__label-arrow\">LinearRegression</label><div class=\"sk-toggleable__content\"><pre>LinearRegression()</pre></div></div></div></div></div>"
      ],
      "text/plain": [
       "LinearRegression()"
      ]
     },
     "execution_count": 45,
     "metadata": {},
     "output_type": "execute_result"
    }
   ],
   "source": [
    "# Creating and training the linear regression model\n",
    "model = LinearRegression() # initializing the object for Linear regression model\n",
    "model.fit(X_train, y_train)"
   ]
  },
  {
   "cell_type": "code",
   "execution_count": 46,
   "metadata": {
    "colab": {
     "base_uri": "https://localhost:8080/"
    },
    "id": "WxjAxEzYWdgW",
    "outputId": "622ff1de-06be-4866-8823-16c22f008f48"
   },
   "outputs": [
    {
     "data": {
      "text/plain": [
       "array([ 8.61395127,  6.14190814, 10.90112464, ...,  6.72912516,\n",
       "       12.55177873,  9.04386645])"
      ]
     },
     "execution_count": 46,
     "metadata": {},
     "output_type": "execute_result"
    }
   ],
   "source": [
    "# Predicting fare amounts on the test set\n",
    "y_pred = model.predict(X_test)\n",
    "y_pred"
   ]
  },
  {
   "cell_type": "code",
   "execution_count": 47,
   "metadata": {
    "colab": {
     "base_uri": "https://localhost:8080/"
    },
    "id": "l0wZO-2pWlb8",
    "outputId": "58c60280-e0be-487d-dabb-39dea14316cc"
   },
   "outputs": [
    {
     "data": {
      "text/plain": [
       "0.7950740607584368"
      ]
     },
     "execution_count": 47,
     "metadata": {},
     "output_type": "execute_result"
    }
   ],
   "source": [
    "# Calculating R^2 score\n",
    "r2 = r2_score(y_test, y_pred)\n",
    "r2"
   ]
  },
  {
   "cell_type": "code",
   "execution_count": 48,
   "metadata": {
    "colab": {
     "base_uri": "https://localhost:8080/"
    },
    "id": "nxKBkkv2W2D_",
    "outputId": "157c94a5-4840-4f43-8568-003baef771fb"
   },
   "outputs": [
    {
     "data": {
      "text/plain": [
       "6.050208794111036"
      ]
     },
     "execution_count": 48,
     "metadata": {},
     "output_type": "execute_result"
    }
   ],
   "source": [
    "# Calculating Mean Squared Error (MSE)\n",
    "mse = mean_squared_error(y_test, y_pred)\n",
    "mse"
   ]
  },
  {
   "cell_type": "code",
   "execution_count": 49,
   "metadata": {
    "id": "FGqM81ciXeVo"
   },
   "outputs": [],
   "source": [
    "def predict_fare(user_inputs):\n",
    "    input_values = [user_inputs['pickup_longitude'], user_inputs['pickup_latitude'],\n",
    "                    user_inputs['dropoff_longitude'], user_inputs['dropoff_latitude'],\n",
    "                    user_inputs['passenger_count'], user_inputs['year'],\n",
    "                    user_inputs['weekday'], user_inputs['Hourly_Segments'],\n",
    "                    user_inputs['Distance']]\n",
    "\n",
    "    fare_prediction = model.predict([input_values])[0]\n",
    "    return fare_prediction"
   ]
  },
  {
   "cell_type": "code",
   "execution_count": 50,
   "metadata": {
    "colab": {
     "base_uri": "https://localhost:8080/"
    },
    "id": "0vqQLm4dXtPS",
    "outputId": "4b22df07-cbdd-4c84-c03f-d94ca2b416ca"
   },
   "outputs": [
    {
     "name": "stderr",
     "output_type": "stream",
     "text": [
      "C:\\Users\\Shreyas\\anaconda3\\Lib\\site-packages\\sklearn\\base.py:439: UserWarning: X does not have valid feature names, but LinearRegression was fitted with feature names\n",
      "  warnings.warn(\n"
     ]
    }
   ],
   "source": [
    "user_inputs = {\n",
    "    'pickup_longitude': -73.9821,\n",
    "    'pickup_latitude': 40.7488,\n",
    "    'dropoff_longitude': -73.9853,\n",
    "    'dropoff_latitude': 40.7550,\n",
    "    'passenger_count': 5,\n",
    "    'year': 2023,\n",
    "    'weekday': 3,\n",
    "    'Hourly_Segments': 10,\n",
    "    'Distance': 2.5\n",
    "}\n",
    "\n",
    "predicted_fare = predict_fare(user_inputs)"
   ]
  },
  {
   "cell_type": "code",
   "execution_count": 51,
   "metadata": {
    "colab": {
     "base_uri": "https://localhost:8080/"
    },
    "id": "X6PaJCEcXvwg",
    "outputId": "c6264dc8-9c0a-40d3-bceb-0b8821a40be4"
   },
   "outputs": [
    {
     "name": "stdout",
     "output_type": "stream",
     "text": [
      "Predicted Fare Amount: 13.672554801631804\n"
     ]
    }
   ],
   "source": [
    "# Printing results\n",
    "print(\"Predicted Fare Amount:\", predicted_fare)"
   ]
  },
  {
   "cell_type": "code",
   "execution_count": null,
   "metadata": {
    "id": "gVbag8rQDyfn"
   },
   "outputs": [],
   "source": [
    "# optimization\n",
    "1. Feature Engineering\n",
    "2. Feature Selection\n",
    "3. Feature Scaling\n",
    "4. Gradient Descent -- don't go for this\n",
    "5. Hyperparametertuning"
   ]
  }
 ],
 "metadata": {
  "colab": {
   "provenance": []
  },
  "kernelspec": {
   "display_name": "Python 3 (ipykernel)",
   "language": "python",
   "name": "python3"
  },
  "language_info": {
   "codemirror_mode": {
    "name": "ipython",
    "version": 3
   },
   "file_extension": ".py",
   "mimetype": "text/x-python",
   "name": "python",
   "nbconvert_exporter": "python",
   "pygments_lexer": "ipython3",
   "version": "3.11.5"
  }
 },
 "nbformat": 4,
 "nbformat_minor": 1
}
